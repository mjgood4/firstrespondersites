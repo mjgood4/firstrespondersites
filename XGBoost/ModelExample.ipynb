{
 "cells": [
  {
   "cell_type": "code",
   "execution_count": 1,
   "id": "9e10b2be",
   "metadata": {},
   "outputs": [],
   "source": [
    "#packages\n",
    "import pandas as pd\n",
    "import numpy as np\n",
    "import warnings\n",
    "import sqlite3\n",
    "\n",
    "from numpy import asarray\n",
    "from numpy import mean\n",
    "from numpy import std\n",
    "from sklearn.datasets import make_regression\n",
    "from sklearn.metrics import accuracy_score\n",
    "from sklearn.model_selection import cross_val_score, RepeatedKFold, train_test_split, GridSearchCV, cross_validate\n",
    "from sklearn.preprocessing import StandardScaler, normalize\n",
    "from sklearn import metrics\n",
    "from xgboost import XGBRFRegressor"
   ]
  },
  {
   "cell_type": "code",
   "execution_count": 2,
   "id": "f43bffce",
   "metadata": {},
   "outputs": [],
   "source": [
    "# hide warnings\n",
    "warnings.filterwarnings('ignore')"
   ]
  },
  {
   "cell_type": "code",
   "execution_count": 3,
   "id": "ed803fcd",
   "metadata": {},
   "outputs": [],
   "source": [
    "def prepare_data():\n",
    "    df = read_data()\n",
    "    df = format_columns(df)\n",
    "    \n",
    "    df = df.groupby([\"zone_idx\",\"day_of_week\", \"dayflag\"], as_index=False).agg({\"accessibility_score\":\"mean\", \"minutes\":\"mean\"})\n",
    "    \n",
    "    return df"
   ]
  },
  {
   "cell_type": "code",
   "execution_count": 4,
   "id": "779095b7",
   "metadata": {},
   "outputs": [],
   "source": [
    "def read_data():\n",
    "    con = sqlite3.connect(\"fire_data_v4.db\")\n",
    "    cur = con.cursor()\n",
    "    \n",
    "    df = pd.read_sql(\"select calls_for_service.analysis_neighborhoods as neighborhood \" \\\n",
    "        \", calls_for_service.call_number \" \\\n",
    "        \", calls_for_service.incident_number \" \\\n",
    "        \", floating_catchment_output.[index] \" \\\n",
    "        \", floating_catchment_output.zone_idx \" \\\n",
    "        \", floating_catchment_output.accessibility_score \" \\\n",
    "        \", floating_catchment_output.scenario_name \" \\\n",
    "        \", calls_for_service.on_scene_dttm \" \\\n",
    "        \", calls_for_service.response_dttm   \" \\\n",
    "        \", category_mappings.[index] as primary_situation_index \" \\\n",
    "        \"from floating_catchment_output \" \\\n",
    "        \"inner join zone_idx_to_incident on  \" \\\n",
    "        \"zone_idx_to_incident.zone_idx = floating_catchment_output.zone_idx \" \\\n",
    "        \"inner join calls_for_service on calls_for_service.incident_number = zone_idx_to_incident.incident_number \" \\\n",
    "        \"left join fire_incidents AS fi on calls_for_service.incident_number = fi.incident_number \" \\\n",
    "        \"left join category_mappings on fi.primary_situation = category_mappings.primary_situation \" \\\n",
    "        \"where calls_for_service.unit_type in ('TRUCK', 'ENGINE') \" \\\n",
    "        \"and scenario_name = 'baseline'\",con = con)\n",
    "    \n",
    "    return df"
   ]
  },
  {
   "cell_type": "code",
   "execution_count": 5,
   "id": "741c390e",
   "metadata": {},
   "outputs": [],
   "source": [
    "def format_columns(df):\n",
    "    df['on_scene_dttm'] = pd.to_datetime(df['on_scene_dttm'])\n",
    "    df['response_dttm'] = pd.to_datetime(df['response_dttm'])\n",
    "    df['arrival_time'] = (df['on_scene_dttm'] - df['response_dttm'])\n",
    "    df['minutes'] = (df.arrival_time.dt.seconds) / 60\n",
    "    df['seconds'] = (df.arrival_time.dt.seconds) \n",
    "    df['day_of_week'] = df['on_scene_dttm'].dt.dayofweek\n",
    "    df['dayflag'] = (df.response_dttm.dt.hour > 5) & (df.response_dttm.dt.hour < 18)\n",
    "\n",
    "    df = df[df['dayflag'].notna()]\n",
    "    df = df[df['day_of_week'].notna()]\n",
    "    \n",
    "    return df"
   ]
  },
  {
   "cell_type": "code",
   "execution_count": 6,
   "id": "bbffd829",
   "metadata": {
    "scrolled": true
   },
   "outputs": [
    {
     "data": {
      "text/html": [
       "<div>\n",
       "<style scoped>\n",
       "    .dataframe tbody tr th:only-of-type {\n",
       "        vertical-align: middle;\n",
       "    }\n",
       "\n",
       "    .dataframe tbody tr th {\n",
       "        vertical-align: top;\n",
       "    }\n",
       "\n",
       "    .dataframe thead th {\n",
       "        text-align: right;\n",
       "    }\n",
       "</style>\n",
       "<table border=\"1\" class=\"dataframe\">\n",
       "  <thead>\n",
       "    <tr style=\"text-align: right;\">\n",
       "      <th></th>\n",
       "      <th>zone_idx</th>\n",
       "      <th>day_of_week</th>\n",
       "      <th>dayflag</th>\n",
       "      <th>accessibility_score</th>\n",
       "      <th>minutes</th>\n",
       "    </tr>\n",
       "  </thead>\n",
       "  <tbody>\n",
       "    <tr>\n",
       "      <th>0</th>\n",
       "      <td>8</td>\n",
       "      <td>0.0</td>\n",
       "      <td>False</td>\n",
       "      <td>0.000803</td>\n",
       "      <td>7.283333</td>\n",
       "    </tr>\n",
       "    <tr>\n",
       "      <th>1</th>\n",
       "      <td>8</td>\n",
       "      <td>0.0</td>\n",
       "      <td>True</td>\n",
       "      <td>0.000803</td>\n",
       "      <td>7.289506</td>\n",
       "    </tr>\n",
       "    <tr>\n",
       "      <th>2</th>\n",
       "      <td>8</td>\n",
       "      <td>1.0</td>\n",
       "      <td>False</td>\n",
       "      <td>0.000803</td>\n",
       "      <td>2.916667</td>\n",
       "    </tr>\n",
       "    <tr>\n",
       "      <th>3</th>\n",
       "      <td>8</td>\n",
       "      <td>1.0</td>\n",
       "      <td>True</td>\n",
       "      <td>0.000803</td>\n",
       "      <td>14.403333</td>\n",
       "    </tr>\n",
       "    <tr>\n",
       "      <th>4</th>\n",
       "      <td>8</td>\n",
       "      <td>2.0</td>\n",
       "      <td>False</td>\n",
       "      <td>0.000803</td>\n",
       "      <td>3.583333</td>\n",
       "    </tr>\n",
       "  </tbody>\n",
       "</table>\n",
       "</div>"
      ],
      "text/plain": [
       "   zone_idx  day_of_week  dayflag  accessibility_score    minutes\n",
       "0         8          0.0    False             0.000803   7.283333\n",
       "1         8          0.0     True             0.000803   7.289506\n",
       "2         8          1.0    False             0.000803   2.916667\n",
       "3         8          1.0     True             0.000803  14.403333\n",
       "4         8          2.0    False             0.000803   3.583333"
      ]
     },
     "execution_count": 6,
     "metadata": {},
     "output_type": "execute_result"
    }
   ],
   "source": [
    "df = prepare_data()\n",
    "df.head()"
   ]
  },
  {
   "cell_type": "code",
   "execution_count": 7,
   "id": "c5eb27d5",
   "metadata": {},
   "outputs": [],
   "source": [
    "class ModelData:\n",
    "    x = None\n",
    "    y = None\n",
    "    x_train = None\n",
    "    x_test = None\n",
    "    y_train = None\n",
    "    y_test = None\n",
    "\n",
    "    model = None\n",
    "    target_to_predict = None\n",
    "    predictors = None\n",
    "    XGB = None\n",
    "    gscv_XGB = None"
   ]
  },
  {
   "cell_type": "code",
   "execution_count": 8,
   "id": "558b4fb1",
   "metadata": {},
   "outputs": [],
   "source": [
    "def configure_sets(md):\n",
    "    md.predictors = ['zone_idx', 'day_of_week', 'dayflag', 'accessibility_score']\n",
    "    md.target_to_predict = 'minutes'\n",
    "    \n",
    "    md.x = df[md.predictors].values\n",
    "    md.y = df[md.target_to_predict].values\n",
    "\n",
    "    #Split the data into training and testing set\n",
    "    md.x_train, md.x_test, md.y_train, md.y_test = train_test_split(md.x, md.y, test_size = 0.8, random_state = 614)"
   ]
  },
  {
   "cell_type": "code",
   "execution_count": 9,
   "id": "04867005",
   "metadata": {},
   "outputs": [],
   "source": [
    "def create_model(md):    \n",
    "    #md.model = XGBRFRegressor(n_estimators = 500, subsample = 0.9, colsample_bynode = 1, max_depth = 20, learning_rate = 0.1, min_child_weight = 5)\n",
    "    #md.model = XGBRFRegressor(n_estimators = 1000, subsample = 0.9, colsample_bynode = 0.2)\n",
    "    md.model = XGBRFRegressor(n_estimators = 300, subsample = 0.5, colsample_bynode = 0.8, min_child_weight = 3)\n",
    "\n",
    "    #Printing all the parameters of XGBoost\n",
    "    print(md.model)"
   ]
  },
  {
   "cell_type": "code",
   "execution_count": 10,
   "id": "8e51cca0",
   "metadata": {},
   "outputs": [],
   "source": [
    "def tune_hyper_parameters(md):\n",
    "    param_grid = {\n",
    "        'min_child_weight': [1, 3, 5, 7, 10],\n",
    "        'subsample': [0.5, 0.7, 0.9, 1],\n",
    "        'n_estimators': [100, 300, 500, 800, 1000, 2000],\n",
    "        'colsample_bynode': [0.2, 0.5, 0.8, 1]\n",
    "    }\n",
    "\n",
    "    md.gscv_XGB = GridSearchCV(estimator = md.model, param_grid = param_grid)\n",
    "    md.gscv_XGB.fit(md.x_train, md.y_train)\n",
    "    \n",
    "    print(md.gscv_XGB.best_params_)\n",
    "    \n",
    "    ##################################################################\n",
    "    #Runs Results\n",
    "    ##################################################################\n",
    "    \"\"\"#1\n",
    "    run:\n",
    "    param_grid = {\n",
    "        'n_estimators': [100, 1000, 2000]\n",
    "    }\n",
    "    \n",
    "    results:\n",
    "    {'n_estimators': 1000}\n",
    "    \"\"\"\n",
    "    \n",
    "    \"\"\"\n",
    "    #2 For some reason some parameters mess with the results\n",
    "    run:\n",
    "    param_grid = {\n",
    "        'learning_rate': [0.0001, 0.01, 0.1],\n",
    "        'max_depth': [10, 20, 50],\n",
    "        'min_child_weight': [1, 3, 5],\n",
    "        'subsample': [0.5, 0.7, 0.9],\n",
    "        'n_estimators': [500, 800, 1000]\n",
    "    }\n",
    "    \n",
    "    result:\n",
    "    {'learning_rate': 0.1, 'max_depth': 20, 'min_child_weight': 5, 'n_estimators': 500, 'subsample': 0.9}\n",
    "    \n",
    "    \n",
    "    #3\n",
    "    param_grid = {\n",
    "        'min_child_weight': [1, 3, 5, 7, 10],\n",
    "        'subsample': [0.5, 0.7, 0.9, 1],\n",
    "        'n_estimators': [100, 300, 500, 800, 1000, 2000],\n",
    "        'colsample_bynode': [0.2, 0.5, 0.8, 1]\n",
    "    }\n",
    "    \n",
    "    {'colsample_bynode': 0.8, 'min_child_weight': 3, 'n_estimators': 300, 'subsample': 0.5}\n",
    "    \"\"\""
   ]
  },
  {
   "cell_type": "code",
   "execution_count": 11,
   "id": "8c88b186",
   "metadata": {},
   "outputs": [],
   "source": [
    "def fit_data(md):\n",
    "    #Creating the model on Training Data\n",
    "    md.XGB = md.model.fit(md.x_train, md.y_train)\n",
    "    \n",
    "    prediction = md.XGB.predict(md.x_test)\n",
    "\n",
    "    #Measuring Goodness of fit in Training data\n",
    "    print('R2 Value:', metrics.r2_score(md.y_train, md.XGB.predict(md.x_train)))\n",
    "\n",
    "    #Plotting the feature importance for Top 10 most important columns \n",
    "    %matplotlib inline\n",
    "    feature_importances = pd.Series(md.XGB.feature_importances_, index = md.predictors)\n",
    "    feature_importances.nlargest(10).plot(kind = 'barh')"
   ]
  },
  {
   "cell_type": "code",
   "execution_count": 12,
   "id": "a43c737a",
   "metadata": {},
   "outputs": [],
   "source": [
    "def predict_using_training_set(md):\n",
    "    prediction = md.XGB.predict(md.x_test)\n",
    "    \n",
    "    training_set_predictions = pd.DataFrame(data = md.x_test, columns = md.predictors)\n",
    "    training_set_predictions[md.target_to_predict] = md.y_test\n",
    "    training_set_predictions[('Predicted' + md.target_to_predict)] = prediction\n",
    "    training_set_predictions.head()\n",
    "    \n",
    "    print(training_set_predictions.head(15))\n",
    "    print(training_set_predictions.tail(15))"
   ]
  },
  {
   "cell_type": "code",
   "execution_count": 13,
   "id": "8b7a39b4",
   "metadata": {},
   "outputs": [],
   "source": [
    "def get_accuracy(md):\n",
    "    y_predict_train = md.XGB.predict(md.x_train)\n",
    "    y_predict_test = md.XGB.predict(md.x_test)\n",
    "    \n",
    "    prediction = md.XGB.predict(md.x_test)\n",
    "    \n",
    "    print(\"Methods Accuracy:\")\n",
    "    print(\"Accuracy: \" + str(md.XGB.score(md.x_train, md.y_train)))\n",
    "    print(\"Mean CV Score: \" + str(cross_val_score(md.XGB, md.x_train, md.y_train,cv = 10).mean()))\n",
    "    \n",
    "    print(\"Test Accuracy:\")\n",
    "    print(100 - (np.mean(np.abs((md.y_test - prediction)) / np.mean(md.y_test)) * 100))\n",
    "    print(100 - (np.mean(np.abs((md.y_test - prediction) / md.y_test)) * 100))"
   ]
  },
  {
   "cell_type": "code",
   "execution_count": 14,
   "id": "3a5a7d81",
   "metadata": {},
   "outputs": [],
   "source": [
    "model_data = ModelData()\n",
    "\n",
    "configure_sets(model_data)"
   ]
  },
  {
   "cell_type": "code",
   "execution_count": 15,
   "id": "0d028f14",
   "metadata": {},
   "outputs": [
    {
     "name": "stdout",
     "output_type": "stream",
     "text": [
      "XGBRFRegressor(base_score=None, booster=None, colsample_bylevel=None,\n",
      "               colsample_bytree=None, enable_categorical=False, gamma=None,\n",
      "               gpu_id=None, importance_type=None, interaction_constraints=None,\n",
      "               max_delta_step=None, max_depth=None, min_child_weight=3,\n",
      "               missing=nan, monotone_constraints=None, n_estimators=300,\n",
      "               n_jobs=None, num_parallel_tree=None,\n",
      "               objective='reg:squarederror', predictor=None, random_state=None,\n",
      "               reg_alpha=None, scale_pos_weight=None, subsample=0.5,\n",
      "               tree_method=None, validate_parameters=None, verbosity=None)\n"
     ]
    }
   ],
   "source": [
    "create_model(model_data)\n",
    "#tune_hyper_parameters(model_data)"
   ]
  },
  {
   "cell_type": "code",
   "execution_count": 16,
   "id": "072ab07b",
   "metadata": {},
   "outputs": [
    {
     "name": "stdout",
     "output_type": "stream",
     "text": [
      "R2 Value: 0.358230982530905\n"
     ]
    },
    {
     "data": {
      "image/png": "[encoded data removed]",
      "text/plain": [
       "<Figure size 432x288 with 1 Axes>"
      ]
     },
     "metadata": {
      "needs_background": "light"
     },
     "output_type": "display_data"
    }
   ],
   "source": [
    "fit_data(model_data)"
   ]
  },
  {
   "cell_type": "code",
   "execution_count": 17,
   "id": "c6e1ca40",
   "metadata": {},
   "outputs": [
    {
     "name": "stdout",
     "output_type": "stream",
     "text": [
      "   zone_idx day_of_week dayflag accessibility_score   minutes  \\\n",
      "0       218         1.0   False            0.000304  3.250000   \n",
      "1        36         2.0    True              0.0002  7.211111   \n",
      "2       256         2.0   False             0.00032  4.347778   \n",
      "3       315         2.0    True              0.0005  3.822316   \n",
      "4       271         0.0   False            0.000485  3.393452   \n",
      "5       256         5.0    True             0.00032  3.317949   \n",
      "6       118         2.0    True            0.000549  4.845833   \n",
      "7       199         5.0    True            0.000304  3.163636   \n",
      "8       265         3.0    True             0.00021  2.738180   \n",
      "9       277         4.0   False            0.000331  3.935714   \n",
      "10       58         0.0    True              0.0002  5.772222   \n",
      "11       37         4.0   False              0.0002  3.733333   \n",
      "12      194         6.0    True            0.000683  2.735417   \n",
      "13      117         4.0    True            0.000549  3.841111   \n",
      "14      336         4.0    True              0.0005  3.410811   \n",
      "\n",
      "    Predictedminutes  \n",
      "0           3.342990  \n",
      "1           6.669195  \n",
      "2           3.534529  \n",
      "3           3.695720  \n",
      "4           3.578619  \n",
      "5           3.562705  \n",
      "6           3.452592  \n",
      "7           3.417044  \n",
      "8           3.343310  \n",
      "9           3.574940  \n",
      "10          7.167581  \n",
      "11          6.501887  \n",
      "12          3.543938  \n",
      "13          3.444230  \n",
      "14          3.790540  \n",
      "     zone_idx day_of_week dayflag accessibility_score   minutes  \\\n",
      "2797      239         3.0    True            0.000304  4.963333   \n",
      "2798      257         2.0    True            0.000269  3.808974   \n",
      "2799      355         2.0   False             0.00045  4.158333   \n",
      "2800      127         0.0   False            0.000623  3.663158   \n",
      "2801      155         6.0   False            0.000401  2.911111   \n",
      "2802       53         6.0   False            0.000501  1.511111   \n",
      "2803      108         4.0    True            0.000515  2.525641   \n",
      "2804      268         2.0    True            0.000169  3.701382   \n",
      "2805      115         6.0   False            0.000847  3.843333   \n",
      "2806       71         5.0    True            0.000819  3.887879   \n",
      "2807      357         5.0   False            0.000196  1.825000   \n",
      "2808      256         2.0    True             0.00032  3.813333   \n",
      "2809      289         2.0   False            0.000174  3.354598   \n",
      "2810      134         4.0   False            0.000717  2.829167   \n",
      "2811      341         6.0   False            0.001506  2.708333   \n",
      "\n",
      "      Predictedminutes  \n",
      "2797          3.460839  \n",
      "2798          3.467002  \n",
      "2799          4.539452  \n",
      "2800          3.454355  \n",
      "2801          3.797119  \n",
      "2802          3.416402  \n",
      "2803          3.434257  \n",
      "2804          3.318002  \n",
      "2805          3.444318  \n",
      "2806          3.341371  \n",
      "2807          5.958388  \n",
      "2808          3.564918  \n",
      "2809          3.303429  \n",
      "2810          3.429583  \n",
      "2811          2.915727  \n",
      "Methods Accuracy:\n",
      "Accuracy: 0.358230982530905\n",
      "Mean CV Score: 0.07820526190940007\n",
      "Test Accuracy:\n",
      "74.91711775194233\n",
      "-inf\n"
     ]
    }
   ],
   "source": [
    "predict_using_training_set(model_data)\n",
    "get_accuracy(model_data)"
   ]
  },
  {
   "cell_type": "code",
   "execution_count": null,
   "id": "f76f6a32",
   "metadata": {},
   "outputs": [],
   "source": []
  }
 ],
 "metadata": {
  "kernelspec": {
   "display_name": "Python 3 (ipykernel)",
   "language": "python",
   "name": "python3"
  },
  "language_info": {
   "codemirror_mode": {
    "name": "ipython",
    "version": 3
   },
   "file_extension": ".py",
   "mimetype": "text/x-python",
   "name": "python",
   "nbconvert_exporter": "python",
   "pygments_lexer": "ipython3",
   "version": "3.7.9"
  }
 },
 "nbformat": 4,
 "nbformat_minor": 5
}
