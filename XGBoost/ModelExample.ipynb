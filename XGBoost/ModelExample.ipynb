{
 "cells": [
  {
   "cell_type": "code",
   "execution_count": 1,
   "id": "9e10b2be",
   "metadata": {},
   "outputs": [],
   "source": [
    "#packages\n",
    "import pandas as pd\n",
    "import numpy as np\n",
    "import warnings\n",
    "import sqlite3\n",
    "\n",
    "from numpy import asarray\n",
    "from numpy import mean\n",
    "from numpy import std\n",
    "from sklearn.datasets import make_regression\n",
    "from sklearn.metrics import accuracy_score\n",
    "from sklearn.model_selection import cross_val_score, RepeatedKFold, train_test_split, GridSearchCV, cross_validate\n",
    "from sklearn.preprocessing import StandardScaler, normalize\n",
    "from sklearn import metrics\n",
    "from xgboost import XGBRFRegressor"
   ]
  },
  {
   "cell_type": "code",
   "execution_count": 2,
   "id": "f43bffce",
   "metadata": {},
   "outputs": [],
   "source": [
    "# hide warnings\n",
    "warnings.filterwarnings('ignore')"
   ]
  },
  {
   "cell_type": "code",
   "execution_count": 3,
   "id": "ed803fcd",
   "metadata": {},
   "outputs": [],
   "source": [
    "def prepare_data():\n",
    "    df = read_data()\n",
    "    #df = format_columns(df)\n",
    "    \n",
    "    df['on_scene_dttm'] = pd.to_datetime(df['on_scene_dttm'])\n",
    "    df['response_dttm'] = pd.to_datetime(df['response_dttm'])\n",
    "    df['arrival_time'] = (df['on_scene_dttm'] - df['response_dttm'])\n",
    "    df['minutes'] = (df.arrival_time.dt.seconds) / 60\n",
    "    df['seconds'] = (df.arrival_time.dt.seconds)\n",
    "    \n",
    "    df_ag = df.groupby([\"zone_idx\"], as_index=False).agg({\"accessibility_score\":\"mean\", \"minutes\":\"mean\"})\n",
    "    print(df_ag.head())\n",
    "    \n",
    "    return df_ag"
   ]
  },
  {
   "cell_type": "code",
   "execution_count": 4,
   "id": "779095b7",
   "metadata": {},
   "outputs": [],
   "source": [
    "def read_data():\n",
    "    con = sqlite3.connect(\"fire_data_v4.db\")\n",
    "    cur = con.cursor()\n",
    "\n",
    "    df = pd.read_sql(\"select calls_for_service.call_number \" \\\n",
    "        \", calls_for_service.incident_number \" \\\n",
    "        \", floating_catchment_output.[index] \" \\\n",
    "        \", floating_catchment_output.zone_idx \" \\\n",
    "        \", floating_catchment_output.accessibility_score \" \\\n",
    "        \", floating_catchment_output.scenario_name \" \\\n",
    "        \", calls_for_service.on_scene_dttm \" \\\n",
    "        \", calls_for_service.response_dttm   \" \\\n",
    "        \", category_mappings.[index] as primary_situation_index \" \\\n",
    "        \"from floating_catchment_output \" \\\n",
    "        \"inner join zone_idx_to_incident on  \" \\\n",
    "        \"zone_idx_to_incident.zone_idx = floating_catchment_output.zone_idx \" \\\n",
    "        \"inner join calls_for_service on calls_for_service.incident_number = zone_idx_to_incident.incident_number \" \\\n",
    "        \"left join fire_incidents AS fi on calls_for_service.incident_number = fi.incident_number \" \\\n",
    "        \"left join category_mappings on fi.primary_situation = category_mappings.primary_situation \" \\\n",
    "        \"where calls_for_service.unit_type in ('TRUCK', 'ENGINE') \" \\\n",
    "        \"and scenario_name = 'baseline'\",con = con) \n",
    "    \n",
    "    return df"
   ]
  },
  {
   "cell_type": "code",
   "execution_count": 5,
   "id": "741c390e",
   "metadata": {},
   "outputs": [],
   "source": [
    "def format_columns(df):\n",
    "    df['alarm_format'] = pd.to_datetime(df['alarm_dttm'])\n",
    "    df['arrival_format'] = pd.to_datetime(df['arrival_dttm'])\n",
    "    df['arrival_time'] = (df['arrival_format'] - df['alarm_format'])\n",
    "    df['minutes'] = (df.arrival_time.dt.seconds) / 60\n",
    "    df['seconds'] = (df.arrival_time.dt.seconds)\n",
    "    df['day_of_week'] = df['alarm_format'].dt.dayofweek\n",
    "    df['dayflag'] = (df.alarm_format.dt.hour > 5) & (df.alarm_format.dt.hour < 18)\n",
    "    \n",
    "    point = df['case_location'].str.split(' ', n = 2, expand = True)\n",
    "    point_x = point[1].str.split('(', n = 1, expand = True)\n",
    "    point_y = point[2].str.split(')', n = 1, expand = True)\n",
    "    \n",
    "    df['point_x'] = point_x[1]\n",
    "    df['point_y'] = point_y[0]\n",
    "    \n",
    "    return df"
   ]
  },
  {
   "cell_type": "code",
   "execution_count": 6,
   "id": "bbffd829",
   "metadata": {
    "scrolled": true
   },
   "outputs": [
    {
     "name": "stdout",
     "output_type": "stream",
     "text": [
      "   zone_idx  accessibility_score   minutes\n",
      "0         8             0.000803  5.254762\n",
      "1         9             0.001147  4.466082\n",
      "2        10             0.000968  4.545000\n",
      "3        11             0.000501  3.450722\n",
      "4        12             0.000501  4.271189\n"
     ]
    },
    {
     "data": {
      "text/html": [
       "<div>\n",
       "<style scoped>\n",
       "    .dataframe tbody tr th:only-of-type {\n",
       "        vertical-align: middle;\n",
       "    }\n",
       "\n",
       "    .dataframe tbody tr th {\n",
       "        vertical-align: top;\n",
       "    }\n",
       "\n",
       "    .dataframe thead th {\n",
       "        text-align: right;\n",
       "    }\n",
       "</style>\n",
       "<table border=\"1\" class=\"dataframe\">\n",
       "  <thead>\n",
       "    <tr style=\"text-align: right;\">\n",
       "      <th></th>\n",
       "      <th>zone_idx</th>\n",
       "      <th>accessibility_score</th>\n",
       "      <th>minutes</th>\n",
       "    </tr>\n",
       "  </thead>\n",
       "  <tbody>\n",
       "    <tr>\n",
       "      <th>0</th>\n",
       "      <td>8</td>\n",
       "      <td>0.000803</td>\n",
       "      <td>5.254762</td>\n",
       "    </tr>\n",
       "    <tr>\n",
       "      <th>1</th>\n",
       "      <td>9</td>\n",
       "      <td>0.001147</td>\n",
       "      <td>4.466082</td>\n",
       "    </tr>\n",
       "    <tr>\n",
       "      <th>2</th>\n",
       "      <td>10</td>\n",
       "      <td>0.000968</td>\n",
       "      <td>4.545000</td>\n",
       "    </tr>\n",
       "    <tr>\n",
       "      <th>3</th>\n",
       "      <td>11</td>\n",
       "      <td>0.000501</td>\n",
       "      <td>3.450722</td>\n",
       "    </tr>\n",
       "    <tr>\n",
       "      <th>4</th>\n",
       "      <td>12</td>\n",
       "      <td>0.000501</td>\n",
       "      <td>4.271189</td>\n",
       "    </tr>\n",
       "  </tbody>\n",
       "</table>\n",
       "</div>"
      ],
      "text/plain": [
       "   zone_idx  accessibility_score   minutes\n",
       "0         8             0.000803  5.254762\n",
       "1         9             0.001147  4.466082\n",
       "2        10             0.000968  4.545000\n",
       "3        11             0.000501  3.450722\n",
       "4        12             0.000501  4.271189"
      ]
     },
     "execution_count": 6,
     "metadata": {},
     "output_type": "execute_result"
    }
   ],
   "source": [
    "df = prepare_data()\n",
    "df.head()"
   ]
  },
  {
   "cell_type": "code",
   "execution_count": 7,
   "id": "c5eb27d5",
   "metadata": {},
   "outputs": [],
   "source": [
    "class ModelData:\n",
    "    x = None\n",
    "    y = None\n",
    "    x_train = None\n",
    "    x_test = None\n",
    "    y_train = None\n",
    "    y_test = None\n",
    "    scaled_x_train = None\n",
    "    scaled_x_test = None\n",
    "\n",
    "    model = None\n",
    "    target_to_predict = None\n",
    "    predictors = None\n",
    "    XGB = None\n",
    "    gscv_XGB = None"
   ]
  },
  {
   "cell_type": "code",
   "execution_count": 8,
   "id": "558b4fb1",
   "metadata": {},
   "outputs": [],
   "source": [
    "def configure_sets(md):\n",
    "    md.predictors = ['zone_idx', 'accessibility_score']\n",
    "    md.target_to_predict = 'minutes'\n",
    "    \n",
    "    md.x = df[md.predictors].values\n",
    "    md.y = df[md.target_to_predict].values\n",
    "\n",
    "    #Split the data into training and testing set\n",
    "    md.x_train, md.x_test, md.y_train, md.y_test = train_test_split(md.x, md.y, test_size = 0.30, random_state = 614)"
   ]
  },
  {
   "cell_type": "code",
   "execution_count": 9,
   "id": "ec964ae8",
   "metadata": {},
   "outputs": [],
   "source": [
    "def data_normalization(md):\n",
    "    scaler = StandardScaler()\n",
    "    md.scaled_x_train = scaler.fit_transform(md.x_train)\n",
    "    md.scaled_x_test = scaler.transform(md.x_test)"
   ]
  },
  {
   "cell_type": "code",
   "execution_count": 10,
   "id": "04867005",
   "metadata": {},
   "outputs": [],
   "source": [
    "def create_model(md):\n",
    "    #data_normalization(md)\n",
    "    \n",
    "    md.model = XGBRFRegressor(n_estimators = 1000, subsample = 0.9, colsample_bynode = 0.2)\n",
    "\n",
    "    #Printing all the parameters of XGBoost\n",
    "    print(md.model)"
   ]
  },
  {
   "cell_type": "code",
   "execution_count": 11,
   "id": "8e51cca0",
   "metadata": {},
   "outputs": [],
   "source": [
    "def tune_hyper_parameters(md):\n",
    "    param_grid = {\n",
    "        'learning_rate': [0.01, 0.1],\n",
    "        'max_depth': [3, 5, 7, 10],\n",
    "        'min_child_weight': [1, 3, 5],\n",
    "        'subsample': [0.5, 0.7],\n",
    "        'colsample_bytree': [0.5, 0.7],\n",
    "        'n_estimators': [800, 1000, 1200],\n",
    "        'objective': ['reg:squarederror']\n",
    "    }\n",
    "\n",
    "    md.gscv_XGB = GridSearchCV(estimator = md.model, param_grid = param_grid)\n",
    "    md.gscv_XGB.fit(md.scaled_x_train, md.y_train)\n",
    "    \n",
    "    print(md.gscv_XGB.best_params_)\n",
    "    \n",
    "    #'n_estimators': [100, 1000, 2000] - Run results:\n",
    "    #{'n_estimators': 1000}"
   ]
  },
  {
   "cell_type": "code",
   "execution_count": 12,
   "id": "8c88b186",
   "metadata": {},
   "outputs": [],
   "source": [
    "def fit_data(md):\n",
    "    #Creating the model on Training Data\n",
    "    md.XGB = md.model.fit(md.scaled_x_train, md.y_train)\n",
    "    \n",
    "    prediction = md.XGB.predict(md.scaled_x_test)\n",
    "\n",
    "    #Measuring Goodness of fit in Training data\n",
    "    print('R2 Value:', metrics.r2_score(md.y_train, md.XGB.predict(md.scaled_x_train)))\n",
    "\n",
    "    #Plotting the feature importance for Top 10 most important columns \n",
    "    %matplotlib inline\n",
    "    feature_importances = pd.Series(md.XGB.feature_importances_, index = md.predictors)\n",
    "    feature_importances.nlargest(10).plot(kind = 'barh')"
   ]
  },
  {
   "cell_type": "code",
   "execution_count": 13,
   "id": "a43c737a",
   "metadata": {},
   "outputs": [],
   "source": [
    "def predict_using_training_set(md):\n",
    "    prediction = md.XGB.predict(md.scaled_x_test)\n",
    "    \n",
    "    training_set_predictions = pd.DataFrame(data = md.scaled_x_test, columns = md.predictors)\n",
    "    training_set_predictions[md.target_to_predict] = md.y_test\n",
    "    training_set_predictions[('Predicted' + md.target_to_predict)] = prediction\n",
    "    training_set_predictions.head()\n",
    "    \n",
    "    print(training_set_predictions.head(15))\n",
    "    print(training_set_predictions.tail(15))"
   ]
  },
  {
   "cell_type": "code",
   "execution_count": 14,
   "id": "8b7a39b4",
   "metadata": {},
   "outputs": [],
   "source": [
    "def get_accuracy(md):\n",
    "    y_predict_train = md.XGB.predict(md.scaled_x_train)\n",
    "    y_predict_test = md.XGB.predict(md.scaled_x_test)\n",
    "    \n",
    "    print(\"Accuracy: \" + str(md.XGB.score(md.scaled_x_train, md.y_train)))\n",
    "    print(\"Mean CV Score: \" + str(cross_val_score(md.XGB, md.scaled_x_train, md.y_train,cv = 10).mean()))"
   ]
  },
  {
   "cell_type": "code",
   "execution_count": 15,
   "id": "3a5a7d81",
   "metadata": {},
   "outputs": [],
   "source": [
    "model_data = ModelData()\n",
    "\n",
    "configure_sets(model_data)\n",
    "data_normalization(model_data)"
   ]
  },
  {
   "cell_type": "code",
   "execution_count": 16,
   "id": "0d028f14",
   "metadata": {},
   "outputs": [
    {
     "name": "stdout",
     "output_type": "stream",
     "text": [
      "XGBRFRegressor(base_score=None, booster=None, colsample_bylevel=None,\n",
      "               colsample_bynode=0.2, colsample_bytree=None,\n",
      "               enable_categorical=False, gamma=None, gpu_id=None,\n",
      "               importance_type=None, interaction_constraints=None,\n",
      "               max_delta_step=None, max_depth=None, min_child_weight=None,\n",
      "               missing=nan, monotone_constraints=None, n_estimators=1000,\n",
      "               n_jobs=None, num_parallel_tree=None,\n",
      "               objective='reg:squarederror', predictor=None, random_state=None,\n",
      "               reg_alpha=None, scale_pos_weight=None, subsample=0.9,\n",
      "               tree_method=None, validate_parameters=None, verbosity=None)\n",
      "{'colsample_bytree': 0.5, 'learning_rate': 0.1, 'max_depth': 10, 'min_child_weight': 3, 'n_estimators': 800, 'objective': 'reg:squarederror', 'subsample': 0.7}\n"
     ]
    }
   ],
   "source": [
    "create_model(model_data)\n",
    "tune_hyper_parameters(model_data)"
   ]
  },
  {
   "cell_type": "code",
   "execution_count": 17,
   "id": "072ab07b",
   "metadata": {},
   "outputs": [
    {
     "name": "stdout",
     "output_type": "stream",
     "text": [
      "R2 Value: 0.7714886724687866\n"
     ]
    },
    {
     "data": {
      "image/png": "[encoded data removed]",
      "text/plain": [
       "<Figure size 432x288 with 1 Axes>"
      ]
     },
     "metadata": {
      "needs_background": "light"
     },
     "output_type": "display_data"
    }
   ],
   "source": [
    "fit_data(model_data)"
   ]
  },
  {
   "cell_type": "code",
   "execution_count": 18,
   "id": "c6e1ca40",
   "metadata": {},
   "outputs": [
    {
     "name": "stdout",
     "output_type": "stream",
     "text": [
      "    zone_idx  accessibility_score    minutes  Predictedminutes\n",
      "0   0.747430             0.227362   5.498942          3.634107\n",
      "1   1.019515            -0.268159   2.615835          3.566792\n",
      "2   1.835771            -1.195879   9.792130          3.633782\n",
      "3   1.270671            -0.150632   2.861669          3.701924\n",
      "4   1.124163            -1.195879   3.372279          3.162816\n",
      "5  -0.016502            -0.564132   3.325945          3.538997\n",
      "6   0.674176            -0.654966   2.846033          3.557937\n",
      "7  -0.131615             0.868940   4.569103          3.493571\n",
      "8   0.935797            -0.364909   4.355014          3.781291\n",
      "9  -1.230422             0.778230   4.600667          3.351596\n",
      "10  1.155558             0.330127   4.085543          3.637087\n",
      "11 -0.121150            -1.233585   3.440021          3.171054\n",
      "12  0.611387            -0.882057   2.622527          3.238580\n",
      "13 -1.418789             0.239438   4.189662          3.485406\n",
      "14 -1.345535            -0.829854  11.038889          5.443400\n",
      "    zone_idx  accessibility_score   minutes  Predictedminutes\n",
      "63  1.239277            -0.480570  3.441643          3.782134\n",
      "64 -0.843223             0.669979  3.321494          3.480099\n",
      "65  1.500897             1.338012  4.637553          3.567698\n",
      "66 -1.669944             0.753801  2.978676          4.534231\n",
      "67 -0.623462             0.287008  3.372632          3.537230\n",
      "68 -0.592067             1.534390  3.436556          3.525255\n",
      "69  0.464880            -0.145824  2.977215          3.496773\n",
      "70 -0.246728            -1.155666  4.831481          3.361331\n",
      "71  0.443950            -0.898827  3.335112          3.111908\n",
      "72  1.825307             4.146692  6.236623          3.037547\n",
      "73 -1.387394            -0.275042  4.090181          3.457211\n",
      "74 -0.560673             1.003140  3.292071          3.527829\n",
      "75 -0.309517            -0.300777  3.190066          3.552893\n",
      "76  0.517204             0.513675  4.410757          3.633712\n",
      "77 -1.062985            -0.903119  4.852778          3.361530\n",
      "Accuracy: 0.7714886724687866\n",
      "Mean CV Score: -1.2463476044768793\n"
     ]
    }
   ],
   "source": [
    "predict_using_training_set(model_data)\n",
    "get_accuracy(model_data)"
   ]
  },
  {
   "cell_type": "code",
   "execution_count": null,
   "id": "f76f6a32",
   "metadata": {},
   "outputs": [],
   "source": []
  }
 ],
 "metadata": {
  "kernelspec": {
   "display_name": "Python 3 (ipykernel)",
   "language": "python",
   "name": "python3"
  },
  "language_info": {
   "codemirror_mode": {
    "name": "ipython",
    "version": 3
   },
   "file_extension": ".py",
   "mimetype": "text/x-python",
   "name": "python",
   "nbconvert_exporter": "python",
   "pygments_lexer": "ipython3",
   "version": "3.7.9"
  }
 },
 "nbformat": 4,
 "nbformat_minor": 5
}
