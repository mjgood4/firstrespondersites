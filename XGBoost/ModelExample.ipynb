{
 "cells": [
  {
   "cell_type": "code",
   "execution_count": 1,
   "id": "9e10b2be",
   "metadata": {},
   "outputs": [],
   "source": [
    "#packages\n",
    "import pandas as pd\n",
    "import numpy as np\n",
    "import warnings\n",
    "import sqlite3\n",
    "\n",
    "from numpy import asarray\n",
    "from numpy import mean\n",
    "from numpy import std\n",
    "from sklearn.datasets import make_regression\n",
    "from sklearn.model_selection import cross_val_score\n",
    "from sklearn.model_selection import RepeatedKFold\n",
    "from sklearn.model_selection import train_test_split\n",
    "from sklearn.model_selection import GridSearchCV, cross_validate\n",
    "from sklearn.preprocessing import StandardScaler, normalize\n",
    "from sklearn import metrics\n",
    "from xgboost import XGBRFRegressor"
   ]
  },
  {
   "cell_type": "code",
   "execution_count": 2,
   "id": "f43bffce",
   "metadata": {},
   "outputs": [],
   "source": [
    "# hide warnings\n",
    "warnings.filterwarnings('ignore')"
   ]
  },
  {
   "cell_type": "code",
   "execution_count": 3,
   "id": "ed803fcd",
   "metadata": {},
   "outputs": [],
   "source": [
    "def prepare_data():\n",
    "    df = read_data()\n",
    "    df = format_columns(df)\n",
    "    \n",
    "    df[\"zipcode\"] = pd.to_numeric(df[\"zipcode\"], errors='coerce')\n",
    "    df[\"station_area\"] = pd.to_numeric(df[\"station_area\"], errors='coerce')\n",
    "    df[\"ems_units\"] = pd.to_numeric(df[\"ems_units\"], errors='coerce')\n",
    "    df[\"supervisor_district\"] = pd.to_numeric(df[\"supervisor_district\"], errors='coerce')\n",
    "    \n",
    "    #Ignore NaN rows\n",
    "    df = df[df['minutes'].notna()]\n",
    "    df = df[df['point_x'].notna()]\n",
    "    df = df[df['point_y'].notna()]\n",
    "    df = df[df['zipcode'].notna()]\n",
    "    df = df[df['station_area'].notna()]\n",
    "    df = df[df['ems_units'].notna()]\n",
    "    df = df[df['supervisor_district'].notna()]\n",
    "    \n",
    "    return df"
   ]
  },
  {
   "cell_type": "code",
   "execution_count": 4,
   "id": "779095b7",
   "metadata": {},
   "outputs": [],
   "source": [
    "def read_data():\n",
    "    con = sqlite3.connect(\"fire_data_v4.db\")\n",
    "    cur = con.cursor()\n",
    "\n",
    "    df = pd.read_sql('SELECT ' \\\n",
    "                     'fi.zipcode, fi.supervisor_district, fi.alarm_dttm, fi.arrival_dttm, fi.box, fi.ems_units, fi.station_area, cfs.case_location ' \\\n",
    "                     'FROM fire_incidents AS fi INNER JOIN calls_for_service AS cfs ON fi.incident_number = cfs.incident_number INNER JOIN nearest_distances AS nd ON fi.incident_number = nd.incident_number',con = con)\n",
    "    \n",
    "    return df"
   ]
  },
  {
   "cell_type": "code",
   "execution_count": 5,
   "id": "741c390e",
   "metadata": {},
   "outputs": [],
   "source": [
    "def format_columns(df):\n",
    "    df['alarm_format'] = pd.to_datetime(df['alarm_dttm'])\n",
    "    df['arrival_format'] = pd.to_datetime(df['arrival_dttm'])\n",
    "    df['arrival_time'] = (df['arrival_format'] - df['alarm_format'])\n",
    "    df['minutes'] = (df.arrival_time.dt.seconds) / 60\n",
    "    df['seconds'] = (df.arrival_time.dt.seconds)\n",
    "    df['day_of_week'] = df['alarm_format'].dt.dayofweek\n",
    "    df['dayflag'] = (df.alarm_format.dt.hour > 5) & (df.alarm_format.dt.hour < 18)\n",
    "    \n",
    "    point = df['case_location'].str.split(' ', n = 2, expand = True)\n",
    "    point_x = point[1].str.split('(', n = 1, expand = True)\n",
    "    point_y = point[2].str.split(')', n = 1, expand = True)\n",
    "    \n",
    "    df['point_x'] = point_x[1]\n",
    "    df['point_y'] = point_y[0]\n",
    "    \n",
    "    return df"
   ]
  },
  {
   "cell_type": "code",
   "execution_count": 6,
   "id": "bbffd829",
   "metadata": {
    "scrolled": true
   },
   "outputs": [
    {
     "data": {
      "text/html": [
       "<div>\n",
       "<style scoped>\n",
       "    .dataframe tbody tr th:only-of-type {\n",
       "        vertical-align: middle;\n",
       "    }\n",
       "\n",
       "    .dataframe tbody tr th {\n",
       "        vertical-align: top;\n",
       "    }\n",
       "\n",
       "    .dataframe thead th {\n",
       "        text-align: right;\n",
       "    }\n",
       "</style>\n",
       "<table border=\"1\" class=\"dataframe\">\n",
       "  <thead>\n",
       "    <tr style=\"text-align: right;\">\n",
       "      <th></th>\n",
       "      <th>zipcode</th>\n",
       "      <th>supervisor_district</th>\n",
       "      <th>alarm_dttm</th>\n",
       "      <th>arrival_dttm</th>\n",
       "      <th>box</th>\n",
       "      <th>ems_units</th>\n",
       "      <th>station_area</th>\n",
       "      <th>case_location</th>\n",
       "      <th>alarm_format</th>\n",
       "      <th>arrival_format</th>\n",
       "      <th>arrival_time</th>\n",
       "      <th>minutes</th>\n",
       "      <th>seconds</th>\n",
       "      <th>day_of_week</th>\n",
       "      <th>dayflag</th>\n",
       "      <th>point_x</th>\n",
       "      <th>point_y</th>\n",
       "    </tr>\n",
       "  </thead>\n",
       "  <tbody>\n",
       "    <tr>\n",
       "      <th>0</th>\n",
       "      <td>94110.0</td>\n",
       "      <td>9.0</td>\n",
       "      <td>2008-04-01 18:06:37</td>\n",
       "      <td>2008-04-01 18:15:19</td>\n",
       "      <td>None</td>\n",
       "      <td>0</td>\n",
       "      <td>11.0</td>\n",
       "      <td>POINT (-122.418144723562 37.742224086608)</td>\n",
       "      <td>2008-04-01 18:06:37</td>\n",
       "      <td>2008-04-01 18:15:19</td>\n",
       "      <td>0 days 00:08:42</td>\n",
       "      <td>8.700000</td>\n",
       "      <td>522.0</td>\n",
       "      <td>1</td>\n",
       "      <td>False</td>\n",
       "      <td>-122.418144723562</td>\n",
       "      <td>37.742224086608</td>\n",
       "    </tr>\n",
       "    <tr>\n",
       "      <th>1</th>\n",
       "      <td>94107.0</td>\n",
       "      <td>10.0</td>\n",
       "      <td>2008-04-01 18:00:52</td>\n",
       "      <td>2008-04-01 18:06:30</td>\n",
       "      <td>None</td>\n",
       "      <td>0</td>\n",
       "      <td>37.0</td>\n",
       "      <td>POINT (-122.395114989 37.756639987211)</td>\n",
       "      <td>2008-04-01 18:00:52</td>\n",
       "      <td>2008-04-01 18:06:30</td>\n",
       "      <td>0 days 00:05:38</td>\n",
       "      <td>5.633333</td>\n",
       "      <td>338.0</td>\n",
       "      <td>1</td>\n",
       "      <td>False</td>\n",
       "      <td>-122.395114989</td>\n",
       "      <td>37.756639987211</td>\n",
       "    </tr>\n",
       "    <tr>\n",
       "      <th>12</th>\n",
       "      <td>94102.0</td>\n",
       "      <td>5.0</td>\n",
       "      <td>2008-04-01 19:03:52</td>\n",
       "      <td>2008-04-01 19:08:39</td>\n",
       "      <td>None</td>\n",
       "      <td>0</td>\n",
       "      <td>36.0</td>\n",
       "      <td>POINT (-122.427077545588 37.776304759752)</td>\n",
       "      <td>2008-04-01 19:03:52</td>\n",
       "      <td>2008-04-01 19:08:39</td>\n",
       "      <td>0 days 00:04:47</td>\n",
       "      <td>4.783333</td>\n",
       "      <td>287.0</td>\n",
       "      <td>1</td>\n",
       "      <td>False</td>\n",
       "      <td>-122.427077545588</td>\n",
       "      <td>37.776304759752</td>\n",
       "    </tr>\n",
       "    <tr>\n",
       "      <th>17</th>\n",
       "      <td>94109.0</td>\n",
       "      <td>3.0</td>\n",
       "      <td>2008-04-01 20:09:55</td>\n",
       "      <td>2008-04-01 20:12:29</td>\n",
       "      <td>None</td>\n",
       "      <td>0</td>\n",
       "      <td>1.0</td>\n",
       "      <td>POINT (-122.405221175679 37.788693991132)</td>\n",
       "      <td>2008-04-01 20:09:55</td>\n",
       "      <td>2008-04-01 20:12:29</td>\n",
       "      <td>0 days 00:02:34</td>\n",
       "      <td>2.566667</td>\n",
       "      <td>154.0</td>\n",
       "      <td>1</td>\n",
       "      <td>False</td>\n",
       "      <td>-122.405221175679</td>\n",
       "      <td>37.788693991132</td>\n",
       "    </tr>\n",
       "    <tr>\n",
       "      <th>18</th>\n",
       "      <td>94109.0</td>\n",
       "      <td>3.0</td>\n",
       "      <td>2008-04-01 20:09:55</td>\n",
       "      <td>2008-04-01 20:12:29</td>\n",
       "      <td>None</td>\n",
       "      <td>0</td>\n",
       "      <td>1.0</td>\n",
       "      <td>POINT (-122.405221175679 37.788693991132)</td>\n",
       "      <td>2008-04-01 20:09:55</td>\n",
       "      <td>2008-04-01 20:12:29</td>\n",
       "      <td>0 days 00:02:34</td>\n",
       "      <td>2.566667</td>\n",
       "      <td>154.0</td>\n",
       "      <td>1</td>\n",
       "      <td>False</td>\n",
       "      <td>-122.405221175679</td>\n",
       "      <td>37.788693991132</td>\n",
       "    </tr>\n",
       "  </tbody>\n",
       "</table>\n",
       "</div>"
      ],
      "text/plain": [
       "    zipcode  supervisor_district           alarm_dttm         arrival_dttm  \\\n",
       "0   94110.0                  9.0  2008-04-01 18:06:37  2008-04-01 18:15:19   \n",
       "1   94107.0                 10.0  2008-04-01 18:00:52  2008-04-01 18:06:30   \n",
       "12  94102.0                  5.0  2008-04-01 19:03:52  2008-04-01 19:08:39   \n",
       "17  94109.0                  3.0  2008-04-01 20:09:55  2008-04-01 20:12:29   \n",
       "18  94109.0                  3.0  2008-04-01 20:09:55  2008-04-01 20:12:29   \n",
       "\n",
       "     box  ems_units  station_area                              case_location  \\\n",
       "0   None          0          11.0  POINT (-122.418144723562 37.742224086608)   \n",
       "1   None          0          37.0     POINT (-122.395114989 37.756639987211)   \n",
       "12  None          0          36.0  POINT (-122.427077545588 37.776304759752)   \n",
       "17  None          0           1.0  POINT (-122.405221175679 37.788693991132)   \n",
       "18  None          0           1.0  POINT (-122.405221175679 37.788693991132)   \n",
       "\n",
       "          alarm_format      arrival_format    arrival_time   minutes  seconds  \\\n",
       "0  2008-04-01 18:06:37 2008-04-01 18:15:19 0 days 00:08:42  8.700000    522.0   \n",
       "1  2008-04-01 18:00:52 2008-04-01 18:06:30 0 days 00:05:38  5.633333    338.0   \n",
       "12 2008-04-01 19:03:52 2008-04-01 19:08:39 0 days 00:04:47  4.783333    287.0   \n",
       "17 2008-04-01 20:09:55 2008-04-01 20:12:29 0 days 00:02:34  2.566667    154.0   \n",
       "18 2008-04-01 20:09:55 2008-04-01 20:12:29 0 days 00:02:34  2.566667    154.0   \n",
       "\n",
       "    day_of_week  dayflag            point_x          point_y  \n",
       "0             1    False  -122.418144723562  37.742224086608  \n",
       "1             1    False     -122.395114989  37.756639987211  \n",
       "12            1    False  -122.427077545588  37.776304759752  \n",
       "17            1    False  -122.405221175679  37.788693991132  \n",
       "18            1    False  -122.405221175679  37.788693991132  "
      ]
     },
     "execution_count": 6,
     "metadata": {},
     "output_type": "execute_result"
    }
   ],
   "source": [
    "df = prepare_data()\n",
    "df.head()"
   ]
  },
  {
   "cell_type": "code",
   "execution_count": 7,
   "id": "4a4e9f03",
   "metadata": {},
   "outputs": [],
   "source": [
    "class ModelData:\n",
    "    x = None\n",
    "    y = None\n",
    "    x_train = None\n",
    "    x_test = None\n",
    "    y_train = None\n",
    "    y_test = None\n",
    "    scaled_x_train = None\n",
    "    scaled_x_test = None\n",
    "\n",
    "    model = None\n",
    "    target_to_predict = None\n",
    "    predictors = None\n",
    "    XGB = None\n",
    "    gscv_XGB = None"
   ]
  },
  {
   "cell_type": "code",
   "execution_count": 8,
   "id": "558b4fb1",
   "metadata": {},
   "outputs": [],
   "source": [
    "def configure_sets(md):\n",
    "    md.predictors = ['zipcode', 'day_of_week','station_area', 'ems_units', 'supervisor_district', 'point_x', 'point_y']\n",
    "    md.target_to_predict = 'minutes'\n",
    "    \n",
    "    md.x = df[md.predictors].values\n",
    "    md.y = df[md.target_to_predict].values\n",
    "\n",
    "    #Split the data into training and testing set\n",
    "    md.x_train, md.x_test, md.y_train, md.y_test = train_test_split(md.x, md.y, test_size = 0.8, random_state = 614)"
   ]
  },
  {
   "cell_type": "code",
   "execution_count": 9,
   "id": "6f8b066b",
   "metadata": {},
   "outputs": [],
   "source": [
    "def data_normalization(md):\n",
    "    scaler = StandardScaler()\n",
    "    md.scaled_x_train = scaler.fit_transform(md.x_train)\n",
    "    md.scaled_x_test = scaler.transform(md.x_test)\n",
    "    \n",
    "    print(md.scaled_x_train)\n",
    "    print(\"================\")\n",
    "    print(md.scaled_x_test)"
   ]
  },
  {
   "cell_type": "code",
   "execution_count": 10,
   "id": "04867005",
   "metadata": {},
   "outputs": [],
   "source": [
    "def create_model(md):\n",
    "    #data_normalization(md)\n",
    "    \n",
    "    md.model = XGBRFRegressor(n_estimators = 1000, subsample = 0.9, colsample_bynode = 0.2)\n",
    "\n",
    "    #Printing all the parameters of XGBoost\n",
    "    print(md.model)"
   ]
  },
  {
   "cell_type": "code",
   "execution_count": 22,
   "id": "86afc8b3",
   "metadata": {},
   "outputs": [],
   "source": [
    "def tune_hyper_parameters(md):\n",
    "    param_grid = { \n",
    "        'n_estimators': [100, 1000, 2000]\n",
    "    }\n",
    "\n",
    "    md.gscv_XGB = GridSearchCV(estimator = md.model, param_grid = param_grid)\n",
    "    md.gscv_XGB.fit(md.scaled_x_train, md.y_train)\n",
    "    \n",
    "    print(md.gscv_XGB.best_params_)\n",
    "    \n",
    "    #Run result, todo - test with more parameters\n",
    "    #{'n_estimators': 1000}"
   ]
  },
  {
   "cell_type": "code",
   "execution_count": 12,
   "id": "8a62db48",
   "metadata": {},
   "outputs": [],
   "source": [
    "def fit_data(md):\n",
    "    #Creating the model on Training Data\n",
    "    md.XGB = md.model.fit(md.scaled_x_train, md.y_train)\n",
    "    \n",
    "    prediction = md.XGB.predict(md.x_test)\n",
    "\n",
    "    #Measuring Goodness of fit in Training data\n",
    "    print('R2 Value:', metrics.r2_score(md.y_train, md.XGB.predict(md.x_train)))\n",
    "\n",
    "    #Measuring accuracy on Testing Data\n",
    "    print('Accuracy', 100 - (np.mean(np.abs((md.y_test - prediction) / md.y_test)) * 100))\n",
    "\n",
    "    #Plotting the feature importance for Top 10 most important columns \n",
    "    %matplotlib inline\n",
    "    feature_importances = pd.Series(md.XGB.feature_importances_, index = md.predictors)\n",
    "    feature_importances.nlargest(10).plot(kind = 'barh')"
   ]
  },
  {
   "cell_type": "code",
   "execution_count": 13,
   "id": "a43c737a",
   "metadata": {},
   "outputs": [],
   "source": [
    "def predict_using_training_set(md):\n",
    "    prediction = md.XGB.predict(md.x_test)\n",
    "    \n",
    "    training_set_predictions = pd.DataFrame(data = md.x_test, columns = md.predictors)\n",
    "    training_set_predictions[md.target_to_predict] = md.y_test\n",
    "    training_set_predictions[('Predicted' + md.target_to_predict)] = prediction\n",
    "    training_set_predictions.head()\n",
    "    \n",
    "    print(training_set_predictions.head())"
   ]
  },
  {
   "cell_type": "code",
   "execution_count": 17,
   "id": "ae3165d8",
   "metadata": {},
   "outputs": [
    {
     "name": "stdout",
     "output_type": "stream",
     "text": [
      "[[-0.5499791   1.00179101  0.49718553 ... -1.4216215  -0.00840004\n",
      "   1.3625251 ]\n",
      " [-0.86340315 -1.51485429  1.00245994 ... -0.05640549  0.9434725\n",
      "   0.80228331]\n",
      " [-0.31491107 -1.01152523  1.57991641 ...  1.30881051  0.17679708\n",
      "  -1.91776784]\n",
      " ...\n",
      " [-0.47162309 -1.51485429 -1.01863769 ...  0.96750651  0.13559643\n",
      "  -0.18052425]\n",
      " [ 1.40892121  1.50512007  1.50773435 ...  1.30881051  0.91796157\n",
      "  -1.26285749]\n",
      " [-0.5499791  -0.50819617  0.49718553 ... -1.4216215  -0.03244648\n",
      "   1.39350139]]\n",
      "================\n",
      "[[-0.07984303  1.50512007  0.71373171 ... -1.7629255  -1.34977814\n",
      "   0.4667058 ]\n",
      " [-0.94175917  1.00179101  1.00245994 ... -0.05640549  0.99821059\n",
      "   0.83178304]\n",
      " [-0.15819904  0.49846195  1.50773435 ...  1.30881051  0.88798013\n",
      "  -1.20880776]\n",
      " ...\n",
      " [ 0.62536109  0.49846195 -0.29681711 ...  1.30881051  1.40860902\n",
      "  -1.35520224]\n",
      " [-0.62833512  1.50512007 -0.58554534 ... -1.08031749  0.61421046\n",
      "   0.81310189]\n",
      " [ 0.076869   -0.00486711 -1.16300181 ... -0.39770949 -0.44392123\n",
      "   0.3995052 ]]\n"
     ]
    }
   ],
   "source": [
    "model_data = ModelData()\n",
    "\n",
    "configure_sets(model_data)\n",
    "data_normalization(model_data)"
   ]
  },
  {
   "cell_type": "code",
   "execution_count": 18,
   "id": "0d028f14",
   "metadata": {},
   "outputs": [
    {
     "name": "stdout",
     "output_type": "stream",
     "text": [
      "XGBRFRegressor(base_score=None, booster=None, colsample_bylevel=None,\n",
      "               colsample_bynode=0.2, colsample_bytree=None,\n",
      "               enable_categorical=False, gamma=None, gpu_id=None,\n",
      "               importance_type=None, interaction_constraints=None,\n",
      "               max_delta_step=None, max_depth=None, min_child_weight=None,\n",
      "               missing=nan, monotone_constraints=None, n_estimators=1000,\n",
      "               n_jobs=None, num_parallel_tree=None,\n",
      "               objective='reg:squarederror', predictor=None, random_state=None,\n",
      "               reg_alpha=None, scale_pos_weight=None, subsample=0.9,\n",
      "               tree_method=None, validate_parameters=None, verbosity=None)\n",
      "{'n_estimators': 1000}\n"
     ]
    }
   ],
   "source": [
    "create_model(model_data)\n",
    "#tune_hyper_parameters(model_data)"
   ]
  },
  {
   "cell_type": "code",
   "execution_count": 19,
   "id": "d7df0240",
   "metadata": {},
   "outputs": [
    {
     "name": "stdout",
     "output_type": "stream",
     "text": [
      "R2 Value: -0.09581801868218731\n",
      "Accuracy -inf\n"
     ]
    },
    {
     "data": {
      "image/png": "[encoded data removed]",
      "text/plain": [
       "<Figure size 432x288 with 1 Axes>"
      ]
     },
     "metadata": {
      "needs_background": "light"
     },
     "output_type": "display_data"
    }
   ],
   "source": [
    "fit_data(model_data)"
   ]
  },
  {
   "cell_type": "code",
   "execution_count": 20,
   "id": "c6e1ca40",
   "metadata": {},
   "outputs": [
    {
     "name": "stdout",
     "output_type": "stream",
     "text": [
      "   zipcode day_of_week station_area ems_units supervisor_district  \\\n",
      "0  94115.0           6         31.0         1                 1.0   \n",
      "1  94104.0           5         35.0         0                 6.0   \n",
      "2  94114.0           4         42.0         0                10.0   \n",
      "3  94111.0           2         28.0         0                 3.0   \n",
      "4  94110.0           3         11.0         0                 8.0   \n",
      "\n",
      "             point_x          point_y   minutes  Predictedminutes  \n",
      "0  -122.458731621534  37.779333157982  6.366667          6.719902  \n",
      "1  -122.394762431104  37.789619378253  6.283333          6.780571  \n",
      "2  -122.397765577236  37.732124787496  4.816667          6.780571  \n",
      "3  -122.414598058157  37.806394812885  4.916667          6.780571  \n",
      "4  -122.425532892336  37.743823671783  2.100000          6.780571  \n"
     ]
    }
   ],
   "source": [
    "predict_using_training_set(model_data)"
   ]
  }
 ],
 "metadata": {
  "kernelspec": {
   "display_name": "Python 3 (ipykernel)",
   "language": "python",
   "name": "python3"
  },
  "language_info": {
   "codemirror_mode": {
    "name": "ipython",
    "version": 3
   },
   "file_extension": ".py",
   "mimetype": "text/x-python",
   "name": "python",
   "nbconvert_exporter": "python",
   "pygments_lexer": "ipython3",
   "version": "3.7.9"
  }
 },
 "nbformat": 4,
 "nbformat_minor": 5
}
