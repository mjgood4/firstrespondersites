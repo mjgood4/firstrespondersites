{
 "cells": [
  {
   "cell_type": "code",
   "execution_count": 1,
   "id": "9e10b2be",
   "metadata": {},
   "outputs": [],
   "source": [
    "#packages\n",
    "import pandas as pd\n",
    "import numpy as np\n",
    "import warnings\n",
    "\n",
    "from numpy import asarray\n",
    "from numpy import mean\n",
    "from sklearn.datasets import make_regression\n",
    "from sklearn.model_selection import train_test_split\n",
    "from sklearn import metrics\n",
    "from xgboost import XGBRFRegressor"
   ]
  },
  {
   "cell_type": "code",
   "execution_count": 2,
   "id": "f43bffce",
   "metadata": {},
   "outputs": [],
   "source": [
    "# hide warnings\n",
    "warnings.filterwarnings('ignore')"
   ]
  },
  {
   "cell_type": "code",
   "execution_count": 3,
   "id": "ed803fcd",
   "metadata": {},
   "outputs": [],
   "source": [
    "def prepare_data():\n",
    "    df = read_data()\n",
    "    df = format_columns(df)\n",
    "    df = select_columns(df)\n",
    "\n",
    "    #Ignore NaN rows\n",
    "    df = df[df['minutes'].notna()]\n",
    "    df = df[df['point_x'].notna()]\n",
    "    df = df[df['point_y'].notna()]\n",
    "    \n",
    "    return df"
   ]
  },
  {
   "cell_type": "code",
   "execution_count": 4,
   "id": "779095b7",
   "metadata": {},
   "outputs": [],
   "source": [
    "def read_data():\n",
    "    df = pd.read_csv(\"fire_incidents.csv\")\n",
    "\n",
    "    return df"
   ]
  },
  {
   "cell_type": "code",
   "execution_count": 5,
   "id": "741c390e",
   "metadata": {},
   "outputs": [],
   "source": [
    "def format_columns(df):\n",
    "    df['alarm_format'] = pd.to_datetime(df['alarm_dttm'])\n",
    "    df['arrival_format'] = pd.to_datetime(df['arrival_dttm'])\n",
    "    df['arrival_time'] = (df['arrival_format'] - df['alarm_format'])\n",
    "    df['minutes'] = (df.arrival_time.dt.seconds) / 60\n",
    "    df['seconds'] = (df.arrival_time.dt.seconds)\n",
    "    df['day_of_week'] = df['alarm_format'].dt.day_name().astype(str)\n",
    "    df['dayflag'] = (df.alarm_format.dt.hour > 5) & (df.alarm_format.dt.hour <18)\n",
    "    \n",
    "    return df"
   ]
  },
  {
   "cell_type": "code",
   "execution_count": 6,
   "id": "58faa9d9",
   "metadata": {},
   "outputs": [],
   "source": [
    "def select_columns(df):\n",
    "    cols = ['minutes','seconds','alarm_format','arrival_format','day_of_week','dayflag','zipcode',\\\n",
    "        'battalion', 'station_area', 'ems_units', 'number_of_alarms', 'primary_situation',\\\n",
    "        'action_taken_primary', 'property_use', 'neighborhood_district', 'supervisor_district',\\\n",
    "        'arrival_time', 'point_x', 'point_y']\n",
    "    \n",
    "    return df[cols]"
   ]
  },
  {
   "cell_type": "code",
   "execution_count": 7,
   "id": "bbffd829",
   "metadata": {
    "scrolled": true
   },
   "outputs": [
    {
     "data": {
      "text/html": [
       "<div>\n",
       "<style scoped>\n",
       "    .dataframe tbody tr th:only-of-type {\n",
       "        vertical-align: middle;\n",
       "    }\n",
       "\n",
       "    .dataframe tbody tr th {\n",
       "        vertical-align: top;\n",
       "    }\n",
       "\n",
       "    .dataframe thead th {\n",
       "        text-align: right;\n",
       "    }\n",
       "</style>\n",
       "<table border=\"1\" class=\"dataframe\">\n",
       "  <thead>\n",
       "    <tr style=\"text-align: right;\">\n",
       "      <th></th>\n",
       "      <th>minutes</th>\n",
       "      <th>seconds</th>\n",
       "      <th>alarm_format</th>\n",
       "      <th>arrival_format</th>\n",
       "      <th>day_of_week</th>\n",
       "      <th>dayflag</th>\n",
       "      <th>zipcode</th>\n",
       "      <th>battalion</th>\n",
       "      <th>station_area</th>\n",
       "      <th>ems_units</th>\n",
       "      <th>number_of_alarms</th>\n",
       "      <th>primary_situation</th>\n",
       "      <th>action_taken_primary</th>\n",
       "      <th>property_use</th>\n",
       "      <th>neighborhood_district</th>\n",
       "      <th>supervisor_district</th>\n",
       "      <th>arrival_time</th>\n",
       "      <th>point_x</th>\n",
       "      <th>point_y</th>\n",
       "    </tr>\n",
       "  </thead>\n",
       "  <tbody>\n",
       "    <tr>\n",
       "      <th>0</th>\n",
       "      <td>9.0</td>\n",
       "      <td>540.0</td>\n",
       "      <td>2008-01-04 18:06:00</td>\n",
       "      <td>2008-01-04 18:15:00</td>\n",
       "      <td>Friday</td>\n",
       "      <td>False</td>\n",
       "      <td>94110</td>\n",
       "      <td>B06</td>\n",
       "      <td>11</td>\n",
       "      <td>0</td>\n",
       "      <td>1</td>\n",
       "      <td>412 - Gas leak (natural gas or LPG)</td>\n",
       "      <td>86 - Investigate</td>\n",
       "      <td>962 - Residential street, road or residential dr</td>\n",
       "      <td>Bernal Heights</td>\n",
       "      <td>9.0</td>\n",
       "      <td>0 days 00:09:00</td>\n",
       "      <td>-122.418373</td>\n",
       "      <td>37.742090</td>\n",
       "    </tr>\n",
       "    <tr>\n",
       "      <th>1</th>\n",
       "      <td>6.0</td>\n",
       "      <td>360.0</td>\n",
       "      <td>2008-01-04 18:00:00</td>\n",
       "      <td>2008-01-04 18:06:00</td>\n",
       "      <td>Friday</td>\n",
       "      <td>False</td>\n",
       "      <td>94107</td>\n",
       "      <td>B10</td>\n",
       "      <td>37</td>\n",
       "      <td>0</td>\n",
       "      <td>1</td>\n",
       "      <td>552 - Police matter</td>\n",
       "      <td>76 - Provide water</td>\n",
       "      <td>960 - Street, other</td>\n",
       "      <td>Potrero Hill</td>\n",
       "      <td>10.0</td>\n",
       "      <td>0 days 00:06:00</td>\n",
       "      <td>-122.394890</td>\n",
       "      <td>37.756291</td>\n",
       "    </tr>\n",
       "    <tr>\n",
       "      <th>2</th>\n",
       "      <td>3.0</td>\n",
       "      <td>180.0</td>\n",
       "      <td>2008-01-04 18:42:00</td>\n",
       "      <td>2008-01-04 18:45:00</td>\n",
       "      <td>Friday</td>\n",
       "      <td>False</td>\n",
       "      <td>94105</td>\n",
       "      <td>B03</td>\n",
       "      <td>1</td>\n",
       "      <td>0</td>\n",
       "      <td>1</td>\n",
       "      <td>210 - Steam Rupture, steam, other</td>\n",
       "      <td>86 - Investigate</td>\n",
       "      <td>429 - Multifamily dwellings</td>\n",
       "      <td>South of Market</td>\n",
       "      <td>NaN</td>\n",
       "      <td>0 days 00:03:00</td>\n",
       "      <td>-122.407468</td>\n",
       "      <td>37.780080</td>\n",
       "    </tr>\n",
       "    <tr>\n",
       "      <th>3</th>\n",
       "      <td>5.0</td>\n",
       "      <td>300.0</td>\n",
       "      <td>2008-01-04 19:03:00</td>\n",
       "      <td>2008-01-04 19:08:00</td>\n",
       "      <td>Friday</td>\n",
       "      <td>False</td>\n",
       "      <td>94102</td>\n",
       "      <td>B02</td>\n",
       "      <td>36</td>\n",
       "      <td>0</td>\n",
       "      <td>1</td>\n",
       "      <td>522 - Water or steam leak</td>\n",
       "      <td>64 - Shut down system</td>\n",
       "      <td>400 - Residential, other</td>\n",
       "      <td>Hayes Valley</td>\n",
       "      <td>5.0</td>\n",
       "      <td>0 days 00:05:00</td>\n",
       "      <td>-122.426849</td>\n",
       "      <td>37.776126</td>\n",
       "    </tr>\n",
       "    <tr>\n",
       "      <th>4</th>\n",
       "      <td>7.0</td>\n",
       "      <td>420.0</td>\n",
       "      <td>2008-01-04 19:16:00</td>\n",
       "      <td>2008-01-04 19:23:00</td>\n",
       "      <td>Friday</td>\n",
       "      <td>False</td>\n",
       "      <td>94121</td>\n",
       "      <td>B07</td>\n",
       "      <td>14</td>\n",
       "      <td>0</td>\n",
       "      <td>1</td>\n",
       "      <td>520 - Water problem, other</td>\n",
       "      <td>00 - Action taken, other</td>\n",
       "      <td>960 - Street, other</td>\n",
       "      <td>Outer Richmond</td>\n",
       "      <td>NaN</td>\n",
       "      <td>0 days 00:07:00</td>\n",
       "      <td>-122.486394</td>\n",
       "      <td>37.774285</td>\n",
       "    </tr>\n",
       "  </tbody>\n",
       "</table>\n",
       "</div>"
      ],
      "text/plain": [
       "   minutes  seconds        alarm_format      arrival_format day_of_week  \\\n",
       "0      9.0    540.0 2008-01-04 18:06:00 2008-01-04 18:15:00      Friday   \n",
       "1      6.0    360.0 2008-01-04 18:00:00 2008-01-04 18:06:00      Friday   \n",
       "2      3.0    180.0 2008-01-04 18:42:00 2008-01-04 18:45:00      Friday   \n",
       "3      5.0    300.0 2008-01-04 19:03:00 2008-01-04 19:08:00      Friday   \n",
       "4      7.0    420.0 2008-01-04 19:16:00 2008-01-04 19:23:00      Friday   \n",
       "\n",
       "   dayflag zipcode battalion station_area  ems_units  number_of_alarms  \\\n",
       "0    False   94110       B06           11          0                 1   \n",
       "1    False   94107       B10           37          0                 1   \n",
       "2    False   94105       B03            1          0                 1   \n",
       "3    False   94102       B02           36          0                 1   \n",
       "4    False   94121       B07           14          0                 1   \n",
       "\n",
       "                     primary_situation      action_taken_primary  \\\n",
       "0  412 - Gas leak (natural gas or LPG)          86 - Investigate   \n",
       "1                  552 - Police matter        76 - Provide water   \n",
       "2    210 - Steam Rupture, steam, other          86 - Investigate   \n",
       "3            522 - Water or steam leak     64 - Shut down system   \n",
       "4           520 - Water problem, other  00 - Action taken, other   \n",
       "\n",
       "                                       property_use neighborhood_district  \\\n",
       "0  962 - Residential street, road or residential dr        Bernal Heights   \n",
       "1                               960 - Street, other          Potrero Hill   \n",
       "2                       429 - Multifamily dwellings       South of Market   \n",
       "3                          400 - Residential, other          Hayes Valley   \n",
       "4                               960 - Street, other        Outer Richmond   \n",
       "\n",
       "   supervisor_district    arrival_time     point_x    point_y  \n",
       "0                  9.0 0 days 00:09:00 -122.418373  37.742090  \n",
       "1                 10.0 0 days 00:06:00 -122.394890  37.756291  \n",
       "2                  NaN 0 days 00:03:00 -122.407468  37.780080  \n",
       "3                  5.0 0 days 00:05:00 -122.426849  37.776126  \n",
       "4                  NaN 0 days 00:07:00 -122.486394  37.774285  "
      ]
     },
     "execution_count": 7,
     "metadata": {},
     "output_type": "execute_result"
    }
   ],
   "source": [
    "df = prepare_data()\n",
    "\n",
    "df.head()"
   ]
  },
  {
   "cell_type": "code",
   "execution_count": 8,
   "id": "e3e76051",
   "metadata": {},
   "outputs": [],
   "source": [
    "class ModelData:\n",
    "    x = None\n",
    "    y = None\n",
    "    x_train = None\n",
    "    x_test = None\n",
    "    y_train = None\n",
    "    y_test = None\n",
    "\n",
    "    model = None\n",
    "    target_to_predict = None\n",
    "    predictors = None\n",
    "    XGB = None"
   ]
  },
  {
   "cell_type": "code",
   "execution_count": 33,
   "id": "558b4fb1",
   "metadata": {},
   "outputs": [],
   "source": [
    "def configure_sets(md):\n",
    "    md.target_to_predict = 'minutes'\n",
    "    md.predictors = ['point_x', 'point_y']\n",
    "    \n",
    "    md.x = df[md.predictors].values\n",
    "    md.y = df[md.target_to_predict].values\n",
    "\n",
    "    #Split the data into training and testing set\n",
    "    md.x_train, md.x_test, md.y_train, md.y_test = train_test_split(md.x, md.y, test_size=0.8, random_state=42)"
   ]
  },
  {
   "cell_type": "code",
   "execution_count": 34,
   "id": "04867005",
   "metadata": {},
   "outputs": [],
   "source": [
    "def create_model(md):\n",
    "    #RegModel = XGBRegressor(max_depth=3, learning_rate=0.1, n_estimators=500, objective='reg:linear', booster='gbtree')\n",
    "    md.model = XGBRFRegressor(n_estimators=100, subsample=0.9, colsample_bynode=0.2)\n",
    "\n",
    "    #Printing all the parameters of XGBoost\n",
    "    print(md.model)\n",
    "    \n",
    "    #Creating the model on Training Data\n",
    "    md.XGB = md.model.fit(md.x_train, md.y_train)\n",
    "\n",
    "    #Measuring Goodness of fit in Training data\n",
    "    #print('R2 Value:',metrics.r2_score(y_train, XGB.predict(x_train)))\n",
    "\n",
    "    #Measuring accuracy on Testing Data\n",
    "    #print('Accuracy',100- (np.mean(np.abs((y_test - prediction) / y_test)) * 100))\n",
    "\n",
    "    #Plotting the feature importance for Top 10 most important columns \n",
    "    #%matplotlib inline\n",
    "    #feature_importances = pd.Series(XGB.feature_importances_, index=Predictors)\n",
    "    #feature_importances.nlargest(10).plot(kind='barh')"
   ]
  },
  {
   "cell_type": "code",
   "execution_count": 35,
   "id": "220b218c",
   "metadata": {},
   "outputs": [],
   "source": [
    "def predict_single_value(md):\n",
    "    row = [-122.429504,37.783009]\n",
    "    row = asarray([row])\n",
    "    \n",
    "    prediction = md.model.predict(row)\n",
    "    \n",
    "    print('Prediction: %f' % prediction[0])"
   ]
  },
  {
   "cell_type": "code",
   "execution_count": 36,
   "id": "a43c737a",
   "metadata": {},
   "outputs": [],
   "source": [
    "def predict_using_training_set(md):\n",
    "    prediction = md.XGB.predict(md.x_test)\n",
    "    \n",
    "    training_set_predictions = pd.DataFrame(data = md.x_test, columns = md.predictors)\n",
    "    training_set_predictions[md.target_to_predict] = md.y_test\n",
    "    training_set_predictions[('Predicted' + md.target_to_predict)] = prediction\n",
    "    training_set_predictions.head()\n",
    "    \n",
    "    print(training_set_predictions)"
   ]
  },
  {
   "cell_type": "code",
   "execution_count": 37,
   "id": "0d028f14",
   "metadata": {},
   "outputs": [
    {
     "name": "stdout",
     "output_type": "stream",
     "text": [
      "XGBRFRegressor(base_score=None, booster=None, colsample_bylevel=None,\n",
      "               colsample_bynode=0.2, colsample_bytree=None,\n",
      "               enable_categorical=False, gamma=None, gpu_id=None,\n",
      "               importance_type=None, interaction_constraints=None,\n",
      "               max_delta_step=None, max_depth=None, min_child_weight=None,\n",
      "               missing=nan, monotone_constraints=None, n_estimators=100,\n",
      "               n_jobs=None, num_parallel_tree=None,\n",
      "               objective='reg:squarederror', predictor=None, random_state=None,\n",
      "               reg_alpha=None, scale_pos_weight=None, subsample=0.9,\n",
      "               tree_method=None, validate_parameters=None, verbosity=None)\n"
     ]
    }
   ],
   "source": [
    "model_data = ModelData()\n",
    "\n",
    "configure_sets(model_data)\n",
    "create_model(model_data)"
   ]
  },
  {
   "cell_type": "code",
   "execution_count": 38,
   "id": "410012e8",
   "metadata": {},
   "outputs": [
    {
     "name": "stdout",
     "output_type": "stream",
     "text": [
      "Prediction: 4.637574\n"
     ]
    }
   ],
   "source": [
    "predict_single_value(model_data)"
   ]
  },
  {
   "cell_type": "code",
   "execution_count": 39,
   "id": "c6e1ca40",
   "metadata": {},
   "outputs": [
    {
     "name": "stdout",
     "output_type": "stream",
     "text": [
      "           point_x    point_y  minutes  Predictedminutes\n",
      "0      -122.434701  37.761095      0.0          4.832744\n",
      "1      -122.429504  37.783009      4.0          4.637574\n",
      "2      -122.486879  37.779993      3.0          4.994109\n",
      "3      -122.431999  37.786447      3.0          4.637574\n",
      "4      -122.401935  37.787941      5.0          4.709226\n",
      "...            ...        ...      ...               ...\n",
      "452887 -122.445463  37.771122      4.0          4.986398\n",
      "452888 -122.416204  37.732996      8.0          5.768368\n",
      "452889 -122.461028  37.800052      3.0          6.111874\n",
      "452890 -122.422544  37.798959      7.0          4.618063\n",
      "452891 -122.403299  37.756381      6.0          5.100289\n",
      "\n",
      "[452892 rows x 4 columns]\n"
     ]
    }
   ],
   "source": [
    "predict_using_training_set(model_data)"
   ]
  }
 ],
 "metadata": {
  "kernelspec": {
   "display_name": "Python 3 (ipykernel)",
   "language": "python",
   "name": "python3"
  },
  "language_info": {
   "codemirror_mode": {
    "name": "ipython",
    "version": 3
   },
   "file_extension": ".py",
   "mimetype": "text/x-python",
   "name": "python",
   "nbconvert_exporter": "python",
   "pygments_lexer": "ipython3",
   "version": "3.7.9"
  }
 },
 "nbformat": 4,
 "nbformat_minor": 5
}
