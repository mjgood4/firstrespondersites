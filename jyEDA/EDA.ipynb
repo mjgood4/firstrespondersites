{
 "cells": [
  {
   "cell_type": "code",
   "execution_count": 98,
   "source": [
    "import csv \r\n",
    "import numpy as np\r\n",
    "import pandas as pd\r\n",
    "import matplotlib.pyplot as plt\r\n",
    "import datetime\r\n"
   ],
   "outputs": [],
   "metadata": {}
  },
  {
   "cell_type": "code",
   "execution_count": 99,
   "source": [
    "data = csv.reader(open('.\\\\clean\\\\fire_incidents-csv-small.csv'))\r\n",
    "\r\n"
   ],
   "outputs": [],
   "metadata": {}
  },
  {
   "cell_type": "code",
   "execution_count": 100,
   "source": [
    "data = np.array(list(data))\r\n",
    "data = data[1:]\r\n",
    "\r\n",
    "\r\n",
    "#print(list(datetime.datetime.strptime(x, '%Y-%m-%dT%H:%M:%S') for x in data[:,6]))\r\n",
    "for i in [6,7]:\r\n",
    "    data[:,i] = list(datetime.datetime.strptime(x, '%Y-%m-%dT%H:%M:%S') for x in data[:,i])\r\n",
    "\r\n",
    "\r\n",
    "\r\n"
   ],
   "outputs": [],
   "metadata": {}
  },
  {
   "cell_type": "code",
   "execution_count": 116,
   "source": [
    "print(list((np.datetime64(x[7]) - np.datetime64(x[6])).astype('timedelta64[s]').astype(np.int32) for x in data))\r\n"
   ],
   "outputs": [
    {
     "output_type": "stream",
     "name": "stdout",
     "text": [
      "[522, 338, 197, 287, 456, 401, 154, 127, 295, 384, 317, 640, 271, 262, 379, 680, 582, 443, 465, 301, 311, 234, 279, 249, 362, 241, 330, 170, 316, 361, 711, 196, 412, 516, 643, 511, 962, 376, 436, 469, 179, 438, 630, 232, 241, 165, 275, 154, 530, 315, 371, 284, 234, 252, 224, 123, 0, 295, 391, 541, 305, 261, 241, 151, 349, 194, 397, 189, 256, 348, 316, 204, 136, 196, 160, 169, 170, 161, 129, 235, 198, 119, 212, 147, 232, 162, 189, 146, 418, 256, 177, 198, 180, 266, 236, 133, 295, 102, 120, 1853]\n"
     ]
    }
   ],
   "metadata": {}
  },
  {
   "cell_type": "code",
   "execution_count": 55,
   "source": [
    "print(BBox)"
   ],
   "outputs": [
    {
     "output_type": "stream",
     "name": "stdout",
     "text": [
      "(-122.509368, -122.3748374, 37.616901, 37.83019284)\n"
     ]
    }
   ],
   "metadata": {}
  },
  {
   "cell_type": "code",
   "execution_count": null,
   "source": [],
   "outputs": [],
   "metadata": {}
  }
 ],
 "metadata": {
  "orig_nbformat": 4,
  "language_info": {
   "name": "python",
   "version": "3.9.5",
   "mimetype": "text/x-python",
   "codemirror_mode": {
    "name": "ipython",
    "version": 3
   },
   "pygments_lexer": "ipython3",
   "nbconvert_exporter": "python",
   "file_extension": ".py"
  },
  "kernelspec": {
   "name": "python3",
   "display_name": "Python 3.9.5 64-bit ('jyEDA': conda)"
  },
  "interpreter": {
   "hash": "31139f53f3e7763be139e5f9ef1c49dd481e1a25247c7505f26cc1fc9191d362"
  }
 },
 "nbformat": 4,
 "nbformat_minor": 2
}