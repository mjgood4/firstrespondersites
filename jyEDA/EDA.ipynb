{
 "cells": [
  {
   "cell_type": "code",
   "execution_count": 163,
   "source": [
    "import csv \r\n",
    "import numpy as np\r\n",
    "import pandas as pd\r\n",
    "import matplotlib.pyplot as plt\r\n",
    "import datetime\r\n",
    "import json\r\n"
   ],
   "outputs": [],
   "metadata": {}
  },
  {
   "cell_type": "code",
   "execution_count": 164,
   "source": [
    "df = pd.read_csv('.\\\\clean\\\\fire_incidents-csv.csv')\r\n",
    "df.head()\r\n"
   ],
   "outputs": [
    {
     "output_type": "stream",
     "name": "stderr",
     "text": [
      "C:\\Users\\judey\\miniconda3\\envs\\jyEDA\\lib\\site-packages\\IPython\\core\\interactiveshell.py:3441: DtypeWarning: Columns (10,12,13,14,15,18,19,20,38,45,46,55,59) have mixed types.Specify dtype option on import or set low_memory=False.\n",
      "  exec(code_obj, self.user_global_ns, self.user_ns)\n"
     ]
    },
    {
     "output_type": "execute_result",
     "data": {
      "text/html": [
       "<div>\n",
       "<style scoped>\n",
       "    .dataframe tbody tr th:only-of-type {\n",
       "        vertical-align: middle;\n",
       "    }\n",
       "\n",
       "    .dataframe tbody tr th {\n",
       "        vertical-align: top;\n",
       "    }\n",
       "\n",
       "    .dataframe thead th {\n",
       "        text-align: right;\n",
       "    }\n",
       "</style>\n",
       "<table border=\"1\" class=\"dataframe\">\n",
       "  <thead>\n",
       "    <tr style=\"text-align: right;\">\n",
       "      <th></th>\n",
       "      <th>Incident Number</th>\n",
       "      <th>Exposure Number</th>\n",
       "      <th>ID</th>\n",
       "      <th>Address</th>\n",
       "      <th>Incident Date</th>\n",
       "      <th>Call Number</th>\n",
       "      <th>Alarm DtTm</th>\n",
       "      <th>Arrival DtTm</th>\n",
       "      <th>Close DtTm</th>\n",
       "      <th>City</th>\n",
       "      <th>...</th>\n",
       "      <th>Automatic Extinguishing System Present</th>\n",
       "      <th>Automatic Extinguishing Sytem Type</th>\n",
       "      <th>Automatic Extinguishing Sytem Perfomance</th>\n",
       "      <th>Automatic Extinguishing Sytem Failure Reason</th>\n",
       "      <th>Number of Sprinkler Heads Operating</th>\n",
       "      <th>Supervisor District</th>\n",
       "      <th>neighborhood_district</th>\n",
       "      <th>point</th>\n",
       "      <th>longitude</th>\n",
       "      <th>latitude</th>\n",
       "    </tr>\n",
       "  </thead>\n",
       "  <tbody>\n",
       "    <tr>\n",
       "      <th>0</th>\n",
       "      <td>8,028,304</td>\n",
       "      <td>0</td>\n",
       "      <td>80283040</td>\n",
       "      <td>150 Elsie St.</td>\n",
       "      <td>2008-04-01T00:00:00</td>\n",
       "      <td>80920257</td>\n",
       "      <td>2008-04-01T18:06:37</td>\n",
       "      <td>2008-04-01T18:15:19</td>\n",
       "      <td>2008-04-01T18:21:48</td>\n",
       "      <td>SF</td>\n",
       "      <td>...</td>\n",
       "      <td>NaN</td>\n",
       "      <td>NaN</td>\n",
       "      <td>NaN</td>\n",
       "      <td>NaN</td>\n",
       "      <td>NaN</td>\n",
       "      <td>9.0</td>\n",
       "      <td>Bernal Heights</td>\n",
       "      <td>POINT (-122.41837339 37.74208979)</td>\n",
       "      <td>-122.418373</td>\n",
       "      <td>37.742090</td>\n",
       "    </tr>\n",
       "    <tr>\n",
       "      <th>1</th>\n",
       "      <td>8,028,303</td>\n",
       "      <td>0</td>\n",
       "      <td>80283030</td>\n",
       "      <td>85 Turner Tr.</td>\n",
       "      <td>2008-04-01T00:00:00</td>\n",
       "      <td>80920256</td>\n",
       "      <td>2008-04-01T18:00:52</td>\n",
       "      <td>2008-04-01T18:06:30</td>\n",
       "      <td>2008-04-01T18:22:18</td>\n",
       "      <td>SF</td>\n",
       "      <td>...</td>\n",
       "      <td>NaN</td>\n",
       "      <td>NaN</td>\n",
       "      <td>NaN</td>\n",
       "      <td>NaN</td>\n",
       "      <td>NaN</td>\n",
       "      <td>10.0</td>\n",
       "      <td>Potrero Hill</td>\n",
       "      <td>POINT (-122.39489 37.756291)</td>\n",
       "      <td>-122.394890</td>\n",
       "      <td>37.756291</td>\n",
       "    </tr>\n",
       "    <tr>\n",
       "      <th>2</th>\n",
       "      <td>8,028,309</td>\n",
       "      <td>0</td>\n",
       "      <td>80283090</td>\n",
       "      <td>175 6th St.</td>\n",
       "      <td>2008-04-01T00:00:00</td>\n",
       "      <td>80920262</td>\n",
       "      <td>2008-04-01T18:42:06</td>\n",
       "      <td>2008-04-01T18:45:23</td>\n",
       "      <td>2008-04-01T18:53:25</td>\n",
       "      <td>SF</td>\n",
       "      <td>...</td>\n",
       "      <td>NaN</td>\n",
       "      <td>NaN</td>\n",
       "      <td>NaN</td>\n",
       "      <td>NaN</td>\n",
       "      <td>NaN</td>\n",
       "      <td>NaN</td>\n",
       "      <td>South of Market</td>\n",
       "      <td>POINT (-122.407468 37.78008)</td>\n",
       "      <td>-122.407468</td>\n",
       "      <td>37.780080</td>\n",
       "    </tr>\n",
       "    <tr>\n",
       "      <th>3</th>\n",
       "      <td>8,028,314</td>\n",
       "      <td>0</td>\n",
       "      <td>80283140</td>\n",
       "      <td>633 Hayes St.</td>\n",
       "      <td>2008-04-01T00:00:00</td>\n",
       "      <td>80920268</td>\n",
       "      <td>2008-04-01T19:03:52</td>\n",
       "      <td>2008-04-01T19:08:39</td>\n",
       "      <td>2008-04-01T19:35:36</td>\n",
       "      <td>SF</td>\n",
       "      <td>...</td>\n",
       "      <td>NaN</td>\n",
       "      <td>NaN</td>\n",
       "      <td>NaN</td>\n",
       "      <td>NaN</td>\n",
       "      <td>NaN</td>\n",
       "      <td>5.0</td>\n",
       "      <td>Hayes Valley</td>\n",
       "      <td>POINT (-122.42684908 37.77612642)</td>\n",
       "      <td>-122.426849</td>\n",
       "      <td>37.776126</td>\n",
       "    </tr>\n",
       "    <tr>\n",
       "      <th>4</th>\n",
       "      <td>8,028,319</td>\n",
       "      <td>0</td>\n",
       "      <td>80283190</td>\n",
       "      <td>27th Av. / Cabrillo St.</td>\n",
       "      <td>2008-04-01T00:00:00</td>\n",
       "      <td>80920273</td>\n",
       "      <td>2008-04-01T19:16:12</td>\n",
       "      <td>2008-04-01T19:23:48</td>\n",
       "      <td>2008-04-01T19:28:49</td>\n",
       "      <td>SF</td>\n",
       "      <td>...</td>\n",
       "      <td>NaN</td>\n",
       "      <td>NaN</td>\n",
       "      <td>NaN</td>\n",
       "      <td>NaN</td>\n",
       "      <td>NaN</td>\n",
       "      <td>NaN</td>\n",
       "      <td>Outer Richmond</td>\n",
       "      <td>POINT (-122.4863941 37.77428492)</td>\n",
       "      <td>-122.486394</td>\n",
       "      <td>37.774285</td>\n",
       "    </tr>\n",
       "  </tbody>\n",
       "</table>\n",
       "<p>5 rows × 66 columns</p>\n",
       "</div>"
      ],
      "text/plain": [
       "  Incident Number  Exposure Number        ID                  Address  \\\n",
       "0       8,028,304                0  80283040            150 Elsie St.   \n",
       "1       8,028,303                0  80283030            85 Turner Tr.   \n",
       "2       8,028,309                0  80283090              175 6th St.   \n",
       "3       8,028,314                0  80283140            633 Hayes St.   \n",
       "4       8,028,319                0  80283190  27th Av. / Cabrillo St.   \n",
       "\n",
       "         Incident Date  Call Number           Alarm DtTm         Arrival DtTm  \\\n",
       "0  2008-04-01T00:00:00     80920257  2008-04-01T18:06:37  2008-04-01T18:15:19   \n",
       "1  2008-04-01T00:00:00     80920256  2008-04-01T18:00:52  2008-04-01T18:06:30   \n",
       "2  2008-04-01T00:00:00     80920262  2008-04-01T18:42:06  2008-04-01T18:45:23   \n",
       "3  2008-04-01T00:00:00     80920268  2008-04-01T19:03:52  2008-04-01T19:08:39   \n",
       "4  2008-04-01T00:00:00     80920273  2008-04-01T19:16:12  2008-04-01T19:23:48   \n",
       "\n",
       "            Close DtTm City  ... Automatic Extinguishing System Present  \\\n",
       "0  2008-04-01T18:21:48   SF  ...                                    NaN   \n",
       "1  2008-04-01T18:22:18   SF  ...                                    NaN   \n",
       "2  2008-04-01T18:53:25   SF  ...                                    NaN   \n",
       "3  2008-04-01T19:35:36   SF  ...                                    NaN   \n",
       "4  2008-04-01T19:28:49   SF  ...                                    NaN   \n",
       "\n",
       "  Automatic Extinguishing Sytem Type Automatic Extinguishing Sytem Perfomance  \\\n",
       "0                                NaN                                      NaN   \n",
       "1                                NaN                                      NaN   \n",
       "2                                NaN                                      NaN   \n",
       "3                                NaN                                      NaN   \n",
       "4                                NaN                                      NaN   \n",
       "\n",
       "  Automatic Extinguishing Sytem Failure Reason  \\\n",
       "0                                          NaN   \n",
       "1                                          NaN   \n",
       "2                                          NaN   \n",
       "3                                          NaN   \n",
       "4                                          NaN   \n",
       "\n",
       "  Number of Sprinkler Heads Operating Supervisor District  \\\n",
       "0                                 NaN                 9.0   \n",
       "1                                 NaN                10.0   \n",
       "2                                 NaN                 NaN   \n",
       "3                                 NaN                 5.0   \n",
       "4                                 NaN                 NaN   \n",
       "\n",
       "   neighborhood_district                              point   longitude  \\\n",
       "0         Bernal Heights  POINT (-122.41837339 37.74208979) -122.418373   \n",
       "1           Potrero Hill       POINT (-122.39489 37.756291) -122.394890   \n",
       "2        South of Market       POINT (-122.407468 37.78008) -122.407468   \n",
       "3           Hayes Valley  POINT (-122.42684908 37.77612642) -122.426849   \n",
       "4         Outer Richmond   POINT (-122.4863941 37.77428492) -122.486394   \n",
       "\n",
       "    latitude  \n",
       "0  37.742090  \n",
       "1  37.756291  \n",
       "2  37.780080  \n",
       "3  37.776126  \n",
       "4  37.774285  \n",
       "\n",
       "[5 rows x 66 columns]"
      ]
     },
     "metadata": {},
     "execution_count": 164
    }
   ],
   "metadata": {}
  },
  {
   "cell_type": "code",
   "execution_count": 165,
   "source": [
    "df[\"Primary Situation\"] = df[\"Primary Situation\"].str.replace(\" - \", \" \")\r\n",
    "print(len(df[\"Primary Situation\"].unique()))\r\n",
    "pd.DataFrame(df[\"Primary Situation\"].unique()).to_csv('.\\\\clean\\\\primarysituation.csv')"
   ],
   "outputs": [
    {
     "output_type": "stream",
     "name": "stdout",
     "text": [
      "257\n"
     ]
    }
   ],
   "metadata": {}
  },
  {
   "cell_type": "code",
   "execution_count": 166,
   "source": [
    "df[\"Primary Situation\"] = df[\"Primary Situation\"].str.split(' ').str[0]\r\n",
    "print(len(df[\"Primary Situation\"].unique()))\r\n",
    "df[\"Primary Situation\"].unique()"
   ],
   "outputs": [
    {
     "output_type": "stream",
     "name": "stdout",
     "text": [
      "188\n"
     ]
    },
    {
     "output_type": "execute_result",
     "data": {
      "text/plain": [
       "array(['412', '552', '210', '522', '520', '733', '711', '113', '743',\n",
       "       '551', '411', '150', '413', '745', '118', '442', '322', '735',\n",
       "       '554', '311', '700', '600', '142', '111', '550', '444', '351',\n",
       "       '331', '500', '744', '653', '900', '323', '451', '445', '511',\n",
       "       '651', '730', '131', '531', '740', '741', '553', '151', '100',\n",
       "       '710', '140', '463', '220', '715', '130', '154', '223', '713',\n",
       "       '721', '300', '712', '321', '352', '714', '353', '400', '114',\n",
       "       '911', '731', '410', '440', '460', '652', '160', '221', '521',\n",
       "       '650', '422', '812', '621', '240', '672', '510', '213', '611',\n",
       "       '360', '542', '661', '671', '461', '200', '441', '541', '443',\n",
       "       '381', '641', '364', '736', '555', '742', '350', '11', '356',\n",
       "       '423', '112', '361', '561', '632', '362', '420', '746', '431',\n",
       "       '340', '251', '482', '365', '372', '371', '540', '734', '153',\n",
       "       '163', '512', '462', '370', '122', '152', '123', '143', '212',\n",
       "       '421', '164', '222', '116', '1', '480', '10', '117', '471', '342',\n",
       "       '211', '732', '162', '571', '354', '75', '25*', '814', '161',\n",
       "       '141', 'Y', '243', '341', 'CR', '357', '134', '138', '133', '242',\n",
       "       '137', '155', '121', '71', '173', '231', '241', '132', '751',\n",
       "       '355', '170', '481', '115', '815', '811', '424', '813', '800',\n",
       "       '135', '136', '363', '120', '622', '324', '343', '631', 'N/A',\n",
       "       '320', '430', '244', '1230', '1600', '4000'], dtype=object)"
      ]
     },
     "metadata": {},
     "execution_count": 166
    }
   ],
   "metadata": {}
  },
  {
   "cell_type": "code",
   "execution_count": 167,
   "source": [
    "primarySituationCounts = df.groupby(\"Primary Situation\").count()[\"Incident Number\"]\r\n",
    "pd.DataFrame(primarySituationCounts.unique()).to_csv('.\\\\clean\\\\primarysituation.csv')\r\n"
   ],
   "outputs": [],
   "metadata": {}
  },
  {
   "cell_type": "code",
   "execution_count": 168,
   "source": [
    "top10_situations = primarySituationCounts.sort_values(ascending=False).head(10)\r\n",
    "print(top10_situations)"
   ],
   "outputs": [
    {
     "output_type": "stream",
     "name": "stdout",
     "text": [
      "Primary Situation\n",
      "711    67185\n",
      "700    50772\n",
      "745    31652\n",
      "735    26023\n",
      "500    19986\n",
      "322    19928\n",
      "113    18435\n",
      "311    18256\n",
      "743    16900\n",
      "733    14835\n",
      "Name: Incident Number, dtype: int64\n"
     ]
    }
   ],
   "metadata": {}
  },
  {
   "cell_type": "markdown",
   "source": [
    "At this point I took the primary situation codes dumped to CSV and then cleaned them with OpenRefine, then exported them to primarysituation-csv.csv. Then, using this file as a lookup, I iterate through the top 10 primary situations, get the proper name value from this CSV, and dump that to JSON, from there its visualized with PowerBI. "
   ],
   "metadata": {}
  },
  {
   "cell_type": "code",
   "execution_count": 170,
   "source": [
    "primarySituationCodes = pd.read_csv('.\\\\clean\\\\primarysituation-csv.csv')\r\n",
    "\r\n",
    "def get_sitatuation_Name_for_code(code):\r\n",
    "    return primarySituationCodes[primarySituationCodes[\"Code\"] == code].values[0][0]\r\n",
    "\r\n",
    "\r\n"
   ],
   "outputs": [],
   "metadata": {}
  },
  {
   "cell_type": "code",
   "execution_count": 171,
   "source": [
    "key_values = dict()\r\n",
    "for key in top10_situations.keys():\r\n",
    "    key_values[get_sitatuation_Name_for_code(key)] = str(top10_situations[key])\r\n",
    "\r\n",
    "with open('.\\\\clean\\\\topX_primarySituations.json', 'w') as convert_file:\r\n",
    "     convert_file.write(json.dumps(key_values))"
   ],
   "outputs": [],
   "metadata": {}
  },
  {
   "cell_type": "code",
   "execution_count": null,
   "source": [],
   "outputs": [],
   "metadata": {}
  }
 ],
 "metadata": {
  "orig_nbformat": 4,
  "language_info": {
   "name": "python",
   "version": "3.9.5",
   "mimetype": "text/x-python",
   "codemirror_mode": {
    "name": "ipython",
    "version": 3
   },
   "pygments_lexer": "ipython3",
   "nbconvert_exporter": "python",
   "file_extension": ".py"
  },
  "kernelspec": {
   "name": "python3",
   "display_name": "Python 3.9.5 64-bit ('jyEDA': conda)"
  },
  "interpreter": {
   "hash": "31139f53f3e7763be139e5f9ef1c49dd481e1a25247c7505f26cc1fc9191d362"
  }
 },
 "nbformat": 4,
 "nbformat_minor": 2
}