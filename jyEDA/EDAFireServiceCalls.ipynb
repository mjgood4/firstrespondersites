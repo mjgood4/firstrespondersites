{
 "cells": [
  {
   "cell_type": "code",
   "execution_count": 2,
   "source": [
    "import numpy as np\r\n",
    "import pandas as pd\r\n",
    "import matplotlib.pyplot as plt"
   ],
   "outputs": [],
   "metadata": {}
  },
  {
   "cell_type": "code",
   "execution_count": 3,
   "source": [
    "df = pd.read_csv('C:\\\\Users\\\\750026384\\\\Downloads\\\\Fire_Department_Calls_for_Service.csv')\r\n",
    "df.head()"
   ],
   "outputs": [
    {
     "output_type": "stream",
     "name": "stderr",
     "text": [
      "C:\\Users\\750026384\\Miniconda3\\envs\\jyEDA\\lib\\site-packages\\IPython\\core\\interactiveshell.py:3441: DtypeWarning: Columns (19,20,25,30) have mixed types.Specify dtype option on import or set low_memory=False.\n",
      "  exec(code_obj, self.user_global_ns, self.user_ns)\n"
     ]
    },
    {
     "output_type": "execute_result",
     "data": {
      "text/html": [
       "<div>\n",
       "<style scoped>\n",
       "    .dataframe tbody tr th:only-of-type {\n",
       "        vertical-align: middle;\n",
       "    }\n",
       "\n",
       "    .dataframe tbody tr th {\n",
       "        vertical-align: top;\n",
       "    }\n",
       "\n",
       "    .dataframe thead th {\n",
       "        text-align: right;\n",
       "    }\n",
       "</style>\n",
       "<table border=\"1\" class=\"dataframe\">\n",
       "  <thead>\n",
       "    <tr style=\"text-align: right;\">\n",
       "      <th></th>\n",
       "      <th>Call Number</th>\n",
       "      <th>Unit ID</th>\n",
       "      <th>Incident Number</th>\n",
       "      <th>Call Type</th>\n",
       "      <th>Call Date</th>\n",
       "      <th>Watch Date</th>\n",
       "      <th>Received DtTm</th>\n",
       "      <th>Entry DtTm</th>\n",
       "      <th>Dispatch DtTm</th>\n",
       "      <th>Response DtTm</th>\n",
       "      <th>...</th>\n",
       "      <th>Call Type Group</th>\n",
       "      <th>Number of Alarms</th>\n",
       "      <th>Unit Type</th>\n",
       "      <th>Unit sequence in call dispatch</th>\n",
       "      <th>Fire Prevention District</th>\n",
       "      <th>Supervisor District</th>\n",
       "      <th>Neighborhooods - Analysis Boundaries</th>\n",
       "      <th>RowID</th>\n",
       "      <th>case_location</th>\n",
       "      <th>Analysis Neighborhoods</th>\n",
       "    </tr>\n",
       "  </thead>\n",
       "  <tbody>\n",
       "    <tr>\n",
       "      <th>0</th>\n",
       "      <td>211220229</td>\n",
       "      <td>54</td>\n",
       "      <td>21052265</td>\n",
       "      <td>Medical Incident</td>\n",
       "      <td>05/02/2021</td>\n",
       "      <td>05/01/2021</td>\n",
       "      <td>05/02/2021 02:52:22 AM</td>\n",
       "      <td>05/02/2021 02:54:09 AM</td>\n",
       "      <td>05/02/2021 02:54:17 AM</td>\n",
       "      <td>05/02/2021 02:54:22 AM</td>\n",
       "      <td>...</td>\n",
       "      <td>Non Life-threatening</td>\n",
       "      <td>1</td>\n",
       "      <td>MEDIC</td>\n",
       "      <td>2.0</td>\n",
       "      <td>9</td>\n",
       "      <td>11</td>\n",
       "      <td>Outer Mission</td>\n",
       "      <td>211220229-54</td>\n",
       "      <td>POINT (-122.44916885747516 37.71245377965039)</td>\n",
       "      <td>28.0</td>\n",
       "    </tr>\n",
       "    <tr>\n",
       "      <th>1</th>\n",
       "      <td>210690030</td>\n",
       "      <td>T03</td>\n",
       "      <td>21030278</td>\n",
       "      <td>Alarms</td>\n",
       "      <td>03/10/2021</td>\n",
       "      <td>03/09/2021</td>\n",
       "      <td>03/10/2021 12:16:03 AM</td>\n",
       "      <td>03/10/2021 12:18:36 AM</td>\n",
       "      <td>03/10/2021 12:19:01 AM</td>\n",
       "      <td>03/10/2021 12:20:15 AM</td>\n",
       "      <td>...</td>\n",
       "      <td>Alarm</td>\n",
       "      <td>1</td>\n",
       "      <td>TRUCK</td>\n",
       "      <td>3.0</td>\n",
       "      <td>2</td>\n",
       "      <td>6</td>\n",
       "      <td>Tenderloin</td>\n",
       "      <td>210690030-T03</td>\n",
       "      <td>POINT (-122.41697932641094 37.7770834641944)</td>\n",
       "      <td>36.0</td>\n",
       "    </tr>\n",
       "    <tr>\n",
       "      <th>2</th>\n",
       "      <td>210391607</td>\n",
       "      <td>E19</td>\n",
       "      <td>21017645</td>\n",
       "      <td>Alarms</td>\n",
       "      <td>02/08/2021</td>\n",
       "      <td>02/08/2021</td>\n",
       "      <td>02/08/2021 01:00:14 PM</td>\n",
       "      <td>02/08/2021 01:01:36 PM</td>\n",
       "      <td>02/08/2021 01:01:40 PM</td>\n",
       "      <td>02/08/2021 01:03:21 PM</td>\n",
       "      <td>...</td>\n",
       "      <td>Alarm</td>\n",
       "      <td>1</td>\n",
       "      <td>ENGINE</td>\n",
       "      <td>1.0</td>\n",
       "      <td>8</td>\n",
       "      <td>7</td>\n",
       "      <td>Lakeshore</td>\n",
       "      <td>210391607-E19</td>\n",
       "      <td>POINT (-122.48045074945836 37.7190118676788)</td>\n",
       "      <td>16.0</td>\n",
       "    </tr>\n",
       "    <tr>\n",
       "      <th>3</th>\n",
       "      <td>212173268</td>\n",
       "      <td>B06</td>\n",
       "      <td>21093161</td>\n",
       "      <td>Alarms</td>\n",
       "      <td>08/05/2021</td>\n",
       "      <td>08/05/2021</td>\n",
       "      <td>08/05/2021 09:36:42 PM</td>\n",
       "      <td>08/05/2021 09:38:01 PM</td>\n",
       "      <td>08/05/2021 09:38:39 PM</td>\n",
       "      <td>08/05/2021 09:40:09 PM</td>\n",
       "      <td>...</td>\n",
       "      <td>Alarm</td>\n",
       "      <td>1</td>\n",
       "      <td>CHIEF</td>\n",
       "      <td>1.0</td>\n",
       "      <td>6</td>\n",
       "      <td>8</td>\n",
       "      <td>Mission</td>\n",
       "      <td>212173268-B06</td>\n",
       "      <td>POINT (-122.4209570965718 37.75449478673656)</td>\n",
       "      <td>20.0</td>\n",
       "    </tr>\n",
       "    <tr>\n",
       "      <th>4</th>\n",
       "      <td>212173268</td>\n",
       "      <td>T11</td>\n",
       "      <td>21093161</td>\n",
       "      <td>Alarms</td>\n",
       "      <td>08/05/2021</td>\n",
       "      <td>08/05/2021</td>\n",
       "      <td>08/05/2021 09:36:42 PM</td>\n",
       "      <td>08/05/2021 09:38:01 PM</td>\n",
       "      <td>08/05/2021 09:38:39 PM</td>\n",
       "      <td>08/05/2021 09:39:53 PM</td>\n",
       "      <td>...</td>\n",
       "      <td>Alarm</td>\n",
       "      <td>1</td>\n",
       "      <td>TRUCK</td>\n",
       "      <td>2.0</td>\n",
       "      <td>6</td>\n",
       "      <td>8</td>\n",
       "      <td>Mission</td>\n",
       "      <td>212173268-T11</td>\n",
       "      <td>POINT (-122.4209570965718 37.75449478673656)</td>\n",
       "      <td>20.0</td>\n",
       "    </tr>\n",
       "  </tbody>\n",
       "</table>\n",
       "<p>5 rows × 35 columns</p>\n",
       "</div>"
      ],
      "text/plain": [
       "   Call Number Unit ID  Incident Number         Call Type   Call Date  \\\n",
       "0    211220229      54         21052265  Medical Incident  05/02/2021   \n",
       "1    210690030     T03         21030278            Alarms  03/10/2021   \n",
       "2    210391607     E19         21017645            Alarms  02/08/2021   \n",
       "3    212173268     B06         21093161            Alarms  08/05/2021   \n",
       "4    212173268     T11         21093161            Alarms  08/05/2021   \n",
       "\n",
       "   Watch Date           Received DtTm              Entry DtTm  \\\n",
       "0  05/01/2021  05/02/2021 02:52:22 AM  05/02/2021 02:54:09 AM   \n",
       "1  03/09/2021  03/10/2021 12:16:03 AM  03/10/2021 12:18:36 AM   \n",
       "2  02/08/2021  02/08/2021 01:00:14 PM  02/08/2021 01:01:36 PM   \n",
       "3  08/05/2021  08/05/2021 09:36:42 PM  08/05/2021 09:38:01 PM   \n",
       "4  08/05/2021  08/05/2021 09:36:42 PM  08/05/2021 09:38:01 PM   \n",
       "\n",
       "            Dispatch DtTm           Response DtTm  ...       Call Type Group  \\\n",
       "0  05/02/2021 02:54:17 AM  05/02/2021 02:54:22 AM  ...  Non Life-threatening   \n",
       "1  03/10/2021 12:19:01 AM  03/10/2021 12:20:15 AM  ...                 Alarm   \n",
       "2  02/08/2021 01:01:40 PM  02/08/2021 01:03:21 PM  ...                 Alarm   \n",
       "3  08/05/2021 09:38:39 PM  08/05/2021 09:40:09 PM  ...                 Alarm   \n",
       "4  08/05/2021 09:38:39 PM  08/05/2021 09:39:53 PM  ...                 Alarm   \n",
       "\n",
       "  Number of Alarms Unit Type Unit sequence in call dispatch  \\\n",
       "0                1     MEDIC                            2.0   \n",
       "1                1     TRUCK                            3.0   \n",
       "2                1    ENGINE                            1.0   \n",
       "3                1     CHIEF                            1.0   \n",
       "4                1     TRUCK                            2.0   \n",
       "\n",
       "  Fire Prevention District Supervisor District  \\\n",
       "0                        9                  11   \n",
       "1                        2                   6   \n",
       "2                        8                   7   \n",
       "3                        6                   8   \n",
       "4                        6                   8   \n",
       "\n",
       "  Neighborhooods - Analysis Boundaries          RowID  \\\n",
       "0                        Outer Mission   211220229-54   \n",
       "1                           Tenderloin  210690030-T03   \n",
       "2                            Lakeshore  210391607-E19   \n",
       "3                              Mission  212173268-B06   \n",
       "4                              Mission  212173268-T11   \n",
       "\n",
       "                                   case_location Analysis Neighborhoods  \n",
       "0  POINT (-122.44916885747516 37.71245377965039)                   28.0  \n",
       "1   POINT (-122.41697932641094 37.7770834641944)                   36.0  \n",
       "2   POINT (-122.48045074945836 37.7190118676788)                   16.0  \n",
       "3   POINT (-122.4209570965718 37.75449478673656)                   20.0  \n",
       "4   POINT (-122.4209570965718 37.75449478673656)                   20.0  \n",
       "\n",
       "[5 rows x 35 columns]"
      ]
     },
     "metadata": {},
     "execution_count": 3
    }
   ],
   "metadata": {}
  },
  {
   "cell_type": "code",
   "execution_count": 4,
   "source": [
    "df.head(50)\r\n",
    "df.groupby(\"Unit Type\").count()[\"Call Number\"]"
   ],
   "outputs": [
    {
     "output_type": "execute_result",
     "data": {
      "text/plain": [
       "Unit Type\n",
       "AIRPORT             19408\n",
       "CHIEF              420168\n",
       "ENGINE            2127456\n",
       "INVESTIGATION        5891\n",
       "MEDIC             1747500\n",
       "PRIVATE            387407\n",
       "RESCUE CAPTAIN     194598\n",
       "RESCUE SQUAD        99006\n",
       "SUPPORT             55184\n",
       "TRUCK              601884\n",
       "Name: Call Number, dtype: int64"
      ]
     },
     "metadata": {},
     "execution_count": 4
    }
   ],
   "metadata": {}
  },
  {
   "cell_type": "code",
   "execution_count": 5,
   "source": [
    "df = df.drop(columns='Watch Date')"
   ],
   "outputs": [],
   "metadata": {}
  },
  {
   "cell_type": "code",
   "execution_count": 6,
   "source": [
    "df_trucks_engines = df[(df[\"Unit Type\"] == \"ENGINE\") | (df[\"Unit Type\"] == \"TRUCK\")]"
   ],
   "outputs": [],
   "metadata": {}
  },
  {
   "cell_type": "code",
   "execution_count": 7,
   "source": [
    "df_trucks_engines.groupby(\"Unit ID\").count()[\"Call Number\"]"
   ],
   "outputs": [
    {
     "output_type": "execute_result",
     "data": {
      "text/plain": [
       "Unit ID\n",
       "E01    177293\n",
       "E02     60900\n",
       "E03    183586\n",
       "E04      4991\n",
       "E05     76579\n",
       "        ...  \n",
       "TF3         6\n",
       "TF4         4\n",
       "TF6         5\n",
       "TF8         2\n",
       "TF9         1\n",
       "Name: Call Number, Length: 84, dtype: int64"
      ]
     },
     "metadata": {},
     "execution_count": 7
    }
   ],
   "metadata": {}
  },
  {
   "cell_type": "code",
   "execution_count": 19,
   "source": [
    "\r\n",
    "df_trucks_engines['Response DtTm'] = pd.to_datetime(df_trucks_engines['Response DtTm'])\r\n",
    "\r\n",
    "df_trucks_engines.dtypes\r\n"
   ],
   "outputs": [
    {
     "output_type": "stream",
     "name": "stderr",
     "text": [
      "C:\\Users\\750026~1\\AppData\\Local\\Temp/ipykernel_7820/1457469638.py:2: SettingWithCopyWarning: \n",
      "A value is trying to be set on a copy of a slice from a DataFrame.\n",
      "Try using .loc[row_indexer,col_indexer] = value instead\n",
      "\n",
      "See the caveats in the documentation: https://pandas.pydata.org/pandas-docs/stable/user_guide/indexing.html#returning-a-view-versus-a-copy\n",
      "  df_trucks_engines['Response DtTm'] = pd.to_datetime(df_trucks_engines['Response DtTm'])\n"
     ]
    },
    {
     "output_type": "execute_result",
     "data": {
      "text/plain": [
       "Call Number                                       int64\n",
       "Unit ID                                          object\n",
       "Incident Number                                   int64\n",
       "Call Type                                        object\n",
       "Call Date                                        object\n",
       "Received DtTm                                    object\n",
       "Entry DtTm                                       object\n",
       "Dispatch DtTm                                    object\n",
       "Response DtTm                            datetime64[ns]\n",
       "On Scene DtTm                                    object\n",
       "Transport DtTm                                   object\n",
       "Hospital DtTm                                    object\n",
       "Call Final Disposition                           object\n",
       "Available DtTm                                   object\n",
       "Address                                          object\n",
       "City                                             object\n",
       "Zipcode of Incident                             float64\n",
       "Battalion                                        object\n",
       "Station Area                                     object\n",
       "Box                                              object\n",
       "Original Priority                                object\n",
       "Priority                                         object\n",
       "Final Priority                                    int64\n",
       "ALS Unit                                           bool\n",
       "Call Type Group                                  object\n",
       "Number of Alarms                                  int64\n",
       "Unit Type                                        object\n",
       "Unit sequence in call dispatch                  float64\n",
       "Fire Prevention District                         object\n",
       "Supervisor District                              object\n",
       "Neighborhooods - Analysis Boundaries             object\n",
       "RowID                                            object\n",
       "case_location                                    object\n",
       "Analysis Neighborhoods                          float64\n",
       "Response Time                           timedelta64[ns]\n",
       "dtype: object"
      ]
     },
     "metadata": {},
     "execution_count": 19
    }
   ],
   "metadata": {}
  },
  {
   "cell_type": "code",
   "execution_count": 20,
   "source": [
    "#(df_trucks_engines['Response Time'] -df_trucks_engines['Response DtTm']).astype('timedelta64[s]')\r\n",
    "\r\n",
    "df_trucks_engines['On Scene DtTm'] = pd.to_datetime(df_trucks_engines['On Scene DtTm'])\r\n",
    " "
   ],
   "outputs": [
    {
     "output_type": "stream",
     "name": "stderr",
     "text": [
      "C:\\Users\\750026~1\\AppData\\Local\\Temp/ipykernel_7820/2302094319.py:3: SettingWithCopyWarning: \n",
      "A value is trying to be set on a copy of a slice from a DataFrame.\n",
      "Try using .loc[row_indexer,col_indexer] = value instead\n",
      "\n",
      "See the caveats in the documentation: https://pandas.pydata.org/pandas-docs/stable/user_guide/indexing.html#returning-a-view-versus-a-copy\n",
      "  df_trucks_engines['On Scene DtTm'] = pd.to_datetime(df_trucks_engines['On Scene DtTm'])\n"
     ]
    }
   ],
   "metadata": {}
  },
  {
   "cell_type": "code",
   "execution_count": 29,
   "source": [
    "df_trucks_engines['Response Time']  = (df_trucks_engines['On Scene DtTm'] -df_trucks_engines['Response DtTm']).astype('timedelta64[s]')"
   ],
   "outputs": [
    {
     "output_type": "stream",
     "name": "stderr",
     "text": [
      "C:\\Users\\750026~1\\AppData\\Local\\Temp/ipykernel_7820/1799359632.py:1: SettingWithCopyWarning: \n",
      "A value is trying to be set on a copy of a slice from a DataFrame.\n",
      "Try using .loc[row_indexer,col_indexer] = value instead\n",
      "\n",
      "See the caveats in the documentation: https://pandas.pydata.org/pandas-docs/stable/user_guide/indexing.html#returning-a-view-versus-a-copy\n",
      "  df_trucks_engines['Response Time']  = (df_trucks_engines['On Scene DtTm'] -df_trucks_engines['Response DtTm']).astype('timedelta64[s]')\n"
     ]
    }
   ],
   "metadata": {}
  },
  {
   "cell_type": "code",
   "execution_count": 31,
   "source": [
    "df_trucks_engines['Response Time'].sort_values(ascending=False).head(50)"
   ],
   "outputs": [
    {
     "output_type": "execute_result",
     "data": {
      "text/plain": [
       "4277873    96870.0\n",
       "4688330    93644.0\n",
       "3840033    87643.0\n",
       "4764330    85848.0\n",
       "4664989    70561.0\n",
       "1200045    65267.0\n",
       "1224449    57490.0\n",
       "5625720    55935.0\n",
       "1255311    50901.0\n",
       "1195926    42782.0\n",
       "4349703    41718.0\n",
       "5621746    40066.0\n",
       "1176371    39358.0\n",
       "460164     38411.0\n",
       "2659465    38206.0\n",
       "3295219    38081.0\n",
       "5138014    34278.0\n",
       "4106155    33926.0\n",
       "1471288    33574.0\n",
       "351983     27147.0\n",
       "1156837    25325.0\n",
       "1322354    24151.0\n",
       "1258327    23936.0\n",
       "1087233    22989.0\n",
       "4068080    21496.0\n",
       "1207338    19519.0\n",
       "1256233    19195.0\n",
       "1400415    18972.0\n",
       "402440     18187.0\n",
       "698928     18051.0\n",
       "2603652    17881.0\n",
       "4007380    17252.0\n",
       "362073     15930.0\n",
       "5614804    15915.0\n",
       "5517430    15915.0\n",
       "5609359    15915.0\n",
       "5585143    15915.0\n",
       "5523023    15915.0\n",
       "3231533    15853.0\n",
       "4084819    15726.0\n",
       "4023737    15261.0\n",
       "3986494    15170.0\n",
       "1331685    15160.0\n",
       "3974446    15022.0\n",
       "3047620    14815.0\n",
       "4398406    14638.0\n",
       "5096114    14345.0\n",
       "4010204    14127.0\n",
       "4399069    13595.0\n",
       "54212      13493.0\n",
       "Name: Response Time, dtype: float64"
      ]
     },
     "metadata": {},
     "execution_count": 31
    }
   ],
   "metadata": {}
  },
  {
   "cell_type": "code",
   "execution_count": 32,
   "source": [
    "pd.DataFrame(df_trucks_engines).to_csv('.\\\\clean\\\\truckEngineServiceCalls.csv')"
   ],
   "outputs": [],
   "metadata": {}
  },
  {
   "cell_type": "code",
   "execution_count": 39,
   "source": [
    "pd.DataFrame(df_trucks_engines['Unit ID'].unique()).to_csv('.\\\\clean\\\\truckengineunits.csv')\r\n"
   ],
   "outputs": [],
   "metadata": {}
  },
  {
   "cell_type": "code",
   "execution_count": null,
   "source": [],
   "outputs": [],
   "metadata": {}
  }
 ],
 "metadata": {
  "orig_nbformat": 4,
  "language_info": {
   "name": "python",
   "version": "3.9.5",
   "mimetype": "text/x-python",
   "codemirror_mode": {
    "name": "ipython",
    "version": 3
   },
   "pygments_lexer": "ipython3",
   "nbconvert_exporter": "python",
   "file_extension": ".py"
  },
  "kernelspec": {
   "name": "python3",
   "display_name": "Python 3.9.5 64-bit ('jyEDA': conda)"
  },
  "interpreter": {
   "hash": "3f85194dbbece65e5f1e769470cefc43f4023bb5dbd0f29f0a6d66e8c4e76863"
  }
 },
 "nbformat": 4,
 "nbformat_minor": 2
}