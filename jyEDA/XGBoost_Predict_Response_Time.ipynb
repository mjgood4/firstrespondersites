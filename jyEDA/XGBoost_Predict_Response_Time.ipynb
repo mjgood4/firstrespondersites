{
 "cells": [
  {
   "cell_type": "code",
   "execution_count": 1,
   "metadata": {},
   "outputs": [],
   "source": [
    "#packages\n",
    "import pandas as pd\n",
    "import numpy as np\n",
    "import matplotlib as plt\n",
    "\n",
    "import warnings\n",
    "import sqlite3\n",
    "\n",
    "from numpy import asarray\n",
    "from numpy import mean\n",
    "from numpy import std\n",
    "from sklearn.datasets import make_regression\n",
    "from sklearn.model_selection import cross_val_score\n",
    "from sklearn.model_selection import RepeatedKFold\n",
    "from sklearn.model_selection import train_test_split\n",
    "from sklearn import metrics\n",
    "from xgboost import XGBRFRegressor"
   ]
  },
  {
   "cell_type": "code",
   "execution_count": 2,
   "metadata": {},
   "outputs": [],
   "source": [
    "def create_connection(path):\n",
    "    connection = None \n",
    "    connection = sqlite3.connect(path)\n",
    "    connection.text_factory = str\n",
    "\n",
    "    return connection"
   ]
  },
  {
   "cell_type": "code",
   "execution_count": 3,
   "metadata": {},
   "outputs": [],
   "source": [
    "##Update this, its probably not where your DB is\n",
    "con = create_connection('C:\\\\Data\\\\fire_data_v4.db\\\\fire_data_v4.db')\n"
   ]
  },
  {
   "cell_type": "markdown",
   "metadata": {},
   "source": [
    "Get the on scene time and response time from calls for service, join it to the catchment output to get zone_idx, accessibiliy, also getting primary situation index"
   ]
  },
  {
   "cell_type": "code",
   "execution_count": 4,
   "metadata": {},
   "outputs": [],
   "source": [
    "    cur = con.cursor()\n",
    "\n",
    "    df = pd.read_sql(\"select calls_for_service.analysis_neighborhoods as neighborhood \" \\\n",
    "        \", calls_for_service.call_number \" \\\n",
    "        \", calls_for_service.incident_number \" \\\n",
    "        \", floating_catchment_output.[index] \" \\\n",
    "        \", floating_catchment_output.zone_idx \" \\\n",
    "        \", floating_catchment_output.accessibility_score \" \\\n",
    "        \", floating_catchment_output.scenario_name \" \\\n",
    "        \", calls_for_service.on_scene_dttm \" \\\n",
    "        \", calls_for_service.response_dttm   \" \\\n",
    "        \", category_mappings.[index] as primary_situation_index \" \\\n",
    "        \"from floating_catchment_output \" \\\n",
    "        \"inner join zone_idx_to_incident on  \" \\\n",
    "        \"zone_idx_to_incident.zone_idx = floating_catchment_output.zone_idx \" \\\n",
    "        \"inner join calls_for_service on calls_for_service.incident_number = zone_idx_to_incident.incident_number \" \\\n",
    "        \"left join fire_incidents AS fi on calls_for_service.incident_number = fi.incident_number \" \\\n",
    "        \"left join category_mappings on fi.primary_situation = category_mappings.primary_situation \" \\\n",
    "        \"where calls_for_service.unit_type in ('TRUCK', 'ENGINE') \" \\\n",
    "        \"and scenario_name = 'baseline'\",con = con) "
   ]
  },
  {
   "cell_type": "code",
   "execution_count": 5,
   "metadata": {},
   "outputs": [
    {
     "data": {
      "text/html": [
       "<div>\n",
       "<style scoped>\n",
       "    .dataframe tbody tr th:only-of-type {\n",
       "        vertical-align: middle;\n",
       "    }\n",
       "\n",
       "    .dataframe tbody tr th {\n",
       "        vertical-align: top;\n",
       "    }\n",
       "\n",
       "    .dataframe thead th {\n",
       "        text-align: right;\n",
       "    }\n",
       "</style>\n",
       "<table border=\"1\" class=\"dataframe\">\n",
       "  <thead>\n",
       "    <tr style=\"text-align: right;\">\n",
       "      <th></th>\n",
       "      <th>neighborhood</th>\n",
       "      <th>call_number</th>\n",
       "      <th>incident_number</th>\n",
       "      <th>index</th>\n",
       "      <th>zone_idx</th>\n",
       "      <th>accessibility_score</th>\n",
       "      <th>scenario_name</th>\n",
       "      <th>on_scene_dttm</th>\n",
       "      <th>response_dttm</th>\n",
       "      <th>primary_situation_index</th>\n",
       "    </tr>\n",
       "  </thead>\n",
       "  <tbody>\n",
       "    <tr>\n",
       "      <th>0</th>\n",
       "      <td>29.0</td>\n",
       "      <td>190012684</td>\n",
       "      <td>19000313</td>\n",
       "      <td>0</td>\n",
       "      <td>8</td>\n",
       "      <td>0.000803</td>\n",
       "      <td>baseline</td>\n",
       "      <td>2019-01-01 16:25:28</td>\n",
       "      <td>01/01/2019 04:22:21 PM</td>\n",
       "      <td>NaN</td>\n",
       "    </tr>\n",
       "    <tr>\n",
       "      <th>1</th>\n",
       "      <td>29.0</td>\n",
       "      <td>190012684</td>\n",
       "      <td>19000313</td>\n",
       "      <td>0</td>\n",
       "      <td>8</td>\n",
       "      <td>0.000803</td>\n",
       "      <td>baseline</td>\n",
       "      <td>2019-01-01 16:23:04</td>\n",
       "      <td>01/01/2019 04:18:06 PM</td>\n",
       "      <td>NaN</td>\n",
       "    </tr>\n",
       "    <tr>\n",
       "      <th>2</th>\n",
       "      <td>29.0</td>\n",
       "      <td>190022379</td>\n",
       "      <td>19000734</td>\n",
       "      <td>0</td>\n",
       "      <td>8</td>\n",
       "      <td>0.000803</td>\n",
       "      <td>baseline</td>\n",
       "      <td>2019-01-02 15:35:57</td>\n",
       "      <td>01/02/2019 03:31:21 PM</td>\n",
       "      <td>NaN</td>\n",
       "    </tr>\n",
       "    <tr>\n",
       "      <th>3</th>\n",
       "      <td>29.0</td>\n",
       "      <td>190053013</td>\n",
       "      <td>19002138</td>\n",
       "      <td>0</td>\n",
       "      <td>8</td>\n",
       "      <td>0.000803</td>\n",
       "      <td>baseline</td>\n",
       "      <td>2019-01-05 20:41:37</td>\n",
       "      <td>01/05/2019 08:40:16 PM</td>\n",
       "      <td>NaN</td>\n",
       "    </tr>\n",
       "    <tr>\n",
       "      <th>4</th>\n",
       "      <td>29.0</td>\n",
       "      <td>190060098</td>\n",
       "      <td>19002211</td>\n",
       "      <td>0</td>\n",
       "      <td>8</td>\n",
       "      <td>0.000803</td>\n",
       "      <td>baseline</td>\n",
       "      <td>2019-01-06 00:54:34</td>\n",
       "      <td>01/06/2019 12:52:49 AM</td>\n",
       "      <td>148.0</td>\n",
       "    </tr>\n",
       "  </tbody>\n",
       "</table>\n",
       "</div>"
      ],
      "text/plain": [
       "   neighborhood  call_number  incident_number  index  zone_idx  \\\n",
       "0          29.0    190012684         19000313      0         8   \n",
       "1          29.0    190012684         19000313      0         8   \n",
       "2          29.0    190022379         19000734      0         8   \n",
       "3          29.0    190053013         19002138      0         8   \n",
       "4          29.0    190060098         19002211      0         8   \n",
       "\n",
       "   accessibility_score scenario_name        on_scene_dttm  \\\n",
       "0             0.000803      baseline  2019-01-01 16:25:28   \n",
       "1             0.000803      baseline  2019-01-01 16:23:04   \n",
       "2             0.000803      baseline  2019-01-02 15:35:57   \n",
       "3             0.000803      baseline  2019-01-05 20:41:37   \n",
       "4             0.000803      baseline  2019-01-06 00:54:34   \n",
       "\n",
       "            response_dttm  primary_situation_index  \n",
       "0  01/01/2019 04:22:21 PM                      NaN  \n",
       "1  01/01/2019 04:18:06 PM                      NaN  \n",
       "2  01/02/2019 03:31:21 PM                      NaN  \n",
       "3  01/05/2019 08:40:16 PM                      NaN  \n",
       "4  01/06/2019 12:52:49 AM                    148.0  "
      ]
     },
     "execution_count": 5,
     "metadata": {},
     "output_type": "execute_result"
    }
   ],
   "source": [
    "df.head()"
   ]
  },
  {
   "cell_type": "code",
   "execution_count": 30,
   "metadata": {},
   "outputs": [],
   "source": [
    "#do some date math\n",
    "df['on_scene_dttm'] = pd.to_datetime(df['on_scene_dttm'])\n",
    "df['response_dttm'] = pd.to_datetime(df['response_dttm'])\n",
    "df['arrival_time'] = (df['on_scene_dttm'] - df['response_dttm'])\n",
    "df['minutes'] = (df.arrival_time.dt.seconds) / 60\n",
    "df['seconds'] = (df.arrival_time.dt.seconds) \n",
    "df['day_of_week'] = df['on_scene_dttm'].dt.dayofweek\n",
    "df['dayflag'] = (df.response_dttm.dt.hour > 5) & (df.response_dttm.dt.hour < 18)\n",
    "\n",
    "df = df[df['dayflag'].notna()]\n",
    "df = df[df['day_of_week'].notna()]"
   ]
  },
  {
   "cell_type": "code",
   "execution_count": 65,
   "metadata": {},
   "outputs": [
    {
     "name": "stdout",
     "output_type": "stream",
     "text": [
      "3515\n"
     ]
    },
    {
     "data": {
      "text/html": [
       "<div>\n",
       "<style scoped>\n",
       "    .dataframe tbody tr th:only-of-type {\n",
       "        vertical-align: middle;\n",
       "    }\n",
       "\n",
       "    .dataframe tbody tr th {\n",
       "        vertical-align: top;\n",
       "    }\n",
       "\n",
       "    .dataframe thead th {\n",
       "        text-align: right;\n",
       "    }\n",
       "</style>\n",
       "<table border=\"1\" class=\"dataframe\">\n",
       "  <thead>\n",
       "    <tr style=\"text-align: right;\">\n",
       "      <th></th>\n",
       "      <th>zone_idx</th>\n",
       "      <th>day_of_week</th>\n",
       "      <th>dayflag</th>\n",
       "      <th>accessibility_score</th>\n",
       "      <th>minutes</th>\n",
       "    </tr>\n",
       "  </thead>\n",
       "  <tbody>\n",
       "    <tr>\n",
       "      <th>0</th>\n",
       "      <td>8</td>\n",
       "      <td>0.0</td>\n",
       "      <td>False</td>\n",
       "      <td>0.000803</td>\n",
       "      <td>7.283333</td>\n",
       "    </tr>\n",
       "    <tr>\n",
       "      <th>1</th>\n",
       "      <td>8</td>\n",
       "      <td>0.0</td>\n",
       "      <td>True</td>\n",
       "      <td>0.000803</td>\n",
       "      <td>7.289506</td>\n",
       "    </tr>\n",
       "    <tr>\n",
       "      <th>2</th>\n",
       "      <td>8</td>\n",
       "      <td>1.0</td>\n",
       "      <td>False</td>\n",
       "      <td>0.000803</td>\n",
       "      <td>2.916667</td>\n",
       "    </tr>\n",
       "    <tr>\n",
       "      <th>3</th>\n",
       "      <td>8</td>\n",
       "      <td>1.0</td>\n",
       "      <td>True</td>\n",
       "      <td>0.000803</td>\n",
       "      <td>14.403333</td>\n",
       "    </tr>\n",
       "    <tr>\n",
       "      <th>4</th>\n",
       "      <td>8</td>\n",
       "      <td>2.0</td>\n",
       "      <td>False</td>\n",
       "      <td>0.000803</td>\n",
       "      <td>3.583333</td>\n",
       "    </tr>\n",
       "  </tbody>\n",
       "</table>\n",
       "</div>"
      ],
      "text/plain": [
       "   zone_idx  day_of_week  dayflag  accessibility_score    minutes\n",
       "0         8          0.0    False             0.000803   7.283333\n",
       "1         8          0.0     True             0.000803   7.289506\n",
       "2         8          1.0    False             0.000803   2.916667\n",
       "3         8          1.0     True             0.000803  14.403333\n",
       "4         8          2.0    False             0.000803   3.583333"
      ]
     },
     "execution_count": 65,
     "metadata": {},
     "output_type": "execute_result"
    }
   ],
   "source": [
    "#rool up accessibility and minutes to zone\n",
    "df_ag = df.groupby([\"zone_idx\",\"day_of_week\", \"dayflag\"], as_index=False).agg({\"accessibility_score\":\"mean\", \"minutes\":\"mean\"})\n",
    "print(len(df_ag))\n",
    "df_ag.head()"
   ]
  },
  {
   "cell_type": "code",
   "execution_count": 91,
   "metadata": {},
   "outputs": [],
   "source": [
    "# hide the warings.\n",
    "# I mean if it was really important it would just be an error, so blissfully ignore\n",
    "warnings.filterwarnings('ignore')\n",
    "\n",
    "# set the training variables\n",
    "df_ag.target_to_predict = 'minutes'\n",
    "df_ag.predictors = ['zone_idx', 'day_of_week', 'dayflag', 'accessibility_score']\n",
    "\n",
    "df_ag.x = df_ag[df_ag.predictors].values\n",
    "df_ag.y = df_ag[df_ag.target_to_predict].values\n",
    "\n",
    "df_ag.x_train, df_ag.x_test, df_ag.y_train, df_ag.y_test = train_test_split(df_ag.x, df_ag.y, test_size=0.8, random_state=42)\n",
    "\n"
   ]
  },
  {
   "cell_type": "code",
   "execution_count": 93,
   "metadata": {},
   "outputs": [],
   "source": [
    "#copy/paste code:\n",
    "\n",
    "def create_model(md):\n",
    "    #RegModel = XGBRegressor(max_depth=3, learning_rate=0.1, n_estimators=500, objective='reg:linear', booster='gbtree')\n",
    "    md.model = XGBRFRegressor(n_estimators=4000, subsample=0.9, colsample_bynode=0.2)\n",
    "\n",
    "    #Printing all the parameters of XGBoost\n",
    "    print(md.model)\n",
    "    \n",
    "    #Creating the model on Training Data\n",
    "    md.XGB = md.model.fit(md.x_train, md.y_train)\n",
    "    \n",
    "    prediction = md.XGB.predict(md.x_test)\n",
    "\n",
    "    #Measuring Goodness of fit in Training data\n",
    "    print('R2 Value:', metrics.r2_score(md.y_train, md.XGB.predict(md.x_train)))\n",
    "\n",
    "    #Measuring accuracy on Testing Data\n",
    "    print('md.ytest', md.y_test)\n",
    "    print('Accuracy', 100 - (np.mean(np.abs((md.y_test - prediction)) / np.mean(md.y_test)) * 100))\n",
    "    print('Accuracy', 100 - (np.mean(np.abs((md.y_test - prediction) / md.y_test)) * 100))\n",
    "\n",
    "    #Plotting the feature importance for Top 10 most important columns \n",
    "    %matplotlib inline\n",
    "    feature_importances = pd.Series(md.XGB.feature_importances_, index = md.predictors)\n",
    "    feature_importances.nlargest(10).plot(kind = 'barh')\n",
    "\n"
   ]
  },
  {
   "cell_type": "code",
   "execution_count": 111,
   "metadata": {},
   "outputs": [
    {
     "name": "stdout",
     "output_type": "stream",
     "text": [
      "XGBRFRegressor(base_score=None, booster=None, colsample_bylevel=None,\n",
      "               colsample_bynode=0.2, colsample_bytree=None,\n",
      "               enable_categorical=False, gamma=None, gpu_id=None,\n",
      "               importance_type=None, interaction_constraints=None,\n",
      "               max_delta_step=None, max_depth=None, min_child_weight=None,\n",
      "               missing=nan, monotone_constraints=None, n_estimators=4000,\n",
      "               n_jobs=None, num_parallel_tree=None,\n",
      "               objective='reg:squarederror', predictor=None, random_state=None,\n",
      "               reg_alpha=None, scale_pos_weight=None, subsample=0.9,\n",
      "               tree_method=None, validate_parameters=None, verbosity=None)\n",
      "R2 Value: 0.30300739787979436\n",
      "md.ytest [2.68459596 4.14375    4.22727273 ... 3.64583333 3.36666667 3.05      ]\n",
      "Accuracy 74.08628914017433\n",
      "Accuracy -inf\n"
     ]
    },
    {
     "data": {
      "image/png": "[encoded data removed]",
      "text/plain": [
       "<Figure size 432x288 with 1 Axes>"
      ]
     },
     "metadata": {
      "needs_background": "light"
     },
     "output_type": "display_data"
    }
   ],
   "source": [
    "create_model(df_ag)"
   ]
  },
  {
   "cell_type": "code",
   "execution_count": 116,
   "metadata": {},
   "outputs": [
    {
     "name": "stdout",
     "output_type": "stream",
     "text": [
      "   zone_idx  accessibility_score  day_of_week  dayflag\n",
      "0         8             0.000512            3     True\n",
      "1        27             0.000220            3     True\n",
      "2        28             0.000364            3     True\n",
      "3        47             0.000397            3     True\n",
      "4        48             0.000397            3     True\n",
      "zone_idx               265\n",
      "accessibility_score    265\n",
      "day_of_week            265\n",
      "dayflag                265\n",
      "dtype: int64\n"
     ]
    }
   ],
   "source": [
    "#Get data to predict\n",
    "cur = con.cursor()\n",
    "scenario_name = \"new_station_235\"\n",
    "day_of_week = 3\n",
    "dayFlag = True\n",
    "df_to_predict = pd.read_sql(('select zone_idx, accessibility_score, ? as day_of_week, ? as dayflag from simulation_floating_catchment_output where scenario_name = ?'), con=con,params=[day_of_week, dayFlag, scenario_name])\n",
    "#assumptions\n",
    "df_to_predict[\"dayflag\"] = dayFlag\n",
    "df_to_predict[\"day_of_week\"] = day_of_week\n",
    "print(df_to_predict.head())\n",
    "print(df_to_predict.count())"
   ]
  },
  {
   "cell_type": "code",
   "execution_count": 117,
   "metadata": {},
   "outputs": [
    {
     "name": "stdout",
     "output_type": "stream",
     "text": [
      "265\n"
     ]
    }
   ],
   "source": [
    "#do prediction and append predicted values\n",
    "prediction = df_ag.XGB.predict(df_to_predict[[\"zone_idx\", \"accessibility_score\", \"day_of_week\", \"dayflag\"]])\n",
    "print(len(prediction))\n",
    "df_to_predict['predicted_minutes'] = prediction\n",
    "\n",
    "\n",
    "\n"
   ]
  },
  {
   "cell_type": "code",
   "execution_count": 105,
   "metadata": {},
   "outputs": [
    {
     "name": "stdout",
     "output_type": "stream",
     "text": [
      "   zone_idx  accessibility_score  day_of_week  dayflag  predicted_minutes\n",
      "0         8             0.000512            3     True           4.511531\n",
      "   zone_idx  day_of_week  dayflag  accessibility_score   minutes\n",
      "7         8          3.0     True             0.000803  4.379365\n"
     ]
    }
   ],
   "source": [
    "\n",
    "print(df_to_predict[df_to_predict[\"zone_idx\"]==8])\n",
    "print(df_ag[(df_ag[\"zone_idx\"]==8) & (df_ag[\"day_of_week\"]==3) & (df_ag[\"dayflag\"]==True)])"
   ]
  },
  {
   "cell_type": "code",
   "execution_count": 106,
   "metadata": {},
   "outputs": [
    {
     "name": "stdout",
     "output_type": "stream",
     "text": [
      "   zone_idx  accessibility_score_x  day_of_week  dayflag  predicted_minutes  \\\n",
      "0         8               0.000512            3     True           4.511531   \n",
      "1        27               0.000220            3     True           4.153079   \n",
      "2        28               0.000364            3     True           4.151036   \n",
      "3        47               0.000397            3     True           4.183992   \n",
      "4        48               0.000397            3     True           4.179683   \n",
      "\n",
      "   accessibility_score_y   minutes  \n",
      "0               0.000803  4.379365  \n",
      "1               0.000646  4.361905  \n",
      "2               0.000646  2.984524  \n",
      "3               0.000646  3.650000  \n",
      "4               0.000646  3.197849  \n",
      "254\n"
     ]
    }
   ],
   "source": [
    "compare_error = df_to_predict.merge(df_ag, how=\"inner\", on=[\"zone_idx\", \"day_of_week\",\"dayflag\"])\n",
    "\n",
    "print(compare_error.head())\n",
    "print(len(compare_error))"
   ]
  },
  {
   "cell_type": "code",
   "execution_count": 88,
   "metadata": {},
   "outputs": [
    {
     "ename": "KeyError",
     "evalue": "\"['accessibility_score'] not in index\"",
     "output_type": "error",
     "traceback": [
      "\u001b[1;31m---------------------------------------------------------------------------\u001b[0m",
      "\u001b[1;31mKeyError\u001b[0m                                  Traceback (most recent call last)",
      "\u001b[1;32m~\\AppData\\Local\\Temp/ipykernel_22884/579779368.py\u001b[0m in \u001b[0;36m<module>\u001b[1;34m\u001b[0m\n\u001b[0;32m      1\u001b[0m \u001b[0mactuals\u001b[0m \u001b[1;33m=\u001b[0m \u001b[0mactuals\u001b[0m\u001b[1;33m[\u001b[0m\u001b[0mactuals\u001b[0m\u001b[1;33m[\u001b[0m\u001b[1;34m\"day_of_week\"\u001b[0m\u001b[1;33m]\u001b[0m \u001b[1;33m==\u001b[0m \u001b[0mday_of_week\u001b[0m\u001b[1;33m]\u001b[0m\u001b[1;33m\u001b[0m\u001b[1;33m\u001b[0m\u001b[0m\n\u001b[1;32m----> 2\u001b[1;33m \u001b[0mactuals\u001b[0m \u001b[1;33m=\u001b[0m \u001b[0mactuals\u001b[0m\u001b[1;33m[\u001b[0m\u001b[1;33m[\u001b[0m\u001b[1;34m\"zone_idx\"\u001b[0m\u001b[1;33m,\u001b[0m \u001b[1;34m\"accessibility_score\"\u001b[0m\u001b[1;33m,\u001b[0m \u001b[1;34m\"minutes\"\u001b[0m\u001b[1;33m]\u001b[0m\u001b[1;33m]\u001b[0m\u001b[1;33m\u001b[0m\u001b[1;33m\u001b[0m\u001b[0m\n\u001b[0m\u001b[0;32m      3\u001b[0m \u001b[0mprint\u001b[0m\u001b[1;33m(\u001b[0m\u001b[0mlen\u001b[0m\u001b[1;33m(\u001b[0m\u001b[0mdf_to_predict\u001b[0m\u001b[1;33m)\u001b[0m\u001b[1;33m)\u001b[0m\u001b[1;33m\u001b[0m\u001b[1;33m\u001b[0m\u001b[0m\n\u001b[0;32m      4\u001b[0m \u001b[0mprint\u001b[0m\u001b[1;33m(\u001b[0m\u001b[0mlen\u001b[0m\u001b[1;33m(\u001b[0m\u001b[0mactuals\u001b[0m\u001b[1;33m)\u001b[0m\u001b[1;33m)\u001b[0m\u001b[1;33m\u001b[0m\u001b[1;33m\u001b[0m\u001b[0m\n",
      "\u001b[1;32m~\\miniconda3\\envs\\jyEDA\\lib\\site-packages\\pandas\\core\\frame.py\u001b[0m in \u001b[0;36m__getitem__\u001b[1;34m(self, key)\u001b[0m\n\u001b[0;32m   3462\u001b[0m             \u001b[1;32mif\u001b[0m \u001b[0mis_iterator\u001b[0m\u001b[1;33m(\u001b[0m\u001b[0mkey\u001b[0m\u001b[1;33m)\u001b[0m\u001b[1;33m:\u001b[0m\u001b[1;33m\u001b[0m\u001b[1;33m\u001b[0m\u001b[0m\n\u001b[0;32m   3463\u001b[0m                 \u001b[0mkey\u001b[0m \u001b[1;33m=\u001b[0m \u001b[0mlist\u001b[0m\u001b[1;33m(\u001b[0m\u001b[0mkey\u001b[0m\u001b[1;33m)\u001b[0m\u001b[1;33m\u001b[0m\u001b[1;33m\u001b[0m\u001b[0m\n\u001b[1;32m-> 3464\u001b[1;33m             \u001b[0mindexer\u001b[0m \u001b[1;33m=\u001b[0m \u001b[0mself\u001b[0m\u001b[1;33m.\u001b[0m\u001b[0mloc\u001b[0m\u001b[1;33m.\u001b[0m\u001b[0m_get_listlike_indexer\u001b[0m\u001b[1;33m(\u001b[0m\u001b[0mkey\u001b[0m\u001b[1;33m,\u001b[0m \u001b[0maxis\u001b[0m\u001b[1;33m=\u001b[0m\u001b[1;36m1\u001b[0m\u001b[1;33m)\u001b[0m\u001b[1;33m[\u001b[0m\u001b[1;36m1\u001b[0m\u001b[1;33m]\u001b[0m\u001b[1;33m\u001b[0m\u001b[1;33m\u001b[0m\u001b[0m\n\u001b[0m\u001b[0;32m   3465\u001b[0m \u001b[1;33m\u001b[0m\u001b[0m\n\u001b[0;32m   3466\u001b[0m         \u001b[1;31m# take() does not accept boolean indexers\u001b[0m\u001b[1;33m\u001b[0m\u001b[1;33m\u001b[0m\u001b[1;33m\u001b[0m\u001b[0m\n",
      "\u001b[1;32m~\\miniconda3\\envs\\jyEDA\\lib\\site-packages\\pandas\\core\\indexing.py\u001b[0m in \u001b[0;36m_get_listlike_indexer\u001b[1;34m(self, key, axis)\u001b[0m\n\u001b[0;32m   1312\u001b[0m             \u001b[0mkeyarr\u001b[0m\u001b[1;33m,\u001b[0m \u001b[0mindexer\u001b[0m\u001b[1;33m,\u001b[0m \u001b[0mnew_indexer\u001b[0m \u001b[1;33m=\u001b[0m \u001b[0max\u001b[0m\u001b[1;33m.\u001b[0m\u001b[0m_reindex_non_unique\u001b[0m\u001b[1;33m(\u001b[0m\u001b[0mkeyarr\u001b[0m\u001b[1;33m)\u001b[0m\u001b[1;33m\u001b[0m\u001b[1;33m\u001b[0m\u001b[0m\n\u001b[0;32m   1313\u001b[0m \u001b[1;33m\u001b[0m\u001b[0m\n\u001b[1;32m-> 1314\u001b[1;33m         \u001b[0mself\u001b[0m\u001b[1;33m.\u001b[0m\u001b[0m_validate_read_indexer\u001b[0m\u001b[1;33m(\u001b[0m\u001b[0mkeyarr\u001b[0m\u001b[1;33m,\u001b[0m \u001b[0mindexer\u001b[0m\u001b[1;33m,\u001b[0m \u001b[0maxis\u001b[0m\u001b[1;33m)\u001b[0m\u001b[1;33m\u001b[0m\u001b[1;33m\u001b[0m\u001b[0m\n\u001b[0m\u001b[0;32m   1315\u001b[0m \u001b[1;33m\u001b[0m\u001b[0m\n\u001b[0;32m   1316\u001b[0m         if needs_i8_conversion(ax.dtype) or isinstance(\n",
      "\u001b[1;32m~\\miniconda3\\envs\\jyEDA\\lib\\site-packages\\pandas\\core\\indexing.py\u001b[0m in \u001b[0;36m_validate_read_indexer\u001b[1;34m(self, key, indexer, axis)\u001b[0m\n\u001b[0;32m   1375\u001b[0m \u001b[1;33m\u001b[0m\u001b[0m\n\u001b[0;32m   1376\u001b[0m             \u001b[0mnot_found\u001b[0m \u001b[1;33m=\u001b[0m \u001b[0mlist\u001b[0m\u001b[1;33m(\u001b[0m\u001b[0mensure_index\u001b[0m\u001b[1;33m(\u001b[0m\u001b[0mkey\u001b[0m\u001b[1;33m)\u001b[0m\u001b[1;33m[\u001b[0m\u001b[0mmissing_mask\u001b[0m\u001b[1;33m.\u001b[0m\u001b[0mnonzero\u001b[0m\u001b[1;33m(\u001b[0m\u001b[1;33m)\u001b[0m\u001b[1;33m[\u001b[0m\u001b[1;36m0\u001b[0m\u001b[1;33m]\u001b[0m\u001b[1;33m]\u001b[0m\u001b[1;33m.\u001b[0m\u001b[0munique\u001b[0m\u001b[1;33m(\u001b[0m\u001b[1;33m)\u001b[0m\u001b[1;33m)\u001b[0m\u001b[1;33m\u001b[0m\u001b[1;33m\u001b[0m\u001b[0m\n\u001b[1;32m-> 1377\u001b[1;33m             \u001b[1;32mraise\u001b[0m \u001b[0mKeyError\u001b[0m\u001b[1;33m(\u001b[0m\u001b[1;34mf\"{not_found} not in index\"\u001b[0m\u001b[1;33m)\u001b[0m\u001b[1;33m\u001b[0m\u001b[1;33m\u001b[0m\u001b[0m\n\u001b[0m\u001b[0;32m   1378\u001b[0m \u001b[1;33m\u001b[0m\u001b[0m\n\u001b[0;32m   1379\u001b[0m \u001b[1;33m\u001b[0m\u001b[0m\n",
      "\u001b[1;31mKeyError\u001b[0m: \"['accessibility_score'] not in index\""
     ]
    }
   ],
   "source": [
    "\n",
    "actuals = actuals[actuals[\"day_of_week\"] == day_of_week]\n",
    "actuals = actuals[[\"zone_idx\", \"accessibility_score\", \"minutes\"]]\n",
    "print(len(df_to_predict))\n",
    "print(len(actuals))"
   ]
  },
  {
   "cell_type": "code",
   "execution_count": 63,
   "metadata": {},
   "outputs": [
    {
     "ename": "ValueError",
     "evalue": "operands could not be broadcast together with shapes (265,) (254,) ",
     "output_type": "error",
     "traceback": [
      "\u001b[1;31m---------------------------------------------------------------------------\u001b[0m",
      "\u001b[1;31mValueError\u001b[0m                                Traceback (most recent call last)",
      "\u001b[1;32m~\\AppData\\Local\\Temp/ipykernel_22884/851127137.py\u001b[0m in \u001b[0;36m<module>\u001b[1;34m\u001b[0m\n\u001b[1;32m----> 1\u001b[1;33m \u001b[0mnp\u001b[0m\u001b[1;33m.\u001b[0m\u001b[0msum\u001b[0m\u001b[1;33m(\u001b[0m\u001b[0mnp\u001b[0m\u001b[1;33m.\u001b[0m\u001b[0msquare\u001b[0m\u001b[1;33m(\u001b[0m\u001b[0mnp\u001b[0m\u001b[1;33m.\u001b[0m\u001b[0marray\u001b[0m\u001b[1;33m(\u001b[0m\u001b[0mdf_to_predict\u001b[0m\u001b[1;33m)\u001b[0m\u001b[1;33m[\u001b[0m\u001b[1;33m:\u001b[0m\u001b[1;33m,\u001b[0m\u001b[1;36m1\u001b[0m\u001b[1;33m]\u001b[0m \u001b[1;33m-\u001b[0m \u001b[0mnp\u001b[0m\u001b[1;33m.\u001b[0m\u001b[0marray\u001b[0m\u001b[1;33m(\u001b[0m\u001b[0mactuals\u001b[0m\u001b[1;33m)\u001b[0m\u001b[1;33m[\u001b[0m\u001b[1;33m:\u001b[0m\u001b[1;33m,\u001b[0m\u001b[1;36m1\u001b[0m\u001b[1;33m]\u001b[0m\u001b[1;33m)\u001b[0m\u001b[1;33m)\u001b[0m\u001b[1;33m\u001b[0m\u001b[1;33m\u001b[0m\u001b[0m\n\u001b[0m",
      "\u001b[1;31mValueError\u001b[0m: operands could not be broadcast together with shapes (265,) (254,) "
     ]
    }
   ],
   "source": [
    "\n",
    "\n",
    "np.sum(np.square(np.array(df_to_predict)[:,1] - np.array(actuals)[:,1]))\n"
   ]
  },
  {
   "cell_type": "code",
   "execution_count": 62,
   "metadata": {},
   "outputs": [
    {
     "data": {
      "text/plain": [
       "50.132364300819525"
      ]
     },
     "execution_count": 62,
     "metadata": {},
     "output_type": "execute_result"
    }
   ],
   "source": [
    "\n",
    "\n",
    "np.sum(np.square(np.average(np.array(actuals)[2]) - np.array(actuals)[2]))\n",
    "\n"
   ]
  },
  {
   "cell_type": "code",
   "execution_count": null,
   "metadata": {},
   "outputs": [],
   "source": []
  }
 ],
 "metadata": {
  "interpreter": {
   "hash": "31139f53f3e7763be139e5f9ef1c49dd481e1a25247c7505f26cc1fc9191d362"
  },
  "kernelspec": {
   "display_name": "Python 3.9.5 64-bit ('jyEDA': conda)",
   "name": "python3"
  },
  "language_info": {
   "codemirror_mode": {
    "name": "ipython",
    "version": 3
   },
   "file_extension": ".py",
   "mimetype": "text/x-python",
   "name": "python",
   "nbconvert_exporter": "python",
   "pygments_lexer": "ipython3",
   "version": "3.9.5"
  },
  "orig_nbformat": 4
 },
 "nbformat": 4,
 "nbformat_minor": 2
}
