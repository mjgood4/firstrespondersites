{
 "cells": [
  {
   "cell_type": "code",
   "execution_count": 1,
   "metadata": {},
   "outputs": [],
   "source": [
    "#packages\n",
    "import pandas as pd\n",
    "import numpy as np\n",
    "import matplotlib as plt\n",
    "\n",
    "import warnings\n",
    "import sqlite3\n",
    "\n",
    "from numpy import asarray\n",
    "from numpy import mean\n",
    "from numpy import std\n",
    "from sklearn.datasets import make_regression\n",
    "from sklearn.model_selection import cross_val_score\n",
    "from sklearn.model_selection import RepeatedKFold\n",
    "from sklearn.model_selection import train_test_split\n",
    "from sklearn import metrics\n",
    "from xgboost import XGBRFRegressor"
   ]
  },
  {
   "cell_type": "code",
   "execution_count": 3,
   "metadata": {},
   "outputs": [],
   "source": [
    "def create_connection(path):\n",
    "    connection = None \n",
    "    connection = sqlite3.connect(path)\n",
    "    connection.text_factory = str\n",
    "\n",
    "    return connection"
   ]
  },
  {
   "cell_type": "code",
   "execution_count": 4,
   "metadata": {},
   "outputs": [],
   "source": [
    "##Update this, its probably not where your DB is\n",
    "con = create_connection('C:\\\\Data\\\\fire_data_v4.db\\\\fire_data_v4.db')\n"
   ]
  },
  {
   "cell_type": "markdown",
   "metadata": {},
   "source": [
    "Get the on scene time and response time from calls for service, join it to the catchment output to get zone_idx, accessibiliy, also getting primary situation index"
   ]
  },
  {
   "cell_type": "code",
   "execution_count": 5,
   "metadata": {},
   "outputs": [],
   "source": [
    "    cur = con.cursor()\n",
    "\n",
    "    df = pd.read_sql(\"select calls_for_service.call_number \" \\\n",
    "        \", calls_for_service.incident_number \" \\\n",
    "        \", floating_catchment_output.[index] \" \\\n",
    "        \", floating_catchment_output.zone_idx \" \\\n",
    "        \", floating_catchment_output.accessibility_score \" \\\n",
    "        \", floating_catchment_output.scenario_name \" \\\n",
    "        \", calls_for_service.on_scene_dttm \" \\\n",
    "        \", calls_for_service.response_dttm   \" \\\n",
    "        \", category_mappings.[index] as primary_situation_index \" \\\n",
    "        \"from floating_catchment_output \" \\\n",
    "        \"inner join zone_idx_to_incident on  \" \\\n",
    "        \"zone_idx_to_incident.zone_idx = floating_catchment_output.zone_idx \" \\\n",
    "        \"inner join calls_for_service on calls_for_service.incident_number = zone_idx_to_incident.incident_number \" \\\n",
    "        \"left join fire_incidents AS fi on calls_for_service.incident_number = fi.incident_number \" \\\n",
    "        \"left join category_mappings on fi.primary_situation = category_mappings.primary_situation \" \\\n",
    "        \"where calls_for_service.unit_type in ('TRUCK', 'ENGINE') \" \\\n",
    "        \"and scenario_name = 'baseline'\",con = con) "
   ]
  },
  {
   "cell_type": "code",
   "execution_count": 6,
   "metadata": {},
   "outputs": [
    {
     "data": {
      "text/html": [
       "<div>\n",
       "<style scoped>\n",
       "    .dataframe tbody tr th:only-of-type {\n",
       "        vertical-align: middle;\n",
       "    }\n",
       "\n",
       "    .dataframe tbody tr th {\n",
       "        vertical-align: top;\n",
       "    }\n",
       "\n",
       "    .dataframe thead th {\n",
       "        text-align: right;\n",
       "    }\n",
       "</style>\n",
       "<table border=\"1\" class=\"dataframe\">\n",
       "  <thead>\n",
       "    <tr style=\"text-align: right;\">\n",
       "      <th></th>\n",
       "      <th>index</th>\n",
       "      <th>zone_idx</th>\n",
       "      <th>accessibility_score</th>\n",
       "      <th>scenario_name</th>\n",
       "      <th>on_scene_dttm</th>\n",
       "      <th>response_dttm</th>\n",
       "      <th>primary_situation_index</th>\n",
       "    </tr>\n",
       "  </thead>\n",
       "  <tbody>\n",
       "    <tr>\n",
       "      <th>0</th>\n",
       "      <td>0</td>\n",
       "      <td>8</td>\n",
       "      <td>0.000803</td>\n",
       "      <td>baseline</td>\n",
       "      <td>2019-01-01 16:25:28</td>\n",
       "      <td>01/01/2019 04:22:21 PM</td>\n",
       "      <td>NaN</td>\n",
       "    </tr>\n",
       "    <tr>\n",
       "      <th>1</th>\n",
       "      <td>0</td>\n",
       "      <td>8</td>\n",
       "      <td>0.000803</td>\n",
       "      <td>baseline</td>\n",
       "      <td>2019-01-01 16:23:04</td>\n",
       "      <td>01/01/2019 04:18:06 PM</td>\n",
       "      <td>NaN</td>\n",
       "    </tr>\n",
       "    <tr>\n",
       "      <th>2</th>\n",
       "      <td>0</td>\n",
       "      <td>8</td>\n",
       "      <td>0.000803</td>\n",
       "      <td>baseline</td>\n",
       "      <td>2019-01-02 15:35:57</td>\n",
       "      <td>01/02/2019 03:31:21 PM</td>\n",
       "      <td>NaN</td>\n",
       "    </tr>\n",
       "    <tr>\n",
       "      <th>3</th>\n",
       "      <td>0</td>\n",
       "      <td>8</td>\n",
       "      <td>0.000803</td>\n",
       "      <td>baseline</td>\n",
       "      <td>2019-01-05 20:41:37</td>\n",
       "      <td>01/05/2019 08:40:16 PM</td>\n",
       "      <td>NaN</td>\n",
       "    </tr>\n",
       "    <tr>\n",
       "      <th>4</th>\n",
       "      <td>0</td>\n",
       "      <td>8</td>\n",
       "      <td>0.000803</td>\n",
       "      <td>baseline</td>\n",
       "      <td>2019-01-06 00:54:34</td>\n",
       "      <td>01/06/2019 12:52:49 AM</td>\n",
       "      <td>148.0</td>\n",
       "    </tr>\n",
       "  </tbody>\n",
       "</table>\n",
       "</div>"
      ],
      "text/plain": [
       "   index  zone_idx  accessibility_score scenario_name        on_scene_dttm  \\\n",
       "0      0         8             0.000803      baseline  2019-01-01 16:25:28   \n",
       "1      0         8             0.000803      baseline  2019-01-01 16:23:04   \n",
       "2      0         8             0.000803      baseline  2019-01-02 15:35:57   \n",
       "3      0         8             0.000803      baseline  2019-01-05 20:41:37   \n",
       "4      0         8             0.000803      baseline  2019-01-06 00:54:34   \n",
       "\n",
       "            response_dttm  primary_situation_index  \n",
       "0  01/01/2019 04:22:21 PM                      NaN  \n",
       "1  01/01/2019 04:18:06 PM                      NaN  \n",
       "2  01/02/2019 03:31:21 PM                      NaN  \n",
       "3  01/05/2019 08:40:16 PM                      NaN  \n",
       "4  01/06/2019 12:52:49 AM                    148.0  "
      ]
     },
     "execution_count": 6,
     "metadata": {},
     "output_type": "execute_result"
    }
   ],
   "source": [
    "df.head()"
   ]
  },
  {
   "cell_type": "code",
   "execution_count": 7,
   "metadata": {},
   "outputs": [],
   "source": [
    "#do some date math\n",
    "df['on_scene_dttm'] = pd.to_datetime(df['on_scene_dttm'])\n",
    "df['response_dttm'] = pd.to_datetime(df['response_dttm'])\n",
    "df['arrival_time'] = (df['on_scene_dttm'] - df['response_dttm'])\n",
    "df['minutes'] = (df.arrival_time.dt.seconds) / 60\n",
    "df['seconds'] = (df.arrival_time.dt.seconds) "
   ]
  },
  {
   "cell_type": "code",
   "execution_count": 8,
   "metadata": {},
   "outputs": [
    {
     "data": {
      "text/html": [
       "<div>\n",
       "<style scoped>\n",
       "    .dataframe tbody tr th:only-of-type {\n",
       "        vertical-align: middle;\n",
       "    }\n",
       "\n",
       "    .dataframe tbody tr th {\n",
       "        vertical-align: top;\n",
       "    }\n",
       "\n",
       "    .dataframe thead th {\n",
       "        text-align: right;\n",
       "    }\n",
       "</style>\n",
       "<table border=\"1\" class=\"dataframe\">\n",
       "  <thead>\n",
       "    <tr style=\"text-align: right;\">\n",
       "      <th></th>\n",
       "      <th>zone_idx</th>\n",
       "      <th>accessibility_score</th>\n",
       "      <th>minutes</th>\n",
       "    </tr>\n",
       "  </thead>\n",
       "  <tbody>\n",
       "    <tr>\n",
       "      <th>0</th>\n",
       "      <td>8</td>\n",
       "      <td>0.000803</td>\n",
       "      <td>5.254762</td>\n",
       "    </tr>\n",
       "    <tr>\n",
       "      <th>1</th>\n",
       "      <td>9</td>\n",
       "      <td>0.001147</td>\n",
       "      <td>4.466082</td>\n",
       "    </tr>\n",
       "    <tr>\n",
       "      <th>2</th>\n",
       "      <td>10</td>\n",
       "      <td>0.000968</td>\n",
       "      <td>4.545000</td>\n",
       "    </tr>\n",
       "    <tr>\n",
       "      <th>3</th>\n",
       "      <td>11</td>\n",
       "      <td>0.000501</td>\n",
       "      <td>3.450722</td>\n",
       "    </tr>\n",
       "    <tr>\n",
       "      <th>4</th>\n",
       "      <td>12</td>\n",
       "      <td>0.000501</td>\n",
       "      <td>4.271189</td>\n",
       "    </tr>\n",
       "  </tbody>\n",
       "</table>\n",
       "</div>"
      ],
      "text/plain": [
       "   zone_idx  accessibility_score   minutes\n",
       "0         8             0.000803  5.254762\n",
       "1         9             0.001147  4.466082\n",
       "2        10             0.000968  4.545000\n",
       "3        11             0.000501  3.450722\n",
       "4        12             0.000501  4.271189"
      ]
     },
     "execution_count": 8,
     "metadata": {},
     "output_type": "execute_result"
    }
   ],
   "source": [
    "#rool up accessibility and minutes to zone\n",
    "df_ag = df.groupby([\"zone_idx\"], as_index=False).agg({\"accessibility_score\":\"mean\", \"minutes\":\"mean\"})\n",
    "df_ag.head()"
   ]
  },
  {
   "cell_type": "code",
   "execution_count": 10,
   "metadata": {},
   "outputs": [],
   "source": [
    "# hide the warings.\n",
    "# I mean if it was really important it would just be an error, so blissfully ignore\n",
    "warnings.filterwarnings('ignore')\n",
    "\n",
    "# set the training variables\n",
    "df_ag.target_to_predict = 'minutes'\n",
    "df_ag.predictors = ['zone_idx', 'accessibility_score']\n",
    "\n",
    "df_ag.x = df_ag[df_ag.predictors].values\n",
    "df_ag.y = df_ag[df_ag.target_to_predict].values\n",
    "\n",
    "df_ag.x_train, df_ag.x_test, df_ag.y_train, df_ag.y_test = train_test_split(df_ag.x, df_ag.y, test_size=0.8, random_state=42)\n",
    "\n"
   ]
  },
  {
   "cell_type": "code",
   "execution_count": 11,
   "metadata": {},
   "outputs": [],
   "source": [
    "#copy/paste code:\n",
    "\n",
    "def create_model(md):\n",
    "    #RegModel = XGBRegressor(max_depth=3, learning_rate=0.1, n_estimators=500, objective='reg:linear', booster='gbtree')\n",
    "    md.model = XGBRFRegressor(n_estimators=4000, subsample=0.9, colsample_bynode=0.2)\n",
    "\n",
    "    #Printing all the parameters of XGBoost\n",
    "    print(md.model)\n",
    "    \n",
    "    #Creating the model on Training Data\n",
    "    md.XGB = md.model.fit(md.x_train, md.y_train)\n",
    "    \n",
    "    prediction = md.XGB.predict(md.x_test)\n",
    "\n",
    "    #Measuring Goodness of fit in Training data\n",
    "    print('R2 Value:', metrics.r2_score(md.y_train, md.XGB.predict(md.x_train)))\n",
    "\n",
    "    #Measuring accuracy on Testing Data\n",
    "    print('md.ytest', md.y_test)\n",
    "    print('Accuracy', 100 - (np.mean(np.abs((md.y_test - prediction)) / np.mean(md.y_test)) * 100))\n",
    "    print('Accuracy', 100 - (np.mean(np.abs((md.y_test - prediction) / md.y_test)) * 100))\n",
    "\n",
    "    #Plotting the feature importance for Top 10 most important columns \n",
    "    %matplotlib inline\n",
    "    feature_importances = pd.Series(md.XGB.feature_importances_, index = md.predictors)\n",
    "    feature_importances.nlargest(10).plot(kind = 'barh')\n",
    "\n"
   ]
  },
  {
   "cell_type": "code",
   "execution_count": 12,
   "metadata": {},
   "outputs": [
    {
     "name": "stdout",
     "output_type": "stream",
     "text": [
      "XGBRFRegressor(base_score=None, booster=None, colsample_bylevel=None,\n",
      "               colsample_bynode=0.2, colsample_bytree=None,\n",
      "               enable_categorical=False, gamma=None, gpu_id=None,\n",
      "               importance_type=None, interaction_constraints=None,\n",
      "               max_delta_step=None, max_depth=None, min_child_weight=None,\n",
      "               missing=nan, monotone_constraints=None, n_estimators=4000,\n",
      "               n_jobs=None, num_parallel_tree=None,\n",
      "               objective='reg:squarederror', predictor=None, random_state=None,\n",
      "               reg_alpha=None, scale_pos_weight=None, subsample=0.9,\n",
      "               tree_method=None, validate_parameters=None, verbosity=None)\n",
      "R2 Value: 0.904142039837595\n",
      "md.ytest [ 5.94589744  2.84603321  3.44164288  3.87233857  3.36646259  6.16362683\n",
      "  3.2568662   2.92944051  3.42081413  3.31143568  4.18966245  3.04530864\n",
      "  4.42083333  4.68795761  3.0220802   3.82216828  3.6347079   4.86888889\n",
      "  4.08554293  2.22961203  3.22892416  3.44002123  6.41910569  5.0295679\n",
      "  3.81349502  4.85277778  5.35        5.5452381   3.445671    5.62094474\n",
      "  5.99483568  3.57291667  3.1725713   3.304947    2.72261905  2.92748538\n",
      "  2.99211618  3.43166667  3.03821676  3.67495127  3.06689189  3.90904605\n",
      "  2.71417445  2.6290256   6.98611111  4.35887681  3.51784038  3.03504016\n",
      "  2.77054381  2.90767484  3.59786822  4.32104664  5.80119048  4.62222222\n",
      "  6.97984496  3.86407767  3.32594502  4.28672673  2.86166866  3.37263196\n",
      "  3.08156839  2.75778443  2.84618056  2.66737697  3.77352151  3.4825779\n",
      "  4.2377193   4.57777778  3.16609687  2.99487805  2.56883803  4.10154143\n",
      "  3.32167353  3.34989669  3.96457195  2.97365231  3.43655579  2.74444444\n",
      "  2.98442029  4.545       5.31133333  4.46456456  2.81468668  4.21987847\n",
      "  3.57202899  6.87748538  3.81239193  5.50952381  3.36332187  2.62252654\n",
      "  3.28083815  2.59816724  5.04269006  2.91738609  3.15996169  2.7812673\n",
      "  3.60723542  3.3734127   2.83888544  3.2920712   5.41588889  2.78860399\n",
      " 11.03888889  3.54720149  2.80159176  3.72948718  3.54002849  2.44675758\n",
      "  3.28219545  3.92508251  4.68111111  3.39340909  4.00298507  3.07764324\n",
      "  4.56910256  3.05679206  3.34185435  2.97721519  4.19647147  4.26346292\n",
      "  3.89575141  5.62727273  4.3183908   3.28263119  3.1029661   3.47029178\n",
      "  4.84772727  3.63712522  1.78272727  2.6363984   5.2547619   4.23068182\n",
      "  3.6101938   6.23662281  3.68294829  2.68044983  4.60066667  4.53809524\n",
      "  5.9221883   3.54336219  2.62544872  9.79212963  3.55750846  4.09018088\n",
      "  3.3351123   4.27118863  3.703003   12.10964912  3.50213992  3.38953137\n",
      "  3.84925094  3.32149425  4.42557756  2.788262    3.65189702  3.42560764\n",
      "  3.43800905  3.6418239   3.51846154  4.25157233  3.57430556  4.09301075\n",
      "  3.40501618  3.58344519  2.86524664  3.48823529  3.36095524  3.41129746\n",
      "  3.4601145   2.73280922  4.132       3.5388601   3.41926357  3.96065494\n",
      "  3.10347935  3.87313433  2.40987241  3.64121434  3.4507215   3.19006568\n",
      "  2.85870445  2.94215054  4.63755274  3.96010101  2.78708105  2.97646465\n",
      "  3.07469438  3.56225962  2.31764228  2.98066298  4.6         4.86108844\n",
      "  4.29960876  2.68635236  2.23211382  4.33438228  1.74086022  3.17176166\n",
      "  3.42164179  2.97867647  4.28506375  7.03344907  3.42186508  3.68944444\n",
      "  7.47402597  2.98796864  3.30841121  3.55996261]\n",
      "Accuracy 75.54776377520112\n",
      "Accuracy 77.20997926105963\n"
     ]
    },
    {
     "data": {
      "image/png": "[encoded data removed]",
      "text/plain": [
       "<Figure size 432x288 with 1 Axes>"
      ]
     },
     "metadata": {
      "needs_background": "light"
     },
     "output_type": "display_data"
    }
   ],
   "source": [
    "create_model(df_ag)"
   ]
  },
  {
   "cell_type": "code",
   "execution_count": 40,
   "metadata": {},
   "outputs": [
    {
     "data": {
      "text/plain": [
       "zone_idx               260\n",
       "accessibility_score    260\n",
       "dtype: int64"
      ]
     },
     "execution_count": 40,
     "metadata": {},
     "output_type": "execute_result"
    }
   ],
   "source": [
    "#Get data to predict\n",
    "cur = con.cursor()\n",
    "scenario_name = \"baseline\"\n",
    "df_to_predict = pd.read_sql(('select zone_idx, accessibility_score from floating_catchment_output where scenario_name = ?'), con=con,params=[scenario_name])\n",
    "df_to_predict.head()\n",
    "df_to_predict.count()"
   ]
  },
  {
   "cell_type": "code",
   "execution_count": 41,
   "metadata": {},
   "outputs": [
    {
     "name": "stdout",
     "output_type": "stream",
     "text": [
      "260\n"
     ]
    }
   ],
   "source": [
    "#do prediction and append predicted values\n",
    "prediction = df_ag.XGB.predict(df_to_predict)\n",
    "print(len(prediction))\n",
    "df_to_predict['predicted_minutes'] = prediction\n",
    "\n",
    "\n",
    "\n"
   ]
  },
  {
   "cell_type": "code",
   "execution_count": 43,
   "metadata": {},
   "outputs": [
    {
     "name": "stdout",
     "output_type": "stream",
     "text": [
      "   zone_idx  accessibility_score  predicted_minutes\n",
      "0         8             0.000803           4.184931\n",
      "   zone_idx  accessibility_score   minutes\n",
      "0         8             0.000803  5.254762\n"
     ]
    }
   ],
   "source": [
    "\n",
    "print(df_to_predict[df_to_predict[\"zone_idx\"]==8])\n",
    "print(df_ag[df_ag[\"zone_idx\"]==8])"
   ]
  },
  {
   "cell_type": "code",
   "execution_count": null,
   "metadata": {},
   "outputs": [],
   "source": []
  }
 ],
 "metadata": {
  "interpreter": {
   "hash": "31139f53f3e7763be139e5f9ef1c49dd481e1a25247c7505f26cc1fc9191d362"
  },
  "kernelspec": {
   "display_name": "Python 3.9.5 64-bit ('jyEDA': conda)",
   "name": "python3"
  },
  "language_info": {
   "codemirror_mode": {
    "name": "ipython",
    "version": 3
   },
   "file_extension": ".py",
   "mimetype": "text/x-python",
   "name": "python",
   "nbconvert_exporter": "python",
   "pygments_lexer": "ipython3",
   "version": "3.9.5"
  },
  "orig_nbformat": 4
 },
 "nbformat": 4,
 "nbformat_minor": 2
}
