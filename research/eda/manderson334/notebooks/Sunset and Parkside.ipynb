{
 "cells": [
  {
   "cell_type": "code",
   "execution_count": 1,
   "id": "94501d59",
   "metadata": {},
   "outputs": [],
   "source": [
    "import pandas as pd\n",
    "import seaborn as sbn\n",
    "import geopandas as geo_pd\n",
    "import matplotlib.pyplot as plt\n",
    "import numpy as np"
   ]
  },
  {
   "cell_type": "code",
   "execution_count": 2,
   "id": "b66d2565",
   "metadata": {},
   "outputs": [
    {
     "name": "stdout",
     "output_type": "stream",
     "text": [
      "'California Census Block Centroids.txt'   incident_distances.zip\r\n",
      " city_facilities.csv\t\t\t  incident_nearest_distances.zip\r\n",
      " CSE6242\t\t\t\t  List_of_Streets_and_Intersections.csv\r\n",
      " CSE6242.zip\t\t\t\t  Rush_Hour_Routes.csv\r\n",
      " fire_incidents.csv\t\t\t 'SF Find Neighborhoods.geojson'\r\n",
      " fire_incidents.zip\t\t\t  Speed_Limits_per_Street_Segment.csv\r\n",
      " fire_prev_districts.zip\t\t  stclines_highways.csv\r\n",
      " group_1_data.csv\t\t\t  Streets___Active_and_Retired.csv\r\n"
     ]
    }
   ],
   "source": [
    "! ls /data"
   ]
  },
  {
   "cell_type": "markdown",
   "id": "22da9ee7",
   "metadata": {},
   "source": [
    "## Load Fire Incidents"
   ]
  },
  {
   "cell_type": "code",
   "execution_count": 6,
   "id": "e818cd96",
   "metadata": {
    "scrolled": true
   },
   "outputs": [
    {
     "name": "stdout",
     "output_type": "stream",
     "text": [
      "<class 'geopandas.geodataframe.GeoDataFrame'>\n",
      "RangeIndex: 566251 entries, 0 to 566250\n",
      "Data columns (total 65 columns):\n",
      " #   Column                                        Non-Null Count   Dtype   \n",
      "---  ------                                        --------------   -----   \n",
      " 0   Incident Number                               566251 non-null  object  \n",
      " 1   Exposure Number                               566251 non-null  object  \n",
      " 2   ID                                            566251 non-null  object  \n",
      " 3   Address                                       566251 non-null  object  \n",
      " 4   Incident Date                                 566251 non-null  object  \n",
      " 5   Call Number                                   566251 non-null  object  \n",
      " 6   Alarm DtTm                                    566251 non-null  object  \n",
      " 7   Arrival DtTm                                  566251 non-null  object  \n",
      " 8   Close DtTm                                    566251 non-null  object  \n",
      " 9   City                                          566251 non-null  object  \n",
      " 10  zipcode                                       566251 non-null  object  \n",
      " 11  Battalion                                     566251 non-null  object  \n",
      " 12  Station Area                                  566251 non-null  object  \n",
      " 13  Box                                           566251 non-null  object  \n",
      " 14  Suppression Units                             566251 non-null  object  \n",
      " 15  Suppression Personnel                         566251 non-null  object  \n",
      " 16  EMS Units                                     566251 non-null  object  \n",
      " 17  EMS Personnel                                 566251 non-null  object  \n",
      " 18  Other Units                                   566251 non-null  object  \n",
      " 19  Other Personnel                               566251 non-null  object  \n",
      " 20  First Unit On Scene                           566251 non-null  object  \n",
      " 21  Estimated Property Loss                       566251 non-null  object  \n",
      " 22  Estimated Contents Loss                       566251 non-null  object  \n",
      " 23  Fire Fatalities                               566251 non-null  object  \n",
      " 24  Fire Injuries                                 566251 non-null  object  \n",
      " 25  Civilian Fatalities                           566251 non-null  object  \n",
      " 26  Civilian Injuries                             566251 non-null  object  \n",
      " 27  Number of Alarms                              566251 non-null  object  \n",
      " 28  Primary Situation                             566251 non-null  object  \n",
      " 29  Mutual Aid                                    566251 non-null  object  \n",
      " 30  Action Taken Primary                          566251 non-null  object  \n",
      " 31  Action Taken Secondary                        566251 non-null  object  \n",
      " 32  Action Taken Other                            566251 non-null  object  \n",
      " 33  Detector Alerted Occupants                    566251 non-null  object  \n",
      " 34  Property Use                                  566251 non-null  object  \n",
      " 35  Area of Fire Origin                           566251 non-null  object  \n",
      " 36  Ignition Cause                                566251 non-null  object  \n",
      " 37  Ignition Factor Primary                       566251 non-null  object  \n",
      " 38  Ignition Factor Secondary                     566251 non-null  object  \n",
      " 39  Heat Source                                   566251 non-null  object  \n",
      " 40  Item First Ignited                            566251 non-null  object  \n",
      " 41  Human Factors Associated with Ignition        566251 non-null  object  \n",
      " 42  Structure Type                                566251 non-null  object  \n",
      " 43  Structure Status                              566251 non-null  object  \n",
      " 44  Floor of Fire Origin                          566251 non-null  object  \n",
      " 45  Fire Spread                                   566251 non-null  object  \n",
      " 46  No Flame Spead                                566251 non-null  object  \n",
      " 47  Number of floors with minimum damage          566251 non-null  object  \n",
      " 48  Number of floors with significant damage      566251 non-null  object  \n",
      " 49  Number of floors with heavy damage            566251 non-null  object  \n",
      " 50  Number of floors with extreme damage          566251 non-null  object  \n",
      " 51  Detectors Present                             566251 non-null  object  \n",
      " 52  Detector Type                                 566251 non-null  object  \n",
      " 53  Detector Operation                            566251 non-null  object  \n",
      " 54  Detector Effectiveness                        566251 non-null  object  \n",
      " 55  Detector Failure Reason                       566251 non-null  object  \n",
      " 56  Automatic Extinguishing System Present        566251 non-null  object  \n",
      " 57  Automatic Extinguishing Sytem Type            566251 non-null  object  \n",
      " 58  Automatic Extinguishing Sytem Perfomance      566251 non-null  object  \n",
      " 59  Automatic Extinguishing Sytem Failure Reason  566251 non-null  object  \n",
      " 60  Number of Sprinkler Heads Operating           566251 non-null  object  \n",
      " 61  Supervisor District                           566251 non-null  object  \n",
      " 62  neighborhood_district                         566251 non-null  object  \n",
      " 63  point                                         566161 non-null  geometry\n",
      " 64  geometry                                      0 non-null       geometry\n",
      "dtypes: geometry(2), object(63)\n",
      "memory usage: 280.8+ MB\n"
     ]
    }
   ],
   "source": [
    "all_incidents = geo_pd.read_file(\"/data/fire_incidents.csv\")\n",
    "all_incidents['point'] = geo_pd.GeoSeries.from_wkt(all_incidents['point'], crs=\"EPSG:4326\")\n",
    "all_incidents = geo_pd.GeoDataFrame(all_incidents, geometry=\"point\")\n",
    "all_incidents.info()"
   ]
  },
  {
   "cell_type": "code",
   "execution_count": 7,
   "id": "645afa40",
   "metadata": {},
   "outputs": [
    {
     "data": {
      "text/plain": [
       "<Geographic 2D CRS: EPSG:4326>\n",
       "Name: WGS 84\n",
       "Axis Info [ellipsoidal]:\n",
       "- Lat[north]: Geodetic latitude (degree)\n",
       "- Lon[east]: Geodetic longitude (degree)\n",
       "Area of Use:\n",
       "- name: World.\n",
       "- bounds: (-180.0, -90.0, 180.0, 90.0)\n",
       "Datum: World Geodetic System 1984 ensemble\n",
       "- Ellipsoid: WGS 84\n",
       "- Prime Meridian: Greenwich"
      ]
     },
     "execution_count": 7,
     "metadata": {},
     "output_type": "execute_result"
    }
   ],
   "source": [
    "all_incidents.crs"
   ]
  },
  {
   "cell_type": "markdown",
   "id": "aac15f1c",
   "metadata": {},
   "source": [
    "## Load Neighborhoods"
   ]
  },
  {
   "cell_type": "code",
   "execution_count": 8,
   "id": "bdd8fdde",
   "metadata": {},
   "outputs": [
    {
     "name": "stdout",
     "output_type": "stream",
     "text": [
      "<class 'geopandas.geodataframe.GeoDataFrame'>\n",
      "RangeIndex: 117 entries, 0 to 116\n",
      "Data columns (total 3 columns):\n",
      " #   Column    Non-Null Count  Dtype   \n",
      "---  ------    --------------  -----   \n",
      " 0   link      93 non-null     object  \n",
      " 1   name      117 non-null    object  \n",
      " 2   geometry  117 non-null    geometry\n",
      "dtypes: geometry(1), object(2)\n",
      "memory usage: 2.9+ KB\n"
     ]
    }
   ],
   "source": [
    "sf_neighborhoods = geo_pd.read_file('/data/SF Find Neighborhoods.geojson')\n",
    "sf_neighborhoods.info()"
   ]
  },
  {
   "cell_type": "code",
   "execution_count": 9,
   "id": "cbf81b6f",
   "metadata": {},
   "outputs": [
    {
     "data": {
      "image/png": "[encoded data removed]",
      "text/plain": [
       "<Figure size 432x288 with 1 Axes>"
      ]
     },
     "metadata": {
      "needs_background": "light"
     },
     "output_type": "display_data"
    }
   ],
   "source": [
    "_ = sf_neighborhoods.geometry.plot()"
   ]
  },
  {
   "cell_type": "markdown",
   "id": "d7bac460",
   "metadata": {},
   "source": [
    "## Load Nearest Distances"
   ]
  },
  {
   "cell_type": "code",
   "execution_count": 10,
   "id": "7dde7044",
   "metadata": {},
   "outputs": [
    {
     "name": "stdout",
     "output_type": "stream",
     "text": [
      "<class 'pandas.core.frame.DataFrame'>\n",
      "RangeIndex: 566251 entries, 0 to 566250\n",
      "Data columns (total 6 columns):\n",
      " #   Column           Non-Null Count   Dtype  \n",
      "---  ------           --------------   -----  \n",
      " 0   Unnamed: 0       566251 non-null  int64  \n",
      " 1   Incident Number  566251 non-null  object \n",
      " 2   ID               566251 non-null  int64  \n",
      " 3   lon              566161 non-null  float64\n",
      " 4   lat              566161 non-null  float64\n",
      " 5   nearest_station  566161 non-null  float64\n",
      "dtypes: float64(3), int64(2), object(1)\n",
      "memory usage: 25.9+ MB\n"
     ]
    }
   ],
   "source": [
    "nearest_dist = pd.read_csv(\"/data/incident_nearest_distances.zip\")\n",
    "nearest_dist.info()"
   ]
  },
  {
   "cell_type": "code",
   "execution_count": 11,
   "id": "d06205fa",
   "metadata": {},
   "outputs": [
    {
     "data": {
      "text/html": [
       "<div>\n",
       "<style scoped>\n",
       "    .dataframe tbody tr th:only-of-type {\n",
       "        vertical-align: middle;\n",
       "    }\n",
       "\n",
       "    .dataframe tbody tr th {\n",
       "        vertical-align: top;\n",
       "    }\n",
       "\n",
       "    .dataframe thead th {\n",
       "        text-align: right;\n",
       "    }\n",
       "</style>\n",
       "<table border=\"1\" class=\"dataframe\">\n",
       "  <thead>\n",
       "    <tr style=\"text-align: right;\">\n",
       "      <th></th>\n",
       "      <th>Unnamed: 0</th>\n",
       "      <th>Incident Number</th>\n",
       "      <th>ID</th>\n",
       "      <th>lon</th>\n",
       "      <th>lat</th>\n",
       "      <th>nearest_station</th>\n",
       "    </tr>\n",
       "  </thead>\n",
       "  <tbody>\n",
       "    <tr>\n",
       "      <th>0</th>\n",
       "      <td>0</td>\n",
       "      <td>8,028,304</td>\n",
       "      <td>80283040</td>\n",
       "      <td>-122.418373</td>\n",
       "      <td>37.742090</td>\n",
       "      <td>0.006408</td>\n",
       "    </tr>\n",
       "    <tr>\n",
       "      <th>1</th>\n",
       "      <td>1</td>\n",
       "      <td>8,028,303</td>\n",
       "      <td>80283030</td>\n",
       "      <td>-122.394890</td>\n",
       "      <td>37.756291</td>\n",
       "      <td>0.004497</td>\n",
       "    </tr>\n",
       "    <tr>\n",
       "      <th>2</th>\n",
       "      <td>2</td>\n",
       "      <td>8,028,309</td>\n",
       "      <td>80283090</td>\n",
       "      <td>-122.407468</td>\n",
       "      <td>37.780080</td>\n",
       "      <td>0.003405</td>\n",
       "    </tr>\n",
       "    <tr>\n",
       "      <th>3</th>\n",
       "      <td>3</td>\n",
       "      <td>8,028,314</td>\n",
       "      <td>80283140</td>\n",
       "      <td>-122.426849</td>\n",
       "      <td>37.776126</td>\n",
       "      <td>0.005763</td>\n",
       "    </tr>\n",
       "    <tr>\n",
       "      <th>4</th>\n",
       "      <td>4</td>\n",
       "      <td>8,028,319</td>\n",
       "      <td>80283190</td>\n",
       "      <td>-122.486394</td>\n",
       "      <td>37.774285</td>\n",
       "      <td>0.004719</td>\n",
       "    </tr>\n",
       "  </tbody>\n",
       "</table>\n",
       "</div>"
      ],
      "text/plain": [
       "   Unnamed: 0 Incident Number        ID         lon        lat  \\\n",
       "0           0       8,028,304  80283040 -122.418373  37.742090   \n",
       "1           1       8,028,303  80283030 -122.394890  37.756291   \n",
       "2           2       8,028,309  80283090 -122.407468  37.780080   \n",
       "3           3       8,028,314  80283140 -122.426849  37.776126   \n",
       "4           4       8,028,319  80283190 -122.486394  37.774285   \n",
       "\n",
       "   nearest_station  \n",
       "0         0.006408  \n",
       "1         0.004497  \n",
       "2         0.003405  \n",
       "3         0.005763  \n",
       "4         0.004719  "
      ]
     },
     "execution_count": 11,
     "metadata": {},
     "output_type": "execute_result"
    }
   ],
   "source": [
    "nearest_dist.head()"
   ]
  },
  {
   "cell_type": "markdown",
   "id": "3b3e856a",
   "metadata": {},
   "source": [
    "## Examine Sunset Neighborhood"
   ]
  },
  {
   "cell_type": "code",
   "execution_count": 12,
   "id": "8b72ca29",
   "metadata": {},
   "outputs": [
    {
     "data": {
      "text/plain": [
       "38     Outer Sunset\n",
       "108    Inner Sunset\n",
       "Name: name, dtype: object"
      ]
     },
     "execution_count": 12,
     "metadata": {},
     "output_type": "execute_result"
    }
   ],
   "source": [
    "sf_neighborhoods.name[sf_neighborhoods.name.str.lower().str.match('.*sunset.*')]"
   ]
  },
  {
   "cell_type": "code",
   "execution_count": 18,
   "id": "d9457f1b",
   "metadata": {},
   "outputs": [
    {
     "data": {
      "image/png": "[encoded data removed]",
      "text/plain": [
       "<Figure size 360x360 with 1 Axes>"
      ]
     },
     "metadata": {
      "needs_background": "light"
     },
     "output_type": "display_data"
    }
   ],
   "source": [
    "plt.rcParams[\"figure.figsize\"]=5,5\n",
    "outer_sunset = sf_neighborhoods.loc[sf_neighborhoods.name == \"Outer Sunset\"]\n",
    "_ = outer_sunset.plot(color='white', edgecolor='black')"
   ]
  },
  {
   "cell_type": "code",
   "execution_count": 14,
   "id": "16ed28fc",
   "metadata": {},
   "outputs": [],
   "source": [
    "sunset_pts = geo_pd.overlay(all_incidents, outer_sunset, how='intersection')"
   ]
  },
  {
   "cell_type": "code",
   "execution_count": 15,
   "id": "cac56db6",
   "metadata": {},
   "outputs": [
    {
     "data": {
      "text/plain": [
       "(14643, 66)"
      ]
     },
     "execution_count": 15,
     "metadata": {},
     "output_type": "execute_result"
    }
   ],
   "source": [
    "sunset_pts.shape"
   ]
  },
  {
   "cell_type": "code",
   "execution_count": 19,
   "id": "a84d0227",
   "metadata": {},
   "outputs": [
    {
     "data": {
      "image/png": "[encoded data removed]",
      "text/plain": [
       "<Figure size 360x360 with 1 Axes>"
      ]
     },
     "metadata": {
      "needs_background": "light"
     },
     "output_type": "display_data"
    }
   ],
   "source": [
    "plt.rcParams[\"figure.figsize\"]=5,5\n",
    "base_plot = outer_sunset.plot(color='white', edgecolor='black')\n",
    "_ = sunset_pts.sample(500).plot(ax=base_plot)"
   ]
  },
  {
   "cell_type": "code",
   "execution_count": null,
   "id": "99fad92a",
   "metadata": {},
   "outputs": [],
   "source": []
  }
 ],
 "metadata": {
  "kernelspec": {
   "display_name": "Python 3 (ipykernel)",
   "language": "python",
   "name": "python3"
  },
  "language_info": {
   "codemirror_mode": {
    "name": "ipython",
    "version": 3
   },
   "file_extension": ".py",
   "mimetype": "text/x-python",
   "name": "python",
   "nbconvert_exporter": "python",
   "pygments_lexer": "ipython3",
   "version": "3.9.6"
  }
 },
 "nbformat": 4,
 "nbformat_minor": 5
}
