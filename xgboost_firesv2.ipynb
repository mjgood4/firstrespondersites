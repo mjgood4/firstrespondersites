{
 "cells": [
  {
   "cell_type": "markdown",
   "id": "46ec9ca3",
   "metadata": {},
   "source": [
    "### A Naive XGBoost Model to Find Feature Importance\n",
    "\n",
    "---\n",
    "\n",
    "* Objective: \n",
    "  * Use XGBoost To find what features are important.\n",
    "  * Start to do light feature engineering, certainly more work here.\n",
    "  * Start to build helper functions\n",
    "* Issues: How to train test split? By date?\n",
    "\n",
    "__author__: Eric Fitchwell\n",
    "__status__: Development"
   ]
  },
  {
   "cell_type": "code",
   "execution_count": 1,
   "id": "cf2416fa",
   "metadata": {},
   "outputs": [],
   "source": [
    "#packages\n",
    "\n",
    "import pandas as pd\n",
    "from xgboost.sklearn import XGBRegressor\n",
    "from sklearn import preprocessing\n",
    "import seaborn as sns\n",
    "import warnings\n",
    "\n",
    "# hide warnings\n",
    "warnings.filterwarnings('ignore')"
   ]
  },
  {
   "cell_type": "code",
   "execution_count": 2,
   "id": "12dc5b7a",
   "metadata": {},
   "outputs": [],
   "source": [
    "def read_data(path):\n",
    "    \"\"\"\n",
    "    read in data to xgboost on!\n",
    "    \n",
    "    \"\"\"\n",
    "\n",
    "    df = pd.read_csv(path)\n",
    "\n",
    "    df['alarm_format'] = pd.to_datetime(df['alarm_dttm'])\n",
    "\n",
    "    df['arrival_format'] = pd.to_datetime(df['arrival_dttm'])\n",
    "\n",
    "    df['arrival_time'] = (df['arrival_format'] - df['alarm_format'])\n",
    "    \n",
    "    df['minutes'] = (df.arrival_time.dt.seconds) / 60\n",
    "    \n",
    "    df['day_of_week'] = df['alarm_format'].dt.day_name().astype(str)\n",
    "    \n",
    "    df['dayflag'] = (df.alarm_format.dt.hour > 5) & (df.alarm_format.dt.hour <18)\n",
    "    \n",
    "    cols = ['minutes','alarm_format','arrival_format','day_of_week','dayflag','zipcode',\\\n",
    "            'battalion', 'station_area', 'ems_units', 'number_of_alarms', 'primary_situation',\\\n",
    "            'action_taken_primary', 'property_use', 'neighborhood_district', 'supervisor_district', 'structure_type',\\\n",
    "            'area_of_fire_origin','detector_type','detector_operation']\n",
    "    \n",
    "    return df[cols]"
   ]
  },
  {
   "cell_type": "code",
   "execution_count": 3,
   "id": "a540addb",
   "metadata": {},
   "outputs": [],
   "source": [
    "path = '/Users/ericfitchwell/Documents/Grad School/2020_fires.csv'\n",
    "\n",
    "df = read_data(path)\n"
   ]
  },
  {
   "cell_type": "code",
   "execution_count": 4,
   "id": "74449fb7",
   "metadata": {},
   "outputs": [],
   "source": [
    "def split_data(df,months_excluded=3):\n",
    "    \"\"\"\n",
    "    split data based on dates... needs improvement but getting going\n",
    "    change number of months to holdout\n",
    "    \"\"\"\n",
    "    X = df.loc[:,df.columns != 'minutes']\n",
    "    y = df['minutes']\n",
    "    \n",
    "    date_max = max(df['alarm_format'])\n",
    "    \n",
    "    train_date_max = date_max - pd.DateOffset(months=months_excluded)\n",
    "\n",
    "    \n",
    "    X_train, y_train = X[X.alarm_format <= train_date_max], y[X.alarm_format <= train_date_max]\n",
    "    X_test, y_test = X[X.alarm_format > train_date_max] , y[X.alarm_format > train_date_max]\n",
    "    \n",
    "    X_train.drop(['arrival_format','alarm_format'],axis=1,inplace=True)\n",
    "    X_test.drop(['arrival_format','alarm_format'],axis=1,inplace=True)\n",
    "    \n",
    "    ############################### needs encoded\n",
    "    lbl = preprocessing.LabelEncoder()\n",
    "    \n",
    "    X_train['day_of_week'] = lbl.fit_transform(X_train['day_of_week'].astype(str))\n",
    "    X_train['battalion'] = lbl.fit_transform(X_train['battalion'].astype(str))\n",
    "    X_train['primary_situation'] = lbl.fit_transform(X_train['primary_situation'].astype(str))\n",
    "    X_train['action_taken_primary'] = lbl.fit_transform(X_train['action_taken_primary'].astype(str))\n",
    "    X_train['property_use'] = lbl.fit_transform(X_train['property_use'].astype(str))\n",
    "    X_train['neighborhood_district'] = lbl.fit_transform(X_train['neighborhood_district'].astype(str))\n",
    "    X_train['structure_type'] = lbl.fit_transform(X_train['structure_type'].astype(str))\n",
    "    X_train['area_of_fire_origin'] = lbl.fit_transform(X_train['area_of_fire_origin'].astype(str))\n",
    "    X_train['detector_type'] = lbl.fit_transform(X_train['detector_type'].astype(str))\n",
    "    X_train['detector_operation'] = lbl.fit_transform(X_train['detector_operation'].astype(str))\n",
    "    \n",
    "    X_test['day_of_week'] = lbl.fit_transform(X_test['day_of_week'].astype(str))\n",
    "    X_test['battalion'] = lbl.fit_transform(X_test['battalion'].astype(str))\n",
    "    X_test['primary_situation'] = lbl.fit_transform(X_test['primary_situation'].astype(str))\n",
    "    X_test['action_taken_primary'] = lbl.fit_transform(X_test['action_taken_primary'].astype(str))\n",
    "    X_test['property_use'] = lbl.fit_transform(X_test['property_use'].astype(str))\n",
    "    X_test['neighborhood_district'] = lbl.fit_transform(X_test['neighborhood_district'].astype(str))\n",
    "    X_test['structure_type'] = lbl.fit_transform(X_test['structure_type'].astype(str))\n",
    "    X_test['area_of_fire_origin'] = lbl.fit_transform(X_test['area_of_fire_origin'].astype(str))\n",
    "    X_test['detector_type'] = lbl.fit_transform(X_test['detector_type'].astype(str))\n",
    "    X_test['detector_operation'] = lbl.fit_transform(X_test['detector_operation'].astype(str))\n",
    "    ###############################\n",
    "    \n",
    "    return X_train, y_train, X_test, y_test"
   ]
  },
  {
   "cell_type": "markdown",
   "id": "2bb88c2e",
   "metadata": {},
   "source": [
    "### XGBoost Feature Measurements\n",
    "\n",
    "\n",
    "* ‘weight’ - the number of times a feature is used to split the data across all trees.\n",
    "* ‘gain’ - the average gain across all splits the feature is used in.\n",
    "* ‘cover’ - the average coverage across all splits the feature is used in.\n",
    "* ‘total_gain’ - the total gain across all splits the feature is used in.\n",
    "* ‘total_cover’ - the total coverage across all splits the feature is used in.\n",
    "\n",
    "\n",
    "[XGBoost Docs](https://xgboost.readthedocs.io/en/latest/python/python_api.html#module-xgboost.sklearn)"
   ]
  },
  {
   "cell_type": "code",
   "execution_count": 5,
   "id": "568c54f0",
   "metadata": {},
   "outputs": [],
   "source": [
    "def run_model(df):\n",
    "    \n",
    "    X_train, y_train, X_test, y_test = split_data(df)\n",
    "    \n",
    "    model = XGBRegressor(max_depth=3,\n",
    "                     n_estimators=100,\n",
    "                     min_child_weight=2,\n",
    "                     learning_rate=.2)\n",
    "    \n",
    "    \n",
    "    model.fit(X_train,y_train,verbose=False)\n",
    "    \n",
    "    \n",
    "    y_pred = model.predict(X_test)\n",
    "\n",
    "    df_out = pd.DataFrame()\n",
    "\n",
    "    df_out['preds'] = y_pred\n",
    "    \n",
    "    return df_out, model"
   ]
  },
  {
   "cell_type": "code",
   "execution_count": 6,
   "id": "acbb7d86",
   "metadata": {},
   "outputs": [],
   "source": [
    "df1, res = run_model(df)"
   ]
  },
  {
   "cell_type": "code",
   "execution_count": 7,
   "id": "7b1d2e3e",
   "metadata": {},
   "outputs": [],
   "source": [
    "def show_importance(model,metric='weight'):\n",
    "    \"\"\"\n",
    "    \n",
    "    show feature importance by metric interested in, see xgboost docs for more\n",
    "    \n",
    "    \"\"\"\n",
    "    feature_important = model.get_booster().get_score(importance_type=metric)\n",
    "    keys = list(feature_important.keys())\n",
    "    values = list(feature_important.values())\n",
    "\n",
    "    data = pd.DataFrame(data=values, index=keys, columns=[\"score\"]).sort_values(by = \"score\", ascending=False)\n",
    "    \n",
    "    return data.plot(kind='barh')"
   ]
  },
  {
   "cell_type": "code",
   "execution_count": 8,
   "id": "b0a73a82",
   "metadata": {},
   "outputs": [
    {
     "data": {
      "text/plain": [
       "<AxesSubplot:>"
      ]
     },
     "execution_count": 8,
     "metadata": {},
     "output_type": "execute_result"
    },
    {
     "data": {
      "image/png": "[encoded data removed]",
      "text/plain": [
       "<Figure size 432x288 with 1 Axes>"
      ]
     },
     "metadata": {
      "needs_background": "light"
     },
     "output_type": "display_data"
    }
   ],
   "source": [
    "show_importance(res,'gain')"
   ]
  },
  {
   "cell_type": "markdown",
   "id": "6df7d492",
   "metadata": {},
   "source": [
    "## EDA On Response to Prep for Outlier Model\n",
    "\n",
    "---\n",
    "\n",
    "* See if distance matters on outlier responses"
   ]
  },
  {
   "cell_type": "code",
   "execution_count": 9,
   "id": "5fd882db",
   "metadata": {},
   "outputs": [
    {
     "data": {
      "text/plain": [
       "count    46519.000000\n",
       "mean         4.476618\n",
       "std          2.661556\n",
       "min          0.000000\n",
       "25%          3.166667\n",
       "50%          4.050000\n",
       "75%          5.183333\n",
       "max        104.533333\n",
       "Name: minutes, dtype: float64"
      ]
     },
     "execution_count": 9,
     "metadata": {},
     "output_type": "execute_result"
    }
   ],
   "source": [
    "df['minutes'].describe()"
   ]
  },
  {
   "cell_type": "code",
   "execution_count": 10,
   "id": "a5d7066c",
   "metadata": {},
   "outputs": [
    {
     "data": {
      "text/plain": [
       "[Text(0.5, 1.0, 'Fire Response Time')]"
      ]
     },
     "execution_count": 10,
     "metadata": {},
     "output_type": "execute_result"
    },
    {
     "data": {
      "image/png": "[encoded data removed]",
      "text/plain": [
       "<Figure size 432x288 with 1 Axes>"
      ]
     },
     "metadata": {
      "needs_background": "light"
     },
     "output_type": "display_data"
    }
   ],
   "source": [
    "sns.histplot(data=df,x='minutes',kde=True).set(title='Fire Response Time')"
   ]
  },
  {
   "cell_type": "code",
   "execution_count": 11,
   "id": "d44976c8",
   "metadata": {},
   "outputs": [],
   "source": [
    "def find_percentiles(df):\n",
    "    \"\"\"\n",
    "    adds a column with the percentiles for column declared and returns outlier records\n",
    "    \n",
    "    outliers defined as > 90th percentile\n",
    "    \n",
    "    \"\"\"\n",
    "    \n",
    "    df['per'] = df.minutes.rank(pct = True)\n",
    "    \n",
    "    df1 = df.query('per > .9')\n",
    "    \n",
    "    df1.drop(['per'],axis=1,inplace=True)\n",
    "    \n",
    "    return df1"
   ]
  },
  {
   "cell_type": "code",
   "execution_count": 12,
   "id": "847dd972",
   "metadata": {},
   "outputs": [],
   "source": [
    "df2 = find_percentiles(df)"
   ]
  },
  {
   "cell_type": "code",
   "execution_count": 14,
   "id": "be79dc91",
   "metadata": {},
   "outputs": [
    {
     "data": {
      "text/plain": [
       "[Text(0.5, 1.0, 'Fire Response Time 90th Percentiles')]"
      ]
     },
     "execution_count": 14,
     "metadata": {},
     "output_type": "execute_result"
    },
    {
     "data": {
      "image/png": "[encoded data removed]",
      "text/plain": [
       "<Figure size 432x288 with 1 Axes>"
      ]
     },
     "metadata": {
      "needs_background": "light"
     },
     "output_type": "display_data"
    }
   ],
   "source": [
    "sns.histplot(data=df2\n",
    "            ,x='minutes',kde=True).set(title='Fire Response Time 90th Percentiles')"
   ]
  },
  {
   "cell_type": "code",
   "execution_count": 15,
   "id": "6e295585",
   "metadata": {},
   "outputs": [],
   "source": [
    "df3, res2 = run_model(df2)"
   ]
  },
  {
   "cell_type": "code",
   "execution_count": 18,
   "id": "3b6295e5",
   "metadata": {},
   "outputs": [
    {
     "data": {
      "text/plain": [
       "<AxesSubplot:>"
      ]
     },
     "execution_count": 18,
     "metadata": {},
     "output_type": "execute_result"
    },
    {
     "data": {
      "image/png": "[encoded data removed]",
      "text/plain": [
       "<Figure size 432x288 with 1 Axes>"
      ]
     },
     "metadata": {
      "needs_background": "light"
     },
     "output_type": "display_data"
    }
   ],
   "source": [
    "show_importance(res2,'gain')"
   ]
  }
 ],
 "metadata": {
  "kernelspec": {
   "display_name": "Python 3",
   "language": "python",
   "name": "python3"
  },
  "language_info": {
   "codemirror_mode": {
    "name": "ipython",
    "version": 3
   },
   "file_extension": ".py",
   "mimetype": "text/x-python",
   "name": "python",
   "nbconvert_exporter": "python",
   "pygments_lexer": "ipython3",
   "version": "3.8.8"
  }
 },
 "nbformat": 4,
 "nbformat_minor": 5
}
